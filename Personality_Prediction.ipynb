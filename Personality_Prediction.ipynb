{
  "nbformat": 4,
  "nbformat_minor": 0,
  "metadata": {
    "colab": {
      "name": "B20AI002_Bonus-Project.ipynb",
      "provenance": [],
      "collapsed_sections": [
        "wJ7xvHHIXaxy",
        "cUhfkS5mXVW_",
        "JN3AXV4Bx19r",
        "wPdc4oveZhAK",
        "IGd3zasB-M37",
        "2wraL-uNTrNU",
        "cCbJbWwcTuDE",
        "S1bky6X268xT",
        "GEyzc_9rcksb",
        "AUsgM3AnaCH9",
        "kXovEXMbbTYv",
        "gjJ64JVIw8M9",
        "hlZccvWuxJkD",
        "uhWYXIdiyIBc",
        "nvoxzv8Wx7RQ",
        "J1FLK1wIx1g4",
        "50z_fKiExtgy",
        "AYpSpKi9yYv7",
        "hybrhNXSH87Q",
        "0a60FTo4IDoi",
        "izKiQOrJS5TY",
        "OIS7ejWFS5M-",
        "rmyMwogLVXe3",
        "6Z8KEqzPVD-Y",
        "Q56B2Zg6WXDX",
        "wjs4E5X2W85G"
      ]
    },
    "kernelspec": {
      "name": "python3",
      "display_name": "Python 3"
    },
    "language_info": {
      "name": "python"
    }
  },
  "cells": [
    {
      "cell_type": "markdown",
      "source": [
        "# **PERSONALITY PREDICTION**"
      ],
      "metadata": {
        "id": "nVB4hCLj8BSO"
      }
    },
    {
      "cell_type": "code",
      "execution_count": 770,
      "metadata": {
        "colab": {
          "base_uri": "https://localhost:8080/"
        },
        "id": "aI0tQbS4WCs7",
        "outputId": "517db20f-eb2d-4431-d688-e03fb05d54a2"
      },
      "outputs": [
        {
          "output_type": "stream",
          "name": "stdout",
          "text": [
            "/content/drive/MyDrive/PRML/Bonus_Project\n"
          ]
        }
      ],
      "source": [
        "%cd /content/drive/MyDrive/PRML/Bonus_Project"
      ]
    },
    {
      "cell_type": "markdown",
      "source": [
        "##Libraries used"
      ],
      "metadata": {
        "id": "wJ7xvHHIXaxy"
      }
    },
    {
      "cell_type": "code",
      "source": [
        "import pandas as pd\n",
        "import numpy as np\n",
        "import string\n",
        "from nltk.stem import WordNetLemmatizer\n",
        "from nltk.corpus import stopwords\n",
        "import matplotlib.pyplot as plt \n",
        "%matplotlib inline\n",
        "import seaborn as sns\n",
        "from wordcloud import WordCloud, STOPWORDS\n",
        "\n",
        "import warnings\n",
        "warnings.simplefilter(action='ignore', category=FutureWarning)\n",
        "!pip install contractions\n",
        "import contractions\n",
        "import re\n",
        "from bs4 import BeautifulSoup\n",
        "\n",
        "import nltk\n",
        "nltk.download('wordnet')\n",
        "nltk.download('stopwords')\n",
        "\n",
        "from sklearn.linear_model import LogisticRegression\n",
        "from sklearn.svm import SVC\n",
        "from sklearn.ensemble import AdaBoostClassifier\n",
        "import lightgbm as lgb\n",
        "from sklearn.naive_bayes import MultinomialNB\n",
        "from sklearn.feature_extraction.text import CountVectorizer\n",
        "from sklearn.feature_extraction.text import TfidfVectorizer\n",
        "from sklearn.model_selection import cross_val_score, train_test_split\n",
        "from sklearn.model_selection import GridSearchCV\n",
        "\n",
        "from sklearn.metrics import accuracy_score,log_loss\n",
        "from sklearn.metrics import classification_report, confusion_matrix\n",
        "from sklearn.metrics import make_scorer\n",
        "\n",
        "from tqdm import tqdm\n",
        "from sklearn import metrics"
      ],
      "metadata": {
        "id": "iFu0YgiyXfER",
        "colab": {
          "base_uri": "https://localhost:8080/"
        },
        "outputId": "b50b8489-c703-4168-c230-8ce8755374e9"
      },
      "execution_count": 771,
      "outputs": [
        {
          "output_type": "stream",
          "name": "stdout",
          "text": [
            "Requirement already satisfied: contractions in /usr/local/lib/python3.7/dist-packages (0.1.72)\n",
            "Requirement already satisfied: textsearch>=0.0.21 in /usr/local/lib/python3.7/dist-packages (from contractions) (0.0.21)\n",
            "Requirement already satisfied: pyahocorasick in /usr/local/lib/python3.7/dist-packages (from textsearch>=0.0.21->contractions) (1.4.4)\n",
            "Requirement already satisfied: anyascii in /usr/local/lib/python3.7/dist-packages (from textsearch>=0.0.21->contractions) (0.3.1)\n",
            "[nltk_data] Downloading package wordnet to /root/nltk_data...\n",
            "[nltk_data]   Package wordnet is already up-to-date!\n",
            "[nltk_data] Downloading package stopwords to /root/nltk_data...\n",
            "[nltk_data]   Package stopwords is already up-to-date!\n"
          ]
        }
      ]
    },
    {
      "cell_type": "markdown",
      "source": [
        "##Importing dataset"
      ],
      "metadata": {
        "id": "cUhfkS5mXVW_"
      }
    },
    {
      "cell_type": "code",
      "source": [
        "df = pd.read_csv('mbti_1.csv')\n",
        "df"
      ],
      "metadata": {
        "colab": {
          "base_uri": "https://localhost:8080/",
          "height": 423
        },
        "id": "mhsCNXLfXZIA",
        "outputId": "102709c8-b517-475a-eabf-c1533a736341"
      },
      "execution_count": 772,
      "outputs": [
        {
          "output_type": "execute_result",
          "data": {
            "text/plain": [
              "      type                                              posts\n",
              "0     INFJ  'http://www.youtube.com/watch?v=qsXHcwe3krw|||...\n",
              "1     ENTP  'I'm finding the lack of me in these posts ver...\n",
              "2     INTP  'Good one  _____   https://www.youtube.com/wat...\n",
              "3     INTJ  'Dear INTP,   I enjoyed our conversation the o...\n",
              "4     ENTJ  'You're fired.|||That's another silly misconce...\n",
              "...    ...                                                ...\n",
              "8670  ISFP  'https://www.youtube.com/watch?v=t8edHB_h908||...\n",
              "8671  ENFP  'So...if this thread already exists someplace ...\n",
              "8672  INTP  'So many questions when i do these things.  I ...\n",
              "8673  INFP  'I am very conflicted right now when it comes ...\n",
              "8674  INFP  'It has been too long since I have been on per...\n",
              "\n",
              "[8675 rows x 2 columns]"
            ],
            "text/html": [
              "\n",
              "  <div id=\"df-664a69ca-f10a-4648-8d66-105b58442966\">\n",
              "    <div class=\"colab-df-container\">\n",
              "      <div>\n",
              "<style scoped>\n",
              "    .dataframe tbody tr th:only-of-type {\n",
              "        vertical-align: middle;\n",
              "    }\n",
              "\n",
              "    .dataframe tbody tr th {\n",
              "        vertical-align: top;\n",
              "    }\n",
              "\n",
              "    .dataframe thead th {\n",
              "        text-align: right;\n",
              "    }\n",
              "</style>\n",
              "<table border=\"1\" class=\"dataframe\">\n",
              "  <thead>\n",
              "    <tr style=\"text-align: right;\">\n",
              "      <th></th>\n",
              "      <th>type</th>\n",
              "      <th>posts</th>\n",
              "    </tr>\n",
              "  </thead>\n",
              "  <tbody>\n",
              "    <tr>\n",
              "      <th>0</th>\n",
              "      <td>INFJ</td>\n",
              "      <td>'http://www.youtube.com/watch?v=qsXHcwe3krw|||...</td>\n",
              "    </tr>\n",
              "    <tr>\n",
              "      <th>1</th>\n",
              "      <td>ENTP</td>\n",
              "      <td>'I'm finding the lack of me in these posts ver...</td>\n",
              "    </tr>\n",
              "    <tr>\n",
              "      <th>2</th>\n",
              "      <td>INTP</td>\n",
              "      <td>'Good one  _____   https://www.youtube.com/wat...</td>\n",
              "    </tr>\n",
              "    <tr>\n",
              "      <th>3</th>\n",
              "      <td>INTJ</td>\n",
              "      <td>'Dear INTP,   I enjoyed our conversation the o...</td>\n",
              "    </tr>\n",
              "    <tr>\n",
              "      <th>4</th>\n",
              "      <td>ENTJ</td>\n",
              "      <td>'You're fired.|||That's another silly misconce...</td>\n",
              "    </tr>\n",
              "    <tr>\n",
              "      <th>...</th>\n",
              "      <td>...</td>\n",
              "      <td>...</td>\n",
              "    </tr>\n",
              "    <tr>\n",
              "      <th>8670</th>\n",
              "      <td>ISFP</td>\n",
              "      <td>'https://www.youtube.com/watch?v=t8edHB_h908||...</td>\n",
              "    </tr>\n",
              "    <tr>\n",
              "      <th>8671</th>\n",
              "      <td>ENFP</td>\n",
              "      <td>'So...if this thread already exists someplace ...</td>\n",
              "    </tr>\n",
              "    <tr>\n",
              "      <th>8672</th>\n",
              "      <td>INTP</td>\n",
              "      <td>'So many questions when i do these things.  I ...</td>\n",
              "    </tr>\n",
              "    <tr>\n",
              "      <th>8673</th>\n",
              "      <td>INFP</td>\n",
              "      <td>'I am very conflicted right now when it comes ...</td>\n",
              "    </tr>\n",
              "    <tr>\n",
              "      <th>8674</th>\n",
              "      <td>INFP</td>\n",
              "      <td>'It has been too long since I have been on per...</td>\n",
              "    </tr>\n",
              "  </tbody>\n",
              "</table>\n",
              "<p>8675 rows × 2 columns</p>\n",
              "</div>\n",
              "      <button class=\"colab-df-convert\" onclick=\"convertToInteractive('df-664a69ca-f10a-4648-8d66-105b58442966')\"\n",
              "              title=\"Convert this dataframe to an interactive table.\"\n",
              "              style=\"display:none;\">\n",
              "        \n",
              "  <svg xmlns=\"http://www.w3.org/2000/svg\" height=\"24px\"viewBox=\"0 0 24 24\"\n",
              "       width=\"24px\">\n",
              "    <path d=\"M0 0h24v24H0V0z\" fill=\"none\"/>\n",
              "    <path d=\"M18.56 5.44l.94 2.06.94-2.06 2.06-.94-2.06-.94-.94-2.06-.94 2.06-2.06.94zm-11 1L8.5 8.5l.94-2.06 2.06-.94-2.06-.94L8.5 2.5l-.94 2.06-2.06.94zm10 10l.94 2.06.94-2.06 2.06-.94-2.06-.94-.94-2.06-.94 2.06-2.06.94z\"/><path d=\"M17.41 7.96l-1.37-1.37c-.4-.4-.92-.59-1.43-.59-.52 0-1.04.2-1.43.59L10.3 9.45l-7.72 7.72c-.78.78-.78 2.05 0 2.83L4 21.41c.39.39.9.59 1.41.59.51 0 1.02-.2 1.41-.59l7.78-7.78 2.81-2.81c.8-.78.8-2.07 0-2.86zM5.41 20L4 18.59l7.72-7.72 1.47 1.35L5.41 20z\"/>\n",
              "  </svg>\n",
              "      </button>\n",
              "      \n",
              "  <style>\n",
              "    .colab-df-container {\n",
              "      display:flex;\n",
              "      flex-wrap:wrap;\n",
              "      gap: 12px;\n",
              "    }\n",
              "\n",
              "    .colab-df-convert {\n",
              "      background-color: #E8F0FE;\n",
              "      border: none;\n",
              "      border-radius: 50%;\n",
              "      cursor: pointer;\n",
              "      display: none;\n",
              "      fill: #1967D2;\n",
              "      height: 32px;\n",
              "      padding: 0 0 0 0;\n",
              "      width: 32px;\n",
              "    }\n",
              "\n",
              "    .colab-df-convert:hover {\n",
              "      background-color: #E2EBFA;\n",
              "      box-shadow: 0px 1px 2px rgba(60, 64, 67, 0.3), 0px 1px 3px 1px rgba(60, 64, 67, 0.15);\n",
              "      fill: #174EA6;\n",
              "    }\n",
              "\n",
              "    [theme=dark] .colab-df-convert {\n",
              "      background-color: #3B4455;\n",
              "      fill: #D2E3FC;\n",
              "    }\n",
              "\n",
              "    [theme=dark] .colab-df-convert:hover {\n",
              "      background-color: #434B5C;\n",
              "      box-shadow: 0px 1px 3px 1px rgba(0, 0, 0, 0.15);\n",
              "      filter: drop-shadow(0px 1px 2px rgba(0, 0, 0, 0.3));\n",
              "      fill: #FFFFFF;\n",
              "    }\n",
              "  </style>\n",
              "\n",
              "      <script>\n",
              "        const buttonEl =\n",
              "          document.querySelector('#df-664a69ca-f10a-4648-8d66-105b58442966 button.colab-df-convert');\n",
              "        buttonEl.style.display =\n",
              "          google.colab.kernel.accessAllowed ? 'block' : 'none';\n",
              "\n",
              "        async function convertToInteractive(key) {\n",
              "          const element = document.querySelector('#df-664a69ca-f10a-4648-8d66-105b58442966');\n",
              "          const dataTable =\n",
              "            await google.colab.kernel.invokeFunction('convertToInteractive',\n",
              "                                                     [key], {});\n",
              "          if (!dataTable) return;\n",
              "\n",
              "          const docLinkHtml = 'Like what you see? Visit the ' +\n",
              "            '<a target=\"_blank\" href=https://colab.research.google.com/notebooks/data_table.ipynb>data table notebook</a>'\n",
              "            + ' to learn more about interactive tables.';\n",
              "          element.innerHTML = '';\n",
              "          dataTable['output_type'] = 'display_data';\n",
              "          await google.colab.output.renderOutput(dataTable, element);\n",
              "          const docLink = document.createElement('div');\n",
              "          docLink.innerHTML = docLinkHtml;\n",
              "          element.appendChild(docLink);\n",
              "        }\n",
              "      </script>\n",
              "    </div>\n",
              "  </div>\n",
              "  "
            ]
          },
          "metadata": {},
          "execution_count": 772
        }
      ]
    },
    {
      "cell_type": "code",
      "source": [
        "df.info()"
      ],
      "metadata": {
        "colab": {
          "base_uri": "https://localhost:8080/"
        },
        "id": "ndYdU1yhtLHW",
        "outputId": "3c2257b2-8d1d-4118-eaa5-653acf36aa4f"
      },
      "execution_count": 773,
      "outputs": [
        {
          "output_type": "stream",
          "name": "stdout",
          "text": [
            "<class 'pandas.core.frame.DataFrame'>\n",
            "RangeIndex: 8675 entries, 0 to 8674\n",
            "Data columns (total 2 columns):\n",
            " #   Column  Non-Null Count  Dtype \n",
            "---  ------  --------------  ----- \n",
            " 0   type    8675 non-null   object\n",
            " 1   posts   8675 non-null   object\n",
            "dtypes: object(2)\n",
            "memory usage: 135.7+ KB\n"
          ]
        }
      ]
    },
    {
      "cell_type": "markdown",
      "source": [
        "##Posts written by each personality type"
      ],
      "metadata": {
        "id": "JN3AXV4Bx19r"
      }
    },
    {
      "cell_type": "code",
      "source": [
        "type_sum = df.groupby(['type']).count()\n",
        "type_sum.sort_values('posts', ascending=False, inplace=True)\n",
        "type_sum"
      ],
      "metadata": {
        "colab": {
          "base_uri": "https://localhost:8080/",
          "height": 582
        },
        "id": "Zhau5o9ix_se",
        "outputId": "5dcca6dd-1e36-41c0-d594-0f6a7d15718a"
      },
      "execution_count": 774,
      "outputs": [
        {
          "output_type": "execute_result",
          "data": {
            "text/plain": [
              "      posts\n",
              "type       \n",
              "INFP   1832\n",
              "INFJ   1470\n",
              "INTP   1304\n",
              "INTJ   1091\n",
              "ENTP    685\n",
              "ENFP    675\n",
              "ISTP    337\n",
              "ISFP    271\n",
              "ENTJ    231\n",
              "ISTJ    205\n",
              "ENFJ    190\n",
              "ISFJ    166\n",
              "ESTP     89\n",
              "ESFP     48\n",
              "ESFJ     42\n",
              "ESTJ     39"
            ],
            "text/html": [
              "\n",
              "  <div id=\"df-15d011e9-1f4e-48f0-8f9e-56bd3a6f280b\">\n",
              "    <div class=\"colab-df-container\">\n",
              "      <div>\n",
              "<style scoped>\n",
              "    .dataframe tbody tr th:only-of-type {\n",
              "        vertical-align: middle;\n",
              "    }\n",
              "\n",
              "    .dataframe tbody tr th {\n",
              "        vertical-align: top;\n",
              "    }\n",
              "\n",
              "    .dataframe thead th {\n",
              "        text-align: right;\n",
              "    }\n",
              "</style>\n",
              "<table border=\"1\" class=\"dataframe\">\n",
              "  <thead>\n",
              "    <tr style=\"text-align: right;\">\n",
              "      <th></th>\n",
              "      <th>posts</th>\n",
              "    </tr>\n",
              "    <tr>\n",
              "      <th>type</th>\n",
              "      <th></th>\n",
              "    </tr>\n",
              "  </thead>\n",
              "  <tbody>\n",
              "    <tr>\n",
              "      <th>INFP</th>\n",
              "      <td>1832</td>\n",
              "    </tr>\n",
              "    <tr>\n",
              "      <th>INFJ</th>\n",
              "      <td>1470</td>\n",
              "    </tr>\n",
              "    <tr>\n",
              "      <th>INTP</th>\n",
              "      <td>1304</td>\n",
              "    </tr>\n",
              "    <tr>\n",
              "      <th>INTJ</th>\n",
              "      <td>1091</td>\n",
              "    </tr>\n",
              "    <tr>\n",
              "      <th>ENTP</th>\n",
              "      <td>685</td>\n",
              "    </tr>\n",
              "    <tr>\n",
              "      <th>ENFP</th>\n",
              "      <td>675</td>\n",
              "    </tr>\n",
              "    <tr>\n",
              "      <th>ISTP</th>\n",
              "      <td>337</td>\n",
              "    </tr>\n",
              "    <tr>\n",
              "      <th>ISFP</th>\n",
              "      <td>271</td>\n",
              "    </tr>\n",
              "    <tr>\n",
              "      <th>ENTJ</th>\n",
              "      <td>231</td>\n",
              "    </tr>\n",
              "    <tr>\n",
              "      <th>ISTJ</th>\n",
              "      <td>205</td>\n",
              "    </tr>\n",
              "    <tr>\n",
              "      <th>ENFJ</th>\n",
              "      <td>190</td>\n",
              "    </tr>\n",
              "    <tr>\n",
              "      <th>ISFJ</th>\n",
              "      <td>166</td>\n",
              "    </tr>\n",
              "    <tr>\n",
              "      <th>ESTP</th>\n",
              "      <td>89</td>\n",
              "    </tr>\n",
              "    <tr>\n",
              "      <th>ESFP</th>\n",
              "      <td>48</td>\n",
              "    </tr>\n",
              "    <tr>\n",
              "      <th>ESFJ</th>\n",
              "      <td>42</td>\n",
              "    </tr>\n",
              "    <tr>\n",
              "      <th>ESTJ</th>\n",
              "      <td>39</td>\n",
              "    </tr>\n",
              "  </tbody>\n",
              "</table>\n",
              "</div>\n",
              "      <button class=\"colab-df-convert\" onclick=\"convertToInteractive('df-15d011e9-1f4e-48f0-8f9e-56bd3a6f280b')\"\n",
              "              title=\"Convert this dataframe to an interactive table.\"\n",
              "              style=\"display:none;\">\n",
              "        \n",
              "  <svg xmlns=\"http://www.w3.org/2000/svg\" height=\"24px\"viewBox=\"0 0 24 24\"\n",
              "       width=\"24px\">\n",
              "    <path d=\"M0 0h24v24H0V0z\" fill=\"none\"/>\n",
              "    <path d=\"M18.56 5.44l.94 2.06.94-2.06 2.06-.94-2.06-.94-.94-2.06-.94 2.06-2.06.94zm-11 1L8.5 8.5l.94-2.06 2.06-.94-2.06-.94L8.5 2.5l-.94 2.06-2.06.94zm10 10l.94 2.06.94-2.06 2.06-.94-2.06-.94-.94-2.06-.94 2.06-2.06.94z\"/><path d=\"M17.41 7.96l-1.37-1.37c-.4-.4-.92-.59-1.43-.59-.52 0-1.04.2-1.43.59L10.3 9.45l-7.72 7.72c-.78.78-.78 2.05 0 2.83L4 21.41c.39.39.9.59 1.41.59.51 0 1.02-.2 1.41-.59l7.78-7.78 2.81-2.81c.8-.78.8-2.07 0-2.86zM5.41 20L4 18.59l7.72-7.72 1.47 1.35L5.41 20z\"/>\n",
              "  </svg>\n",
              "      </button>\n",
              "      \n",
              "  <style>\n",
              "    .colab-df-container {\n",
              "      display:flex;\n",
              "      flex-wrap:wrap;\n",
              "      gap: 12px;\n",
              "    }\n",
              "\n",
              "    .colab-df-convert {\n",
              "      background-color: #E8F0FE;\n",
              "      border: none;\n",
              "      border-radius: 50%;\n",
              "      cursor: pointer;\n",
              "      display: none;\n",
              "      fill: #1967D2;\n",
              "      height: 32px;\n",
              "      padding: 0 0 0 0;\n",
              "      width: 32px;\n",
              "    }\n",
              "\n",
              "    .colab-df-convert:hover {\n",
              "      background-color: #E2EBFA;\n",
              "      box-shadow: 0px 1px 2px rgba(60, 64, 67, 0.3), 0px 1px 3px 1px rgba(60, 64, 67, 0.15);\n",
              "      fill: #174EA6;\n",
              "    }\n",
              "\n",
              "    [theme=dark] .colab-df-convert {\n",
              "      background-color: #3B4455;\n",
              "      fill: #D2E3FC;\n",
              "    }\n",
              "\n",
              "    [theme=dark] .colab-df-convert:hover {\n",
              "      background-color: #434B5C;\n",
              "      box-shadow: 0px 1px 3px 1px rgba(0, 0, 0, 0.15);\n",
              "      filter: drop-shadow(0px 1px 2px rgba(0, 0, 0, 0.3));\n",
              "      fill: #FFFFFF;\n",
              "    }\n",
              "  </style>\n",
              "\n",
              "      <script>\n",
              "        const buttonEl =\n",
              "          document.querySelector('#df-15d011e9-1f4e-48f0-8f9e-56bd3a6f280b button.colab-df-convert');\n",
              "        buttonEl.style.display =\n",
              "          google.colab.kernel.accessAllowed ? 'block' : 'none';\n",
              "\n",
              "        async function convertToInteractive(key) {\n",
              "          const element = document.querySelector('#df-15d011e9-1f4e-48f0-8f9e-56bd3a6f280b');\n",
              "          const dataTable =\n",
              "            await google.colab.kernel.invokeFunction('convertToInteractive',\n",
              "                                                     [key], {});\n",
              "          if (!dataTable) return;\n",
              "\n",
              "          const docLinkHtml = 'Like what you see? Visit the ' +\n",
              "            '<a target=\"_blank\" href=https://colab.research.google.com/notebooks/data_table.ipynb>data table notebook</a>'\n",
              "            + ' to learn more about interactive tables.';\n",
              "          element.innerHTML = '';\n",
              "          dataTable['output_type'] = 'display_data';\n",
              "          await google.colab.output.renderOutput(dataTable, element);\n",
              "          const docLink = document.createElement('div');\n",
              "          docLink.innerHTML = docLinkHtml;\n",
              "          element.appendChild(docLink);\n",
              "        }\n",
              "      </script>\n",
              "    </div>\n",
              "  </div>\n",
              "  "
            ]
          },
          "metadata": {},
          "execution_count": 774
        }
      ]
    },
    {
      "cell_type": "markdown",
      "source": [
        "##Plotting personality types"
      ],
      "metadata": {
        "id": "wPdc4oveZhAK"
      }
    },
    {
      "cell_type": "code",
      "source": [
        "dim = (15.0, 4.0)\n",
        "fig, ax = plt.subplots(figsize=dim)\n",
        "cmrmap = sns.color_palette('CMRmap', 16)\n",
        "sns.set_palette(cmrmap)\n",
        "sns.countplot(x='type', data=df,\n",
        "              order=['ENFJ', 'ENFP', 'ENTJ', 'ENTP', 'ESFJ', 'ESFP', 'ESTJ',\n",
        "                     'ESTP', 'INFJ', 'INFP', 'INTJ', 'INTP', 'ISFJ', 'ISFP',\n",
        "                     'ISTJ', 'ISTP'])\n",
        "plt.title('Distribution of Personality Types in the Dataset', fontsize=16)\n",
        "plt.xlabel('Personality Type')\n",
        "plt.ylabel('Count of Posts')\n",
        "plt.xticks(fontsize=12)\n",
        "plt.yticks(fontsize=12)\n",
        "plt.show()"
      ],
      "metadata": {
        "colab": {
          "base_uri": "https://localhost:8080/",
          "height": 300
        },
        "id": "bahAfwI2ZYwJ",
        "outputId": "fd4cdc00-b5d0-4c2c-8e6b-1646ada41f0d"
      },
      "execution_count": 775,
      "outputs": [
        {
          "output_type": "display_data",
          "data": {
            "text/plain": [
              "<Figure size 1080x288 with 1 Axes>"
            ],
            "image/png": "[encoded data removed]"
          },
          "metadata": {
            "needs_background": "light"
          }
        }
      ]
    },
    {
      "cell_type": "markdown",
      "source": [
        "The 'ES' personality types have the least posts, whilst the 'IN' personalities have the most posts. This suggests that the data is imbalanced."
      ],
      "metadata": {
        "id": "ZnLpjNH2cB2r"
      }
    },
    {
      "cell_type": "markdown",
      "source": [
        "##Create a binary column for each of the 4 dimension types and handling data imbalance"
      ],
      "metadata": {
        "id": "NQpzKahkb_5T"
      }
    },
    {
      "cell_type": "code",
      "source": [
        "df['Mind'] = df['type'].map(lambda x: 'Extroverted'\n",
        "                                  if x[0] == 'E' else 'Introverted')\n",
        "df['Energy'] = df['type'].map(lambda x: 'Intuitive'\n",
        "                                    if x[1] == 'N' else 'Sensing')\n",
        "df['Nature'] = df['type'].map(lambda x: 'Thinking'\n",
        "                                    if x[2] == 'T' else 'Feeling')\n",
        "df['Tactics'] = df['type'].map(lambda x: 'Judging'\n",
        "                                     if x[3] == 'J' else 'Perceiving')"
      ],
      "metadata": {
        "id": "uRgiJ1y1byd3"
      },
      "execution_count": 776,
      "outputs": []
    },
    {
      "cell_type": "markdown",
      "source": [
        "###Mind"
      ],
      "metadata": {
        "id": "d4PEIYlicM_n"
      }
    },
    {
      "cell_type": "code",
      "source": [
        "IEcolors = sns.xkcd_palette(['red', 'soft pink'])\n",
        "sns.set_palette(IEcolors)\n",
        "sns.countplot(x='Mind', data=df, order=['Introverted', 'Extroverted'])\n",
        "plt.ylim(0, 8000)\n",
        "plt.xticks(fontsize=12)\n",
        "plt.yticks(fontsize=12)\n",
        "plt.xlabel('Mind')\n",
        "plt.ylabel('Count of each Personality Type')\n",
        "plt.title('Introversion vs. Extroversion', fontsize=14)\n",
        "plt.show()"
      ],
      "metadata": {
        "colab": {
          "base_uri": "https://localhost:8080/",
          "height": 299
        },
        "id": "lb2r4fL0cOT-",
        "outputId": "9b4cbf07-99dd-40da-ad71-ceca42c25831"
      },
      "execution_count": 777,
      "outputs": [
        {
          "output_type": "display_data",
          "data": {
            "text/plain": [
              "<Figure size 432x288 with 1 Axes>"
            ],
            "image/png": "[encoded data removed]"
          },
          "metadata": {
            "needs_background": "light"
          }
        }
      ]
    },
    {
      "cell_type": "markdown",
      "source": [
        "####Handling data imbalance"
      ],
      "metadata": {
        "id": "-85VZXUWnmK-"
      }
    },
    {
      "cell_type": "code",
      "source": [
        "df['Mind'].value_counts()"
      ],
      "metadata": {
        "colab": {
          "base_uri": "https://localhost:8080/"
        },
        "id": "L7Vj0j2Iko8X",
        "outputId": "146e5ff2-77ff-4c1f-ad5a-57edf7b403cd"
      },
      "execution_count": 778,
      "outputs": [
        {
          "output_type": "execute_result",
          "data": {
            "text/plain": [
              "Introverted    6676\n",
              "Extroverted    1999\n",
              "Name: Mind, dtype: int64"
            ]
          },
          "metadata": {},
          "execution_count": 778
        }
      ]
    },
    {
      "cell_type": "code",
      "source": [
        "from sklearn.utils import resample\n",
        "#create two different dataframe of majority and minority class \n",
        "df_majority = df[df['Mind']=='Introverted'] \n",
        "\n",
        "df_minority = df[df['Mind']=='Extroverted'] \n",
        "\n",
        "# upsample minority class\n",
        "df = resample(df_minority, \n",
        "                                 replace=True,    # sample with replacement\n",
        "                                 n_samples= 6676, # to match majority class\n",
        "                                 random_state=42)  # reproducible results\n",
        "# Combine majority class with upsampled minority class\n",
        "df = pd.concat([df, df_majority])"
      ],
      "metadata": {
        "id": "CRBou6dSjvMM"
      },
      "execution_count": 779,
      "outputs": []
    },
    {
      "cell_type": "code",
      "source": [
        "IEcolors = sns.xkcd_palette(['red', 'soft pink'])\n",
        "sns.set_palette(IEcolors)\n",
        "sns.countplot(x='Mind', data=df, order=['Introverted', 'Extroverted'])\n",
        "plt.ylim(0, 8000)\n",
        "plt.xticks(fontsize=12)\n",
        "plt.yticks(fontsize=12)\n",
        "plt.xlabel('Mind')\n",
        "plt.ylabel('Count of each Personality Type')\n",
        "plt.title('Introversion vs. Extroversion', fontsize=14)\n",
        "plt.show()"
      ],
      "metadata": {
        "colab": {
          "base_uri": "https://localhost:8080/",
          "height": 299
        },
        "id": "kaazTXSenZcU",
        "outputId": "5b09a043-e161-457b-b271-e01b2678c154"
      },
      "execution_count": 780,
      "outputs": [
        {
          "output_type": "display_data",
          "data": {
            "text/plain": [
              "<Figure size 432x288 with 1 Axes>"
            ],
            "image/png": "[encoded data removed]"
          },
          "metadata": {
            "needs_background": "light"
          }
        }
      ]
    },
    {
      "cell_type": "markdown",
      "source": [
        "###Energy"
      ],
      "metadata": {
        "id": "b7SXUy7xcn4n"
      }
    },
    {
      "cell_type": "code",
      "source": [
        "NScolors = sns.xkcd_palette(['blue', 'light blue'])\n",
        "sns.set_palette(NScolors)\n",
        "sns.countplot(x='Energy', data=df, order=['Intuitive', 'Sensing'])\n",
        "plt.title('Intuitive vs. Sensing', fontsize=14)\n",
        "plt.ylim(0, 15000)\n",
        "plt.xticks(fontsize=12)\n",
        "plt.yticks(fontsize=12)\n",
        "plt.show()"
      ],
      "metadata": {
        "colab": {
          "base_uri": "https://localhost:8080/",
          "height": 299
        },
        "id": "kvl6pvhQcp2N",
        "outputId": "472c830a-7d0f-40e4-fe39-ee49a17385c4"
      },
      "execution_count": 781,
      "outputs": [
        {
          "output_type": "display_data",
          "data": {
            "text/plain": [
              "<Figure size 432x288 with 1 Axes>"
            ],
            "image/png": "[encoded data removed]"
          },
          "metadata": {
            "needs_background": "light"
          }
        }
      ]
    },
    {
      "cell_type": "markdown",
      "source": [
        "####Handling data imbalance"
      ],
      "metadata": {
        "id": "THexgO2fpbRG"
      }
    },
    {
      "cell_type": "code",
      "source": [
        "df['Energy'].value_counts()"
      ],
      "metadata": {
        "colab": {
          "base_uri": "https://localhost:8080/"
        },
        "outputId": "c5ff8dbd-9cb7-4f97-9cbb-fd9b2795ea93",
        "id": "ibX22bKzpbRH"
      },
      "execution_count": 782,
      "outputs": [
        {
          "output_type": "execute_result",
          "data": {
            "text/plain": [
              "Intuitive    11631\n",
              "Sensing       1721\n",
              "Name: Energy, dtype: int64"
            ]
          },
          "metadata": {},
          "execution_count": 782
        }
      ]
    },
    {
      "cell_type": "code",
      "source": [
        "from sklearn.utils import resample\n",
        "#create two different dataframe of majority and minority class \n",
        "df_majority = df[df['Energy']=='Intuitive'] \n",
        "\n",
        "df_minority = df[df['Energy']=='Sensing'] \n",
        "\n",
        "# upsample minority class\n",
        "df = resample(df_minority, \n",
        "                                 replace=True,    # sample with replacement\n",
        "                                 n_samples= 11631, # to match majority class\n",
        "                                 random_state=42)  # reproducible results\n",
        "# Combine majority class with upsampled minority class\n",
        "df = pd.concat([df, df_majority])"
      ],
      "metadata": {
        "id": "gMOnWb0opbRI"
      },
      "execution_count": 783,
      "outputs": []
    },
    {
      "cell_type": "code",
      "source": [
        "IEcolors = sns.xkcd_palette(['blue', 'light blue'])\n",
        "sns.set_palette(IEcolors)\n",
        "sns.countplot(x='Energy', data=df, order=['Intuitive', 'Sensing'])\n",
        "plt.ylim(0, 15000)\n",
        "plt.xticks(fontsize=12)\n",
        "plt.yticks(fontsize=12)\n",
        "plt.xlabel('Energy')\n",
        "plt.ylabel('Count of each Personality Type')\n",
        "plt.title('Intuitive vs. Sensing', fontsize=14)\n",
        "plt.show()"
      ],
      "metadata": {
        "colab": {
          "base_uri": "https://localhost:8080/",
          "height": 299
        },
        "outputId": "081ce850-d03d-482e-d6ab-e788d7251437",
        "id": "EQtzTEqhpbRJ"
      },
      "execution_count": 784,
      "outputs": [
        {
          "output_type": "display_data",
          "data": {
            "text/plain": [
              "<Figure size 432x288 with 1 Axes>"
            ],
            "image/png": "[encoded data removed]"
          },
          "metadata": {
            "needs_background": "light"
          }
        }
      ]
    },
    {
      "cell_type": "markdown",
      "source": [
        "###Nature"
      ],
      "metadata": {
        "id": "SUuf8H3Kc5XX"
      }
    },
    {
      "cell_type": "code",
      "source": [
        "# Countplot of the Tinking - Feeling variable\n",
        "TFcolors = sns.xkcd_palette(['green', 'pale green'])\n",
        "sns.set_palette(TFcolors)\n",
        "sns.countplot(x='Nature', data=df, order=['Thinking', 'Feeling'])\n",
        "plt.title('Thinking vs. Feeling', fontsize=14)\n",
        "plt.ylim(0, 15000)\n",
        "plt.xticks(fontsize=12)\n",
        "plt.yticks(fontsize=12)\n",
        "plt.show()"
      ],
      "metadata": {
        "colab": {
          "base_uri": "https://localhost:8080/",
          "height": 0
        },
        "id": "os0dT9wuc8Vc",
        "outputId": "3d7bb92e-8414-410f-cf57-a5176f714a64"
      },
      "execution_count": 785,
      "outputs": [
        {
          "output_type": "display_data",
          "data": {
            "text/plain": [
              "<Figure size 432x288 with 1 Axes>"
            ],
            "image/png": "[encoded data removed]"
          },
          "metadata": {
            "needs_background": "light"
          }
        }
      ]
    },
    {
      "cell_type": "markdown",
      "source": [
        "###Tactics"
      ],
      "metadata": {
        "id": "eCzG6duodI3y"
      }
    },
    {
      "cell_type": "code",
      "source": [
        "# Countplot of Judging - Perceiving\n",
        "JPcolors = sns.xkcd_palette(['purple', 'lavender'])\n",
        "sns.set_palette(JPcolors)\n",
        "sns.countplot(x='Tactics', data=df, order=['Judging', 'Perceiving'])\n",
        "plt.title('Judging vs. Perceiving', fontsize=14)\n",
        "plt.ylim(0, 20000)\n",
        "plt.xticks(fontsize=12)\n",
        "plt.yticks(fontsize=12)\n",
        "plt.show()"
      ],
      "metadata": {
        "colab": {
          "base_uri": "https://localhost:8080/",
          "height": 299
        },
        "id": "TS-6MpLQdM8k",
        "outputId": "163f1aa7-e9c2-470e-cdd5-0310c39ea9a1"
      },
      "execution_count": 786,
      "outputs": [
        {
          "output_type": "display_data",
          "data": {
            "text/plain": [
              "<Figure size 432x288 with 1 Axes>"
            ],
            "image/png": "[encoded data removed]"
          },
          "metadata": {
            "needs_background": "light"
          }
        }
      ]
    },
    {
      "cell_type": "markdown",
      "source": [
        "####Handling data imbalance"
      ],
      "metadata": {
        "id": "OtnUf6p4rdVw"
      }
    },
    {
      "cell_type": "code",
      "source": [
        "df['Tactics'].value_counts()"
      ],
      "metadata": {
        "colab": {
          "base_uri": "https://localhost:8080/"
        },
        "outputId": "59220717-4eab-4bf4-aa1c-41b9c3a641bd",
        "id": "XuCotmSGrdVx"
      },
      "execution_count": 787,
      "outputs": [
        {
          "output_type": "execute_result",
          "data": {
            "text/plain": [
              "Perceiving    14892\n",
              "Judging        8370\n",
              "Name: Tactics, dtype: int64"
            ]
          },
          "metadata": {},
          "execution_count": 787
        }
      ]
    },
    {
      "cell_type": "code",
      "source": [
        "from sklearn.utils import resample\n",
        "#create two different dataframe of majority and minority class \n",
        "df_majority = df[df['Tactics']=='Perceiving'] \n",
        "\n",
        "df_minority = df[df['Tactics']=='Judging'] \n",
        "\n",
        "# upsample minority class\n",
        "df = resample(df_minority, \n",
        "                                 replace=True,    # sample with replacement\n",
        "                                 n_samples= 14892, # to match majority class\n",
        "                                 random_state=42)  # reproducible results\n",
        "# Combine majority class with upsampled minority class\n",
        "df = pd.concat([df, df_majority])"
      ],
      "metadata": {
        "id": "9R6dy8OCrdVy"
      },
      "execution_count": 788,
      "outputs": []
    },
    {
      "cell_type": "code",
      "source": [
        "IEcolors = sns.xkcd_palette(['purple', 'lavender'])\n",
        "sns.set_palette(IEcolors)\n",
        "sns.countplot(x='Tactics', data=df, order=['Perceiving', 'Judging'])\n",
        "plt.ylim(0, 20000)\n",
        "plt.xticks(fontsize=12)\n",
        "plt.yticks(fontsize=12)\n",
        "plt.xlabel('Tactics')\n",
        "plt.ylabel('Count of each Personality Type')\n",
        "plt.title('Perceiving vs. Judging', fontsize=14)\n",
        "plt.show()"
      ],
      "metadata": {
        "colab": {
          "base_uri": "https://localhost:8080/",
          "height": 299
        },
        "outputId": "5edd30b2-51a8-4c91-9e82-1d0d7d858d98",
        "id": "4ExwqiExrdVy"
      },
      "execution_count": 789,
      "outputs": [
        {
          "output_type": "display_data",
          "data": {
            "text/plain": [
              "<Figure size 432x288 with 1 Axes>"
            ],
            "image/png": "[encoded data removed]"
          },
          "metadata": {
            "needs_background": "light"
          }
        }
      ]
    },
    {
      "cell_type": "markdown",
      "source": [
        "###Distribution class-wise after resampling"
      ],
      "metadata": {
        "id": "56jh2J7y7URh"
      }
    },
    {
      "cell_type": "code",
      "source": [
        "dim = (15.0, 4.0)\n",
        "fig, ax = plt.subplots(figsize=dim)\n",
        "cmrmap = sns.color_palette('CMRmap', 16)\n",
        "sns.set_palette(cmrmap)\n",
        "sns.countplot(x='type', data=df,\n",
        "              order=['ENFJ', 'ENFP', 'ENTJ', 'ENTP', 'ESFJ', 'ESFP', 'ESTJ',\n",
        "                     'ESTP', 'INFJ', 'INFP', 'INTJ', 'INTP', 'ISFJ', 'ISFP',\n",
        "                     'ISTJ', 'ISTP'])\n",
        "plt.title('Distribution of Personality Types in the Dataset', fontsize=16)\n",
        "plt.xlabel('Personality Type')\n",
        "plt.ylabel('Count of Posts')\n",
        "plt.xticks(fontsize=12)\n",
        "plt.yticks(fontsize=12)\n",
        "plt.show()"
      ],
      "metadata": {
        "colab": {
          "base_uri": "https://localhost:8080/",
          "height": 300
        },
        "id": "wAtIci2G7dm6",
        "outputId": "c36d3d4d-ab8d-44d1-96d5-807786b4acb2"
      },
      "execution_count": 916,
      "outputs": [
        {
          "output_type": "display_data",
          "data": {
            "text/plain": [
              "<Figure size 1080x288 with 1 Axes>"
            ],
            "image/png": "[encoded data removed]"
          },
          "metadata": {
            "needs_background": "light"
          }
        }
      ]
    },
    {
      "cell_type": "markdown",
      "source": [
        "##Splitting data into test and train"
      ],
      "metadata": {
        "id": "o-qtAIj0-_ca"
      }
    },
    {
      "cell_type": "code",
      "source": [
        "data_X = df['posts']\n",
        "data_y = df['type']\n",
        "Xtrain, Xtest, ytrain, ytest = train_test_split(data_X, data_y, test_size =0.3, random_state = 2001)"
      ],
      "metadata": {
        "id": "BioZNQh7_DWR"
      },
      "execution_count": 791,
      "outputs": []
    },
    {
      "cell_type": "code",
      "source": [
        "train_data = pd.concat([ytrain, Xtrain], axis=1)\n",
        "train_data"
      ],
      "metadata": {
        "colab": {
          "base_uri": "https://localhost:8080/",
          "height": 423
        },
        "id": "V-ONmHwvDC5o",
        "outputId": "41073728-6b5e-43a1-9fb8-57d1dd439d79"
      },
      "execution_count": 792,
      "outputs": [
        {
          "output_type": "execute_result",
          "data": {
            "text/plain": [
              "      type                                              posts\n",
              "5245  INFP  'damn. I don't feel too good. Actually, let me...\n",
              "5282  ESFJ  'I know this isn't the first post about the En...\n",
              "4907  ESTJ  'Asking if what they said/believe is factual, ...\n",
              "8147  ISFJ  'So, I'm a 17 year old high school student who...\n",
              "6567  ENFP  'Personally I think Gemini and other air signs...\n",
              "...    ...                                                ...\n",
              "7301  ISFJ  'Dear PerC,  ...Hi, I'm back after over 2 year...\n",
              "989   ENTP  'So, I've graduated with a Bachelors degree in...\n",
              "4113  ISFP  'If anyone ever grew up watching Homeward Boun...\n",
              "6204  ESFP  'TBH why are you not a rapper?????|||A poem fo...\n",
              "751   ISTP  'For getting routines done, these articles hav...\n",
              "\n",
              "[20848 rows x 2 columns]"
            ],
            "text/html": [
              "\n",
              "  <div id=\"df-d2810a45-3468-427c-8261-abc9193e84a5\">\n",
              "    <div class=\"colab-df-container\">\n",
              "      <div>\n",
              "<style scoped>\n",
              "    .dataframe tbody tr th:only-of-type {\n",
              "        vertical-align: middle;\n",
              "    }\n",
              "\n",
              "    .dataframe tbody tr th {\n",
              "        vertical-align: top;\n",
              "    }\n",
              "\n",
              "    .dataframe thead th {\n",
              "        text-align: right;\n",
              "    }\n",
              "</style>\n",
              "<table border=\"1\" class=\"dataframe\">\n",
              "  <thead>\n",
              "    <tr style=\"text-align: right;\">\n",
              "      <th></th>\n",
              "      <th>type</th>\n",
              "      <th>posts</th>\n",
              "    </tr>\n",
              "  </thead>\n",
              "  <tbody>\n",
              "    <tr>\n",
              "      <th>5245</th>\n",
              "      <td>INFP</td>\n",
              "      <td>'damn. I don't feel too good. Actually, let me...</td>\n",
              "    </tr>\n",
              "    <tr>\n",
              "      <th>5282</th>\n",
              "      <td>ESFJ</td>\n",
              "      <td>'I know this isn't the first post about the En...</td>\n",
              "    </tr>\n",
              "    <tr>\n",
              "      <th>4907</th>\n",
              "      <td>ESTJ</td>\n",
              "      <td>'Asking if what they said/believe is factual, ...</td>\n",
              "    </tr>\n",
              "    <tr>\n",
              "      <th>8147</th>\n",
              "      <td>ISFJ</td>\n",
              "      <td>'So, I'm a 17 year old high school student who...</td>\n",
              "    </tr>\n",
              "    <tr>\n",
              "      <th>6567</th>\n",
              "      <td>ENFP</td>\n",
              "      <td>'Personally I think Gemini and other air signs...</td>\n",
              "    </tr>\n",
              "    <tr>\n",
              "      <th>...</th>\n",
              "      <td>...</td>\n",
              "      <td>...</td>\n",
              "    </tr>\n",
              "    <tr>\n",
              "      <th>7301</th>\n",
              "      <td>ISFJ</td>\n",
              "      <td>'Dear PerC,  ...Hi, I'm back after over 2 year...</td>\n",
              "    </tr>\n",
              "    <tr>\n",
              "      <th>989</th>\n",
              "      <td>ENTP</td>\n",
              "      <td>'So, I've graduated with a Bachelors degree in...</td>\n",
              "    </tr>\n",
              "    <tr>\n",
              "      <th>4113</th>\n",
              "      <td>ISFP</td>\n",
              "      <td>'If anyone ever grew up watching Homeward Boun...</td>\n",
              "    </tr>\n",
              "    <tr>\n",
              "      <th>6204</th>\n",
              "      <td>ESFP</td>\n",
              "      <td>'TBH why are you not a rapper?????|||A poem fo...</td>\n",
              "    </tr>\n",
              "    <tr>\n",
              "      <th>751</th>\n",
              "      <td>ISTP</td>\n",
              "      <td>'For getting routines done, these articles hav...</td>\n",
              "    </tr>\n",
              "  </tbody>\n",
              "</table>\n",
              "<p>20848 rows × 2 columns</p>\n",
              "</div>\n",
              "      <button class=\"colab-df-convert\" onclick=\"convertToInteractive('df-d2810a45-3468-427c-8261-abc9193e84a5')\"\n",
              "              title=\"Convert this dataframe to an interactive table.\"\n",
              "              style=\"display:none;\">\n",
              "        \n",
              "  <svg xmlns=\"http://www.w3.org/2000/svg\" height=\"24px\"viewBox=\"0 0 24 24\"\n",
              "       width=\"24px\">\n",
              "    <path d=\"M0 0h24v24H0V0z\" fill=\"none\"/>\n",
              "    <path d=\"M18.56 5.44l.94 2.06.94-2.06 2.06-.94-2.06-.94-.94-2.06-.94 2.06-2.06.94zm-11 1L8.5 8.5l.94-2.06 2.06-.94-2.06-.94L8.5 2.5l-.94 2.06-2.06.94zm10 10l.94 2.06.94-2.06 2.06-.94-2.06-.94-.94-2.06-.94 2.06-2.06.94z\"/><path d=\"M17.41 7.96l-1.37-1.37c-.4-.4-.92-.59-1.43-.59-.52 0-1.04.2-1.43.59L10.3 9.45l-7.72 7.72c-.78.78-.78 2.05 0 2.83L4 21.41c.39.39.9.59 1.41.59.51 0 1.02-.2 1.41-.59l7.78-7.78 2.81-2.81c.8-.78.8-2.07 0-2.86zM5.41 20L4 18.59l7.72-7.72 1.47 1.35L5.41 20z\"/>\n",
              "  </svg>\n",
              "      </button>\n",
              "      \n",
              "  <style>\n",
              "    .colab-df-container {\n",
              "      display:flex;\n",
              "      flex-wrap:wrap;\n",
              "      gap: 12px;\n",
              "    }\n",
              "\n",
              "    .colab-df-convert {\n",
              "      background-color: #E8F0FE;\n",
              "      border: none;\n",
              "      border-radius: 50%;\n",
              "      cursor: pointer;\n",
              "      display: none;\n",
              "      fill: #1967D2;\n",
              "      height: 32px;\n",
              "      padding: 0 0 0 0;\n",
              "      width: 32px;\n",
              "    }\n",
              "\n",
              "    .colab-df-convert:hover {\n",
              "      background-color: #E2EBFA;\n",
              "      box-shadow: 0px 1px 2px rgba(60, 64, 67, 0.3), 0px 1px 3px 1px rgba(60, 64, 67, 0.15);\n",
              "      fill: #174EA6;\n",
              "    }\n",
              "\n",
              "    [theme=dark] .colab-df-convert {\n",
              "      background-color: #3B4455;\n",
              "      fill: #D2E3FC;\n",
              "    }\n",
              "\n",
              "    [theme=dark] .colab-df-convert:hover {\n",
              "      background-color: #434B5C;\n",
              "      box-shadow: 0px 1px 3px 1px rgba(0, 0, 0, 0.15);\n",
              "      filter: drop-shadow(0px 1px 2px rgba(0, 0, 0, 0.3));\n",
              "      fill: #FFFFFF;\n",
              "    }\n",
              "  </style>\n",
              "\n",
              "      <script>\n",
              "        const buttonEl =\n",
              "          document.querySelector('#df-d2810a45-3468-427c-8261-abc9193e84a5 button.colab-df-convert');\n",
              "        buttonEl.style.display =\n",
              "          google.colab.kernel.accessAllowed ? 'block' : 'none';\n",
              "\n",
              "        async function convertToInteractive(key) {\n",
              "          const element = document.querySelector('#df-d2810a45-3468-427c-8261-abc9193e84a5');\n",
              "          const dataTable =\n",
              "            await google.colab.kernel.invokeFunction('convertToInteractive',\n",
              "                                                     [key], {});\n",
              "          if (!dataTable) return;\n",
              "\n",
              "          const docLinkHtml = 'Like what you see? Visit the ' +\n",
              "            '<a target=\"_blank\" href=https://colab.research.google.com/notebooks/data_table.ipynb>data table notebook</a>'\n",
              "            + ' to learn more about interactive tables.';\n",
              "          element.innerHTML = '';\n",
              "          dataTable['output_type'] = 'display_data';\n",
              "          await google.colab.output.renderOutput(dataTable, element);\n",
              "          const docLink = document.createElement('div');\n",
              "          docLink.innerHTML = docLinkHtml;\n",
              "          element.appendChild(docLink);\n",
              "        }\n",
              "      </script>\n",
              "    </div>\n",
              "  </div>\n",
              "  "
            ]
          },
          "metadata": {},
          "execution_count": 792
        }
      ]
    },
    {
      "cell_type": "code",
      "source": [
        "train_data.info()"
      ],
      "metadata": {
        "colab": {
          "base_uri": "https://localhost:8080/"
        },
        "id": "RqOKN23oXrZW",
        "outputId": "df528d79-bfe9-4e5b-d416-81d88200c478"
      },
      "execution_count": 793,
      "outputs": [
        {
          "output_type": "stream",
          "name": "stdout",
          "text": [
            "<class 'pandas.core.frame.DataFrame'>\n",
            "Int64Index: 20848 entries, 5245 to 751\n",
            "Data columns (total 2 columns):\n",
            " #   Column  Non-Null Count  Dtype \n",
            "---  ------  --------------  ----- \n",
            " 0   type    20848 non-null  object\n",
            " 1   posts   20848 non-null  object\n",
            "dtypes: object(2)\n",
            "memory usage: 488.6+ KB\n"
          ]
        }
      ]
    },
    {
      "cell_type": "code",
      "source": [
        "test_data = pd.concat([ytest, Xtest], axis=1)\n",
        "test_data"
      ],
      "metadata": {
        "colab": {
          "base_uri": "https://localhost:8080/",
          "height": 423
        },
        "id": "FbPfUahMDMfO",
        "outputId": "c9a11b7f-d31e-45e4-a0d5-7ebc3d21c567"
      },
      "execution_count": 794,
      "outputs": [
        {
          "output_type": "execute_result",
          "data": {
            "text/plain": [
              "      type                                              posts\n",
              "8446  ESFJ  '54586  Adelaide Labille-Guiard is my favorite...\n",
              "7566  ISFP  They live in Stonypoint?|||I can't remember ha...\n",
              "8234  ENTP  'doctors tend to be scummy, but not my issue, ...\n",
              "4441  INFP  Numerically I lean towards being a late 2000s ...\n",
              "3122  ESFP  'Good job! William I am!!!|||Yes to both.  Sel...\n",
              "...    ...                                                ...\n",
              "993   INTJ  'Likewise. We need to write our own book then....\n",
              "6382  ENFP  'I have two INFP friends, one of whom has a cr...\n",
              "4107  ISTP  'He's actually way too cute. And rich, which m...\n",
              "5908  INFJ  'I also have long, natural hair and have never...\n",
              "1450  ESTJ  'People have their priorities. It sounds like ...\n",
              "\n",
              "[8936 rows x 2 columns]"
            ],
            "text/html": [
              "\n",
              "  <div id=\"df-8a2e6421-ee4f-47ae-838e-8f0d29cef2aa\">\n",
              "    <div class=\"colab-df-container\">\n",
              "      <div>\n",
              "<style scoped>\n",
              "    .dataframe tbody tr th:only-of-type {\n",
              "        vertical-align: middle;\n",
              "    }\n",
              "\n",
              "    .dataframe tbody tr th {\n",
              "        vertical-align: top;\n",
              "    }\n",
              "\n",
              "    .dataframe thead th {\n",
              "        text-align: right;\n",
              "    }\n",
              "</style>\n",
              "<table border=\"1\" class=\"dataframe\">\n",
              "  <thead>\n",
              "    <tr style=\"text-align: right;\">\n",
              "      <th></th>\n",
              "      <th>type</th>\n",
              "      <th>posts</th>\n",
              "    </tr>\n",
              "  </thead>\n",
              "  <tbody>\n",
              "    <tr>\n",
              "      <th>8446</th>\n",
              "      <td>ESFJ</td>\n",
              "      <td>'54586  Adelaide Labille-Guiard is my favorite...</td>\n",
              "    </tr>\n",
              "    <tr>\n",
              "      <th>7566</th>\n",
              "      <td>ISFP</td>\n",
              "      <td>They live in Stonypoint?|||I can't remember ha...</td>\n",
              "    </tr>\n",
              "    <tr>\n",
              "      <th>8234</th>\n",
              "      <td>ENTP</td>\n",
              "      <td>'doctors tend to be scummy, but not my issue, ...</td>\n",
              "    </tr>\n",
              "    <tr>\n",
              "      <th>4441</th>\n",
              "      <td>INFP</td>\n",
              "      <td>Numerically I lean towards being a late 2000s ...</td>\n",
              "    </tr>\n",
              "    <tr>\n",
              "      <th>3122</th>\n",
              "      <td>ESFP</td>\n",
              "      <td>'Good job! William I am!!!|||Yes to both.  Sel...</td>\n",
              "    </tr>\n",
              "    <tr>\n",
              "      <th>...</th>\n",
              "      <td>...</td>\n",
              "      <td>...</td>\n",
              "    </tr>\n",
              "    <tr>\n",
              "      <th>993</th>\n",
              "      <td>INTJ</td>\n",
              "      <td>'Likewise. We need to write our own book then....</td>\n",
              "    </tr>\n",
              "    <tr>\n",
              "      <th>6382</th>\n",
              "      <td>ENFP</td>\n",
              "      <td>'I have two INFP friends, one of whom has a cr...</td>\n",
              "    </tr>\n",
              "    <tr>\n",
              "      <th>4107</th>\n",
              "      <td>ISTP</td>\n",
              "      <td>'He's actually way too cute. And rich, which m...</td>\n",
              "    </tr>\n",
              "    <tr>\n",
              "      <th>5908</th>\n",
              "      <td>INFJ</td>\n",
              "      <td>'I also have long, natural hair and have never...</td>\n",
              "    </tr>\n",
              "    <tr>\n",
              "      <th>1450</th>\n",
              "      <td>ESTJ</td>\n",
              "      <td>'People have their priorities. It sounds like ...</td>\n",
              "    </tr>\n",
              "  </tbody>\n",
              "</table>\n",
              "<p>8936 rows × 2 columns</p>\n",
              "</div>\n",
              "      <button class=\"colab-df-convert\" onclick=\"convertToInteractive('df-8a2e6421-ee4f-47ae-838e-8f0d29cef2aa')\"\n",
              "              title=\"Convert this dataframe to an interactive table.\"\n",
              "              style=\"display:none;\">\n",
              "        \n",
              "  <svg xmlns=\"http://www.w3.org/2000/svg\" height=\"24px\"viewBox=\"0 0 24 24\"\n",
              "       width=\"24px\">\n",
              "    <path d=\"M0 0h24v24H0V0z\" fill=\"none\"/>\n",
              "    <path d=\"M18.56 5.44l.94 2.06.94-2.06 2.06-.94-2.06-.94-.94-2.06-.94 2.06-2.06.94zm-11 1L8.5 8.5l.94-2.06 2.06-.94-2.06-.94L8.5 2.5l-.94 2.06-2.06.94zm10 10l.94 2.06.94-2.06 2.06-.94-2.06-.94-.94-2.06-.94 2.06-2.06.94z\"/><path d=\"M17.41 7.96l-1.37-1.37c-.4-.4-.92-.59-1.43-.59-.52 0-1.04.2-1.43.59L10.3 9.45l-7.72 7.72c-.78.78-.78 2.05 0 2.83L4 21.41c.39.39.9.59 1.41.59.51 0 1.02-.2 1.41-.59l7.78-7.78 2.81-2.81c.8-.78.8-2.07 0-2.86zM5.41 20L4 18.59l7.72-7.72 1.47 1.35L5.41 20z\"/>\n",
              "  </svg>\n",
              "      </button>\n",
              "      \n",
              "  <style>\n",
              "    .colab-df-container {\n",
              "      display:flex;\n",
              "      flex-wrap:wrap;\n",
              "      gap: 12px;\n",
              "    }\n",
              "\n",
              "    .colab-df-convert {\n",
              "      background-color: #E8F0FE;\n",
              "      border: none;\n",
              "      border-radius: 50%;\n",
              "      cursor: pointer;\n",
              "      display: none;\n",
              "      fill: #1967D2;\n",
              "      height: 32px;\n",
              "      padding: 0 0 0 0;\n",
              "      width: 32px;\n",
              "    }\n",
              "\n",
              "    .colab-df-convert:hover {\n",
              "      background-color: #E2EBFA;\n",
              "      box-shadow: 0px 1px 2px rgba(60, 64, 67, 0.3), 0px 1px 3px 1px rgba(60, 64, 67, 0.15);\n",
              "      fill: #174EA6;\n",
              "    }\n",
              "\n",
              "    [theme=dark] .colab-df-convert {\n",
              "      background-color: #3B4455;\n",
              "      fill: #D2E3FC;\n",
              "    }\n",
              "\n",
              "    [theme=dark] .colab-df-convert:hover {\n",
              "      background-color: #434B5C;\n",
              "      box-shadow: 0px 1px 3px 1px rgba(0, 0, 0, 0.15);\n",
              "      filter: drop-shadow(0px 1px 2px rgba(0, 0, 0, 0.3));\n",
              "      fill: #FFFFFF;\n",
              "    }\n",
              "  </style>\n",
              "\n",
              "      <script>\n",
              "        const buttonEl =\n",
              "          document.querySelector('#df-8a2e6421-ee4f-47ae-838e-8f0d29cef2aa button.colab-df-convert');\n",
              "        buttonEl.style.display =\n",
              "          google.colab.kernel.accessAllowed ? 'block' : 'none';\n",
              "\n",
              "        async function convertToInteractive(key) {\n",
              "          const element = document.querySelector('#df-8a2e6421-ee4f-47ae-838e-8f0d29cef2aa');\n",
              "          const dataTable =\n",
              "            await google.colab.kernel.invokeFunction('convertToInteractive',\n",
              "                                                     [key], {});\n",
              "          if (!dataTable) return;\n",
              "\n",
              "          const docLinkHtml = 'Like what you see? Visit the ' +\n",
              "            '<a target=\"_blank\" href=https://colab.research.google.com/notebooks/data_table.ipynb>data table notebook</a>'\n",
              "            + ' to learn more about interactive tables.';\n",
              "          element.innerHTML = '';\n",
              "          dataTable['output_type'] = 'display_data';\n",
              "          await google.colab.output.renderOutput(dataTable, element);\n",
              "          const docLink = document.createElement('div');\n",
              "          docLink.innerHTML = docLinkHtml;\n",
              "          element.appendChild(docLink);\n",
              "        }\n",
              "      </script>\n",
              "    </div>\n",
              "  </div>\n",
              "  "
            ]
          },
          "metadata": {},
          "execution_count": 794
        }
      ]
    },
    {
      "cell_type": "code",
      "source": [
        "test_data.info()"
      ],
      "metadata": {
        "colab": {
          "base_uri": "https://localhost:8080/"
        },
        "id": "HJDwQK8bDogq",
        "outputId": "1f8b1049-0c5d-4331-f2d1-961532d316fa"
      },
      "execution_count": 795,
      "outputs": [
        {
          "output_type": "stream",
          "name": "stdout",
          "text": [
            "<class 'pandas.core.frame.DataFrame'>\n",
            "Int64Index: 8936 entries, 8446 to 1450\n",
            "Data columns (total 2 columns):\n",
            " #   Column  Non-Null Count  Dtype \n",
            "---  ------  --------------  ----- \n",
            " 0   type    8936 non-null   object\n",
            " 1   posts   8936 non-null   object\n",
            "dtypes: object(2)\n",
            "memory usage: 209.4+ KB\n"
          ]
        }
      ]
    },
    {
      "cell_type": "markdown",
      "source": [
        "##Data pre-processing"
      ],
      "metadata": {
        "id": "uvCISct0da45"
      }
    },
    {
      "cell_type": "markdown",
      "source": [
        "###Removing delimeters"
      ],
      "metadata": {
        "id": "2wraL-uNTrNU"
      }
    },
    {
      "cell_type": "code",
      "source": [
        "def remove_delimiters (post):\n",
        "    new = post.replace('|||',' ')\n",
        "    return ' '.join(new.split())\n",
        "\n",
        "train_data['posts'] = train_data['posts'].apply(remove_delimiters)\n",
        "test_data['posts'] = test_data['posts'].apply(remove_delimiters)"
      ],
      "metadata": {
        "id": "-SgruTkJTtOM"
      },
      "execution_count": 796,
      "outputs": []
    },
    {
      "cell_type": "markdown",
      "source": [
        "###Removing URLs"
      ],
      "metadata": {
        "id": "cCbJbWwcTuDE"
      }
    },
    {
      "cell_type": "code",
      "source": [
        "## Remove urls\n",
        "pattern_url = r'http[s]?://(?:[A-Za-z]|[0-9]|[$-_@.&+]|[!*\\(\\),]|(?:%[0-9A-Fa-f][0-9A-Fa-f]))+'\n",
        "subs_url = r'url-web'\n",
        "\n",
        "train_data['posts'] = train_data['posts'].replace(to_replace = pattern_url, value = subs_url, regex = True)\n",
        "test_data['posts'] = test_data['posts'].replace(to_replace = pattern_url, value = subs_url, regex = True)"
      ],
      "metadata": {
        "id": "tir6A6-nTaca"
      },
      "execution_count": 797,
      "outputs": []
    },
    {
      "cell_type": "markdown",
      "source": [
        "###Converting to lowercase"
      ],
      "metadata": {
        "id": "g3HAyX9eT7Fe"
      }
    },
    {
      "cell_type": "code",
      "source": [
        "train_data['posts'] = train_data['posts'].str.lower()\n",
        "test_data['posts'] = test_data['posts'].str.lower()"
      ],
      "metadata": {
        "id": "wbkDEViSUAGt"
      },
      "execution_count": 798,
      "outputs": []
    },
    {
      "cell_type": "markdown",
      "source": [
        "###Removing pucnctuation and numbers"
      ],
      "metadata": {
        "id": "WN9uh92QUCQi"
      }
    },
    {
      "cell_type": "code",
      "source": [
        "#Remove punctuation & numbers\n",
        "def remove_punctuation(post):\n",
        "    punc_numbers = string.punctuation + '0123456789'\n",
        "    return ''.join([l for l in post if l not in punc_numbers])\n",
        "\n",
        "train_data['posts'] = train_data['posts'].apply(remove_punctuation)\n",
        "test_data['posts'] = test_data['posts'].apply(remove_punctuation)"
      ],
      "metadata": {
        "id": "6aC2-8sXUK4Q"
      },
      "execution_count": 799,
      "outputs": []
    },
    {
      "cell_type": "markdown",
      "source": [
        "###Lemmatization"
      ],
      "metadata": {
        "id": "cyGdf84GUOU9"
      }
    },
    {
      "cell_type": "code",
      "source": [
        "# Lematise posts\n",
        "lemmatizer = WordNetLemmatizer()\n",
        "train_data['lemma'] = [' '.join([lemmatizer.lemmatize(word) for word in text.split(' ')])for text in train_data['posts']]\n",
        "test_data['lemma'] = [' '.join([lemmatizer.lemmatize(word) for word in text.split(' ')])for text in test_data['posts']]"
      ],
      "metadata": {
        "id": "9O2-seVXUTx0"
      },
      "execution_count": 800,
      "outputs": []
    },
    {
      "cell_type": "markdown",
      "source": [
        "###Removing stopwords"
      ],
      "metadata": {
        "id": "b_wrFvPVUbBM"
      }
    },
    {
      "cell_type": "code",
      "source": [
        "#Check for stopwords train\n",
        "stop = stopwords.words('english')\n",
        "\n",
        "train_data['stopwords'] = train_data['lemma'].apply(lambda x: len([x for x in x.split() if x in stop]))\n",
        "train_data[['lemma','stopwords']].head()\n",
        "\n",
        "test_data['stopwords'] = test_data['lemma'].apply(lambda x: len([x for x in x.split() if x in stop]))\n",
        "test_data[['lemma','stopwords']].head()"
      ],
      "metadata": {
        "colab": {
          "base_uri": "https://localhost:8080/",
          "height": 206
        },
        "id": "kRB34Z24UdWW",
        "outputId": "33d67263-df9a-4cde-b2d8-753632e755b7"
      },
      "execution_count": 801,
      "outputs": [
        {
          "output_type": "execute_result",
          "data": {
            "text/plain": [
              "                                                  lemma  stopwords\n",
              "8446   adelaide labilleguiard is my favorite painter...        791\n",
              "7566  they live in stonypoint i cant remember haha l...        376\n",
              "8234  doctor tend to be scummy but not my issue i se...        224\n",
              "4441  numerically i lean towards being a late s kid ...        516\n",
              "3122  good job william i am yes to both selfinterest...        647"
            ],
            "text/html": [
              "\n",
              "  <div id=\"df-90a74b65-32b5-418d-a04e-5cd79749f2d0\">\n",
              "    <div class=\"colab-df-container\">\n",
              "      <div>\n",
              "<style scoped>\n",
              "    .dataframe tbody tr th:only-of-type {\n",
              "        vertical-align: middle;\n",
              "    }\n",
              "\n",
              "    .dataframe tbody tr th {\n",
              "        vertical-align: top;\n",
              "    }\n",
              "\n",
              "    .dataframe thead th {\n",
              "        text-align: right;\n",
              "    }\n",
              "</style>\n",
              "<table border=\"1\" class=\"dataframe\">\n",
              "  <thead>\n",
              "    <tr style=\"text-align: right;\">\n",
              "      <th></th>\n",
              "      <th>lemma</th>\n",
              "      <th>stopwords</th>\n",
              "    </tr>\n",
              "  </thead>\n",
              "  <tbody>\n",
              "    <tr>\n",
              "      <th>8446</th>\n",
              "      <td>adelaide labilleguiard is my favorite painter...</td>\n",
              "      <td>791</td>\n",
              "    </tr>\n",
              "    <tr>\n",
              "      <th>7566</th>\n",
              "      <td>they live in stonypoint i cant remember haha l...</td>\n",
              "      <td>376</td>\n",
              "    </tr>\n",
              "    <tr>\n",
              "      <th>8234</th>\n",
              "      <td>doctor tend to be scummy but not my issue i se...</td>\n",
              "      <td>224</td>\n",
              "    </tr>\n",
              "    <tr>\n",
              "      <th>4441</th>\n",
              "      <td>numerically i lean towards being a late s kid ...</td>\n",
              "      <td>516</td>\n",
              "    </tr>\n",
              "    <tr>\n",
              "      <th>3122</th>\n",
              "      <td>good job william i am yes to both selfinterest...</td>\n",
              "      <td>647</td>\n",
              "    </tr>\n",
              "  </tbody>\n",
              "</table>\n",
              "</div>\n",
              "      <button class=\"colab-df-convert\" onclick=\"convertToInteractive('df-90a74b65-32b5-418d-a04e-5cd79749f2d0')\"\n",
              "              title=\"Convert this dataframe to an interactive table.\"\n",
              "              style=\"display:none;\">\n",
              "        \n",
              "  <svg xmlns=\"http://www.w3.org/2000/svg\" height=\"24px\"viewBox=\"0 0 24 24\"\n",
              "       width=\"24px\">\n",
              "    <path d=\"M0 0h24v24H0V0z\" fill=\"none\"/>\n",
              "    <path d=\"M18.56 5.44l.94 2.06.94-2.06 2.06-.94-2.06-.94-.94-2.06-.94 2.06-2.06.94zm-11 1L8.5 8.5l.94-2.06 2.06-.94-2.06-.94L8.5 2.5l-.94 2.06-2.06.94zm10 10l.94 2.06.94-2.06 2.06-.94-2.06-.94-.94-2.06-.94 2.06-2.06.94z\"/><path d=\"M17.41 7.96l-1.37-1.37c-.4-.4-.92-.59-1.43-.59-.52 0-1.04.2-1.43.59L10.3 9.45l-7.72 7.72c-.78.78-.78 2.05 0 2.83L4 21.41c.39.39.9.59 1.41.59.51 0 1.02-.2 1.41-.59l7.78-7.78 2.81-2.81c.8-.78.8-2.07 0-2.86zM5.41 20L4 18.59l7.72-7.72 1.47 1.35L5.41 20z\"/>\n",
              "  </svg>\n",
              "      </button>\n",
              "      \n",
              "  <style>\n",
              "    .colab-df-container {\n",
              "      display:flex;\n",
              "      flex-wrap:wrap;\n",
              "      gap: 12px;\n",
              "    }\n",
              "\n",
              "    .colab-df-convert {\n",
              "      background-color: #E8F0FE;\n",
              "      border: none;\n",
              "      border-radius: 50%;\n",
              "      cursor: pointer;\n",
              "      display: none;\n",
              "      fill: #1967D2;\n",
              "      height: 32px;\n",
              "      padding: 0 0 0 0;\n",
              "      width: 32px;\n",
              "    }\n",
              "\n",
              "    .colab-df-convert:hover {\n",
              "      background-color: #E2EBFA;\n",
              "      box-shadow: 0px 1px 2px rgba(60, 64, 67, 0.3), 0px 1px 3px 1px rgba(60, 64, 67, 0.15);\n",
              "      fill: #174EA6;\n",
              "    }\n",
              "\n",
              "    [theme=dark] .colab-df-convert {\n",
              "      background-color: #3B4455;\n",
              "      fill: #D2E3FC;\n",
              "    }\n",
              "\n",
              "    [theme=dark] .colab-df-convert:hover {\n",
              "      background-color: #434B5C;\n",
              "      box-shadow: 0px 1px 3px 1px rgba(0, 0, 0, 0.15);\n",
              "      filter: drop-shadow(0px 1px 2px rgba(0, 0, 0, 0.3));\n",
              "      fill: #FFFFFF;\n",
              "    }\n",
              "  </style>\n",
              "\n",
              "      <script>\n",
              "        const buttonEl =\n",
              "          document.querySelector('#df-90a74b65-32b5-418d-a04e-5cd79749f2d0 button.colab-df-convert');\n",
              "        buttonEl.style.display =\n",
              "          google.colab.kernel.accessAllowed ? 'block' : 'none';\n",
              "\n",
              "        async function convertToInteractive(key) {\n",
              "          const element = document.querySelector('#df-90a74b65-32b5-418d-a04e-5cd79749f2d0');\n",
              "          const dataTable =\n",
              "            await google.colab.kernel.invokeFunction('convertToInteractive',\n",
              "                                                     [key], {});\n",
              "          if (!dataTable) return;\n",
              "\n",
              "          const docLinkHtml = 'Like what you see? Visit the ' +\n",
              "            '<a target=\"_blank\" href=https://colab.research.google.com/notebooks/data_table.ipynb>data table notebook</a>'\n",
              "            + ' to learn more about interactive tables.';\n",
              "          element.innerHTML = '';\n",
              "          dataTable['output_type'] = 'display_data';\n",
              "          await google.colab.output.renderOutput(dataTable, element);\n",
              "          const docLink = document.createElement('div');\n",
              "          docLink.innerHTML = docLinkHtml;\n",
              "          element.appendChild(docLink);\n",
              "        }\n",
              "      </script>\n",
              "    </div>\n",
              "  </div>\n",
              "  "
            ]
          },
          "metadata": {},
          "execution_count": 801
        }
      ]
    },
    {
      "cell_type": "markdown",
      "source": [
        "##Logistic Regression Model"
      ],
      "metadata": {
        "id": "r3iTwZ6zVX99"
      }
    },
    {
      "cell_type": "code",
      "source": [
        "#Create binary classes for each of the personality characteristics\n",
        "train_data['E'] = train_data['type'].apply(lambda x: x[0] == 'E').astype('int')\n",
        "train_data['N'] = train_data['type'].apply(lambda x: x[1] == 'N').astype('int')\n",
        "train_data['T'] = train_data['type'].apply(lambda x: x[2] == 'T').astype('int')\n",
        "train_data['J'] = train_data['type'].apply(lambda x: x[3] == 'J').astype('int')"
      ],
      "metadata": {
        "id": "yn_gUNbFWqj5"
      },
      "execution_count": 802,
      "outputs": []
    },
    {
      "cell_type": "markdown",
      "source": [
        "###Helper Functions"
      ],
      "metadata": {
        "id": "Oj1DMDM21cLj"
      }
    },
    {
      "cell_type": "markdown",
      "source": [
        "####Calculate log loss"
      ],
      "metadata": {
        "id": "pBxHbWGJ1jck"
      }
    },
    {
      "cell_type": "code",
      "source": [
        "def scoring_function_log_loss(y_test, y_pred_test):\n",
        "    return log_loss(y_test, y_pred_test)"
      ],
      "metadata": {
        "id": "SJYfFFsf1e6X"
      },
      "execution_count": 803,
      "outputs": []
    },
    {
      "cell_type": "markdown",
      "source": [
        "####Logistic Regression"
      ],
      "metadata": {
        "id": "geijSzGU1nev"
      }
    },
    {
      "cell_type": "code",
      "source": [
        "def tune_LogReg_model(X_train, y_train): \n",
        "    C_list = [0.001, 0.01, 0.1, 0.5, 0.75, 1, 5, 10, 25, 100]\n",
        "    penalty_list = ['l1','l2']\n",
        "\n",
        "    score = make_scorer(scoring_function_log_loss, greater_is_better = False)\n",
        "    \n",
        "    logreg = LogisticRegression(max_iter=10000)\n",
        "    \n",
        "    parameters = {'C':C_list,\n",
        "                  'penalty': penalty_list}\n",
        "    tune = GridSearchCV(logreg, parameters, scoring = score)\n",
        "    tune.fit(X_train,y_train)\n",
        "    \n",
        "    return tune"
      ],
      "metadata": {
        "id": "mIvUSkD2RUSf"
      },
      "execution_count": 804,
      "outputs": []
    },
    {
      "cell_type": "markdown",
      "source": [
        "##COMPARING MODELS\n",
        "- Logistic Regression\n",
        "- Multinomial Naive Bayes\n",
        "- AdaBoost Classifier\n",
        "- LGBM Classifier"
      ],
      "metadata": {
        "id": "S1bky6X268xT"
      }
    },
    {
      "cell_type": "code",
      "source": [
        "classes = ['E','N','T','J']"
      ],
      "metadata": {
        "id": "e_BJL3nf7i8F"
      },
      "execution_count": 805,
      "outputs": []
    },
    {
      "cell_type": "code",
      "source": [
        "datasets = dict()\n",
        "for i,column in enumerate(classes):\n",
        "  df_c1 = train_data.drop(columns=train_data.columns.difference([column,'lemma']))\n",
        "  temp1 = df_c1[df_c1[column] == 1]\n",
        "  df_c1.drop(df_c1[df_c1[column] == 1].index,axis=0,inplace=True)\n",
        "  df_c1 = pd.concat([temp1,df_c1],axis=0).reset_index(drop=True)\n",
        "  datasets[column] = df_c1"
      ],
      "metadata": {
        "id": "s__zV5pgEAka"
      },
      "execution_count": 806,
      "outputs": []
    },
    {
      "cell_type": "code",
      "source": [
        "def prep_train(X,vectorizer):\n",
        "  X_tf = X.to_numpy()\n",
        "  X_tfidf = vectorizer.transform(X_tf)\n",
        "  return  X_tfidf\n",
        "\n",
        "def train(classes,X,y):\n",
        "  models_ = dict()\n",
        "  for i,class_ in tqdm(enumerate(classes)):\n",
        "    model = LogisticRegression(C=5, random_state=2020, max_iter=5000)\n",
        "    model.fit(X[i],y[i])\n",
        "    y_pred = model.predict(X[i])\n",
        "    print()\n",
        "    print(metrics.classification_report(y_pred, y[i]))\n",
        "    models_[class_] = model\n",
        "  return models_"
      ],
      "metadata": {
        "id": "U4VYZTiD8AWV"
      },
      "execution_count": 807,
      "outputs": []
    },
    {
      "cell_type": "code",
      "source": [
        "vect = TfidfVectorizer(lowercase=True, \n",
        "                            stop_words='english', \n",
        "                            max_features=250,\n",
        "                            min_df=4,\n",
        "                            max_df=0.5\n",
        "                           )\n",
        "\n",
        "temp = train_data['lemma']\n",
        "vect.fit(temp)\n",
        "X_count = vect.transform(temp)"
      ],
      "metadata": {
        "id": "PH20ovkL54na"
      },
      "execution_count": 808,
      "outputs": []
    },
    {
      "cell_type": "code",
      "source": [
        "print(datasets)"
      ],
      "metadata": {
        "colab": {
          "base_uri": "https://localhost:8080/"
        },
        "id": "jtdrxXR4E2DU",
        "outputId": "1eebb71c-4ed6-4c31-d35f-2364b3316296"
      },
      "execution_count": 809,
      "outputs": [
        {
          "output_type": "stream",
          "name": "stdout",
          "text": [
            "{'E':                                                    lemma  E\n",
            "0      i know this isnt the first post about the enne...  1\n",
            "1      asking if what they saidbelieve is factual and...  1\n",
            "2      personally i think gemini and other air sign f...  1\n",
            "3      a the most introverted extrovert i am beginnin...  1\n",
            "4      cheer for the tag  what is your favorite food ...  1\n",
            "...                                                  ... ..\n",
            "20843  some good reply thanks guy so what got me thin...  0\n",
            "20844  i have found myself so completely out of my co...  0\n",
            "20845  dear perc hi im back after over  year away i r...  0\n",
            "20846  if anyone ever grew up watching homeward bound...  0\n",
            "20847  for getting routine done these article have so...  0\n",
            "\n",
            "[20848 rows x 2 columns], 'N':                                                    lemma  N\n",
            "0      damn i dont feel too good actually let me refo...  1\n",
            "1      personally i think gemini and other air sign f...  1\n",
            "2      a the most introverted extrovert i am beginnin...  1\n",
            "3      may i have my name changed to freedomtickler u...  1\n",
            "4      some people need more others need le but in my...  1\n",
            "...                                                  ... ..\n",
            "20843  dad  istp pretty clear one at that in term of ...  0\n",
            "20844  dear perc hi im back after over  year away i r...  0\n",
            "20845  if anyone ever grew up watching homeward bound...  0\n",
            "20846  tbh why are you not a rapper a poem for databa...  0\n",
            "20847  for getting routine done these article have so...  0\n",
            "\n",
            "[20848 rows x 2 columns], 'T':                                                    lemma  T\n",
            "0      asking if what they saidbelieve is factual and...  1\n",
            "1      a the most introverted extrovert i am beginnin...  1\n",
            "2      i like the idea of having to live with few pos...  1\n",
            "3      i wouldnt put it past the silcon valley guy to...  1\n",
            "4      unrelated to method of argument the fact that ...  1\n",
            "...                                                  ... ..\n",
            "20843  i have found myself so completely out of my co...  0\n",
            "20844  esxp maybe i can display a little bit of both ...  0\n",
            "20845  dear perc hi im back after over  year away i r...  0\n",
            "20846  if anyone ever grew up watching homeward bound...  0\n",
            "20847  tbh why are you not a rapper a poem for databa...  0\n",
            "\n",
            "[20848 rows x 2 columns], 'J':                                                    lemma  J\n",
            "0      i know this isnt the first post about the enne...  1\n",
            "1      asking if what they saidbelieve is factual and...  1\n",
            "2      so im a  year old high school student whose gr...  1\n",
            "3      some people need more others need le but in my...  1\n",
            "4      cheer for the tag  what is your favorite food ...  1\n",
            "...                                                  ... ..\n",
            "20843  dad  istp pretty clear one at that in term of ...  0\n",
            "20844  so ive graduated with a bachelor degree in psy...  0\n",
            "20845  if anyone ever grew up watching homeward bound...  0\n",
            "20846  tbh why are you not a rapper a poem for databa...  0\n",
            "20847  for getting routine done these article have so...  0\n",
            "\n",
            "[20848 rows x 2 columns]}\n"
          ]
        }
      ]
    },
    {
      "cell_type": "code",
      "source": [
        "X_tfidfs = list()\n",
        "y_tfidfs = list()\n",
        "for i in classes:\n",
        "  X = prep_train(datasets[i]['lemma'], vect)\n",
        "  y = np.array(datasets[i].drop(columns=['lemma'],axis=1))\n",
        "  X_tfidfs.append(X)\n",
        "  y_tfidfs.append(y)"
      ],
      "metadata": {
        "id": "aYvhJ2FR9B7c"
      },
      "execution_count": 810,
      "outputs": []
    },
    {
      "cell_type": "markdown",
      "source": [
        "###Results of various models"
      ],
      "metadata": {
        "id": "gWMAf3kth5Kn"
      }
    },
    {
      "cell_type": "markdown",
      "source": [
        "Mind label"
      ],
      "metadata": {
        "id": "5PBx0qgHh0rj"
      }
    },
    {
      "cell_type": "code",
      "source": [
        "list_of_models = [LogisticRegression(), MultinomialNB(), AdaBoostClassifier(), lgb.LGBMClassifier()]\n",
        "for i in tqdm(list_of_models):\n",
        "    model = i\n",
        "    print(f\"Training Model {model}\")\n",
        "    model.fit(X_tfidfs[0],y_tfidfs[0])\n",
        "    y_pred = model.predict(X_tfidfs[0])\n",
        "    print()\n",
        "    print(metrics.classification_report(y_pred, y_tfidfs[0]))\n",
        "    print(log_loss(y_pred, y_tfidfs[0]))\n",
        "    print()"
      ],
      "metadata": {
        "colab": {
          "base_uri": "https://localhost:8080/"
        },
        "id": "rFmJuOxY52d4",
        "outputId": "5a3156a8-e73b-4883-b46c-ab45d95f52d2"
      },
      "execution_count": 811,
      "outputs": [
        {
          "output_type": "stream",
          "name": "stderr",
          "text": [
            "\r  0%|          | 0/4 [00:00<?, ?it/s]/usr/local/lib/python3.7/dist-packages/sklearn/utils/validation.py:993: DataConversionWarning: A column-vector y was passed when a 1d array was expected. Please change the shape of y to (n_samples, ), for example using ravel().\n",
            "  y = column_or_1d(y, warn=True)\n"
          ]
        },
        {
          "output_type": "stream",
          "name": "stdout",
          "text": [
            "Training Model LogisticRegression()\n"
          ]
        },
        {
          "output_type": "stream",
          "name": "stderr",
          "text": [
            "\r 25%|██▌       | 1/4 [00:00<00:01,  2.79it/s]"
          ]
        },
        {
          "output_type": "stream",
          "name": "stdout",
          "text": [
            "\n",
            "              precision    recall  f1-score   support\n",
            "\n",
            "           0       0.87      0.84      0.86     11958\n",
            "           1       0.80      0.83      0.81      8890\n",
            "\n",
            "    accuracy                           0.84     20848\n",
            "   macro avg       0.83      0.84      0.83     20848\n",
            "weighted avg       0.84      0.84      0.84     20848\n",
            "\n",
            "5.627865553023509\n",
            "\n",
            "Training Model MultinomialNB()\n",
            "\n",
            "              precision    recall  f1-score   support\n",
            "\n",
            "           0       0.91      0.73      0.81     14449\n",
            "           1       0.57      0.83      0.68      6399\n",
            "\n",
            "    accuracy                           0.76     20848\n",
            "   macro avg       0.74      0.78      0.74     20848\n",
            "weighted avg       0.80      0.76      0.77     20848\n",
            "\n",
            "8.336640925969473\n",
            "\n",
            "Training Model AdaBoostClassifier()\n"
          ]
        },
        {
          "output_type": "stream",
          "name": "stderr",
          "text": [
            "/usr/local/lib/python3.7/dist-packages/sklearn/utils/validation.py:993: DataConversionWarning: A column-vector y was passed when a 1d array was expected. Please change the shape of y to (n_samples, ), for example using ravel().\n",
            "  y = column_or_1d(y, warn=True)\n",
            "/usr/local/lib/python3.7/dist-packages/sklearn/utils/validation.py:993: DataConversionWarning: A column-vector y was passed when a 1d array was expected. Please change the shape of y to (n_samples, ), for example using ravel().\n",
            "  y = column_or_1d(y, warn=True)\n",
            " 75%|███████▌  | 3/4 [00:12<00:04,  4.48s/it]"
          ]
        },
        {
          "output_type": "stream",
          "name": "stdout",
          "text": [
            "\n",
            "              precision    recall  f1-score   support\n",
            "\n",
            "           0       0.87      0.82      0.85     12308\n",
            "           1       0.76      0.83      0.79      8540\n",
            "\n",
            "    accuracy                           0.82     20848\n",
            "   macro avg       0.82      0.83      0.82     20848\n",
            "weighted avg       0.83      0.82      0.83     20848\n",
            "\n",
            "6.055304510597653\n",
            "\n",
            "Training Model LGBMClassifier()\n"
          ]
        },
        {
          "output_type": "stream",
          "name": "stderr",
          "text": [
            "/usr/local/lib/python3.7/dist-packages/sklearn/preprocessing/_label.py:98: DataConversionWarning: A column-vector y was passed when a 1d array was expected. Please change the shape of y to (n_samples, ), for example using ravel().\n",
            "  y = column_or_1d(y, warn=True)\n",
            "/usr/local/lib/python3.7/dist-packages/sklearn/preprocessing/_label.py:133: DataConversionWarning: A column-vector y was passed when a 1d array was expected. Please change the shape of y to (n_samples, ), for example using ravel().\n",
            "  y = column_or_1d(y, warn=True)\n",
            "100%|██████████| 4/4 [00:20<00:00,  5.20s/it]"
          ]
        },
        {
          "output_type": "stream",
          "name": "stdout",
          "text": [
            "\n",
            "              precision    recall  f1-score   support\n",
            "\n",
            "           0       0.99      0.99      0.99     11579\n",
            "           1       0.98      0.98      0.98      9269\n",
            "\n",
            "    accuracy                           0.98     20848\n",
            "   macro avg       0.98      0.98      0.98     20848\n",
            "weighted avg       0.98      0.98      0.98     20848\n",
            "\n",
            "0.5202086205282432\n",
            "\n"
          ]
        },
        {
          "output_type": "stream",
          "name": "stderr",
          "text": [
            "\n"
          ]
        }
      ]
    },
    {
      "cell_type": "markdown",
      "source": [
        "Energy label"
      ],
      "metadata": {
        "id": "STbrCuMah9xG"
      }
    },
    {
      "cell_type": "code",
      "source": [
        "for i in tqdm(list_of_models):\n",
        "    model = i\n",
        "    print(f\"Training Model {model}\")\n",
        "    model.fit(X_tfidfs[1],y_tfidfs[1])\n",
        "    y_pred = model.predict(X_tfidfs[1])\n",
        "    print()\n",
        "    print(metrics.classification_report(y_pred, y_tfidfs[1]))\n",
        "    print(log_loss(y_pred, y_tfidfs[1]))\n",
        "    print()"
      ],
      "metadata": {
        "colab": {
          "base_uri": "https://localhost:8080/"
        },
        "id": "_LHcNq9hYgr7",
        "outputId": "0ab6a918-7c80-44a3-a355-e9d85c4d637f"
      },
      "execution_count": 812,
      "outputs": [
        {
          "output_type": "stream",
          "name": "stderr",
          "text": [
            "\r  0%|          | 0/4 [00:00<?, ?it/s]"
          ]
        },
        {
          "output_type": "stream",
          "name": "stdout",
          "text": [
            "Training Model LogisticRegression()\n"
          ]
        },
        {
          "output_type": "stream",
          "name": "stderr",
          "text": [
            "/usr/local/lib/python3.7/dist-packages/sklearn/utils/validation.py:993: DataConversionWarning: A column-vector y was passed when a 1d array was expected. Please change the shape of y to (n_samples, ), for example using ravel().\n",
            "  y = column_or_1d(y, warn=True)\n",
            " 25%|██▌       | 1/4 [00:00<00:01,  2.87it/s]"
          ]
        },
        {
          "output_type": "stream",
          "name": "stdout",
          "text": [
            "\n",
            "              precision    recall  f1-score   support\n",
            "\n",
            "           0       0.87      0.85      0.86     10853\n",
            "           1       0.84      0.86      0.85      9995\n",
            "\n",
            "    accuracy                           0.85     20848\n",
            "   macro avg       0.85      0.85      0.85     20848\n",
            "weighted avg       0.85      0.85      0.85     20848\n",
            "\n",
            "5.061267057509868\n",
            "\n",
            "Training Model MultinomialNB()\n",
            "\n",
            "              precision    recall  f1-score   support\n",
            "\n",
            "           0       0.83      0.82      0.83     10692\n",
            "           1       0.81      0.82      0.82     10156\n",
            "\n",
            "    accuracy                           0.82     20848\n",
            "   macro avg       0.82      0.82      0.82     20848\n",
            "weighted avg       0.82      0.82      0.82     20848\n",
            "\n",
            "6.146411725546694\n",
            "\n",
            "Training Model AdaBoostClassifier()\n"
          ]
        },
        {
          "output_type": "stream",
          "name": "stderr",
          "text": [
            "/usr/local/lib/python3.7/dist-packages/sklearn/utils/validation.py:993: DataConversionWarning: A column-vector y was passed when a 1d array was expected. Please change the shape of y to (n_samples, ), for example using ravel().\n",
            "  y = column_or_1d(y, warn=True)\n",
            "/usr/local/lib/python3.7/dist-packages/sklearn/utils/validation.py:993: DataConversionWarning: A column-vector y was passed when a 1d array was expected. Please change the shape of y to (n_samples, ), for example using ravel().\n",
            "  y = column_or_1d(y, warn=True)\n",
            " 75%|███████▌  | 3/4 [00:12<00:04,  4.69s/it]"
          ]
        },
        {
          "output_type": "stream",
          "name": "stdout",
          "text": [
            "\n",
            "              precision    recall  f1-score   support\n",
            "\n",
            "           0       0.85      0.83      0.84     10769\n",
            "           1       0.82      0.84      0.83     10079\n",
            "\n",
            "    accuracy                           0.83     20848\n",
            "   macro avg       0.83      0.83      0.83     20848\n",
            "weighted avg       0.83      0.83      0.83     20848\n",
            "\n",
            "5.723951098873943\n",
            "\n",
            "Training Model LGBMClassifier()\n"
          ]
        },
        {
          "output_type": "stream",
          "name": "stderr",
          "text": [
            "/usr/local/lib/python3.7/dist-packages/sklearn/preprocessing/_label.py:98: DataConversionWarning: A column-vector y was passed when a 1d array was expected. Please change the shape of y to (n_samples, ), for example using ravel().\n",
            "  y = column_or_1d(y, warn=True)\n",
            "/usr/local/lib/python3.7/dist-packages/sklearn/preprocessing/_label.py:133: DataConversionWarning: A column-vector y was passed when a 1d array was expected. Please change the shape of y to (n_samples, ), for example using ravel().\n",
            "  y = column_or_1d(y, warn=True)\n",
            "100%|██████████| 4/4 [00:21<00:00,  5.38s/it]"
          ]
        },
        {
          "output_type": "stream",
          "name": "stdout",
          "text": [
            "\n",
            "              precision    recall  f1-score   support\n",
            "\n",
            "           0       1.00      0.99      0.99     10694\n",
            "           1       0.98      1.00      0.99     10154\n",
            "\n",
            "    accuracy                           0.99     20848\n",
            "   macro avg       0.99      0.99      0.99     20848\n",
            "weighted avg       0.99      0.99      0.99     20848\n",
            "\n",
            "0.3147780243779816\n",
            "\n"
          ]
        },
        {
          "output_type": "stream",
          "name": "stderr",
          "text": [
            "\n"
          ]
        }
      ]
    },
    {
      "cell_type": "markdown",
      "source": [
        "Nature label"
      ],
      "metadata": {
        "id": "w1-VrZGtiAgt"
      }
    },
    {
      "cell_type": "code",
      "source": [
        "for i in tqdm(list_of_models):\n",
        "    model = i\n",
        "    print(f\"Training Model {model}\")\n",
        "    model.fit(X_tfidfs[2],y_tfidfs[2])\n",
        "    y_pred = model.predict(X_tfidfs[2])\n",
        "    print()\n",
        "    print(metrics.classification_report(y_pred, y_tfidfs[2]))\n",
        "    print(log_loss(y_pred, y_tfidfs[2]))\n",
        "    print()"
      ],
      "metadata": {
        "colab": {
          "base_uri": "https://localhost:8080/"
        },
        "id": "lP7as854YnCn",
        "outputId": "2445aa03-baf0-4fd7-ef2d-0ea808db896f"
      },
      "execution_count": 813,
      "outputs": [
        {
          "output_type": "stream",
          "name": "stderr",
          "text": [
            "\r  0%|          | 0/4 [00:00<?, ?it/s]"
          ]
        },
        {
          "output_type": "stream",
          "name": "stdout",
          "text": [
            "Training Model LogisticRegression()\n"
          ]
        },
        {
          "output_type": "stream",
          "name": "stderr",
          "text": [
            "/usr/local/lib/python3.7/dist-packages/sklearn/utils/validation.py:993: DataConversionWarning: A column-vector y was passed when a 1d array was expected. Please change the shape of y to (n_samples, ), for example using ravel().\n",
            "  y = column_or_1d(y, warn=True)\n",
            " 25%|██▌       | 1/4 [00:00<00:01,  2.88it/s]"
          ]
        },
        {
          "output_type": "stream",
          "name": "stdout",
          "text": [
            "\n",
            "              precision    recall  f1-score   support\n",
            "\n",
            "           0       0.85      0.85      0.85     10271\n",
            "           1       0.85      0.86      0.85     10577\n",
            "\n",
            "    accuracy                           0.85     20848\n",
            "   macro avg       0.85      0.85      0.85     20848\n",
            "weighted avg       0.85      0.85      0.85     20848\n",
            "\n",
            "5.147411973393944\n",
            "\n",
            "Training Model MultinomialNB()\n",
            "\n",
            "              precision    recall  f1-score   support\n",
            "\n",
            "           0       0.78      0.83      0.80      9512\n",
            "           1       0.85      0.80      0.82     11336\n",
            "\n",
            "    accuracy                           0.81     20848\n",
            "   macro avg       0.81      0.82      0.81     20848\n",
            "weighted avg       0.82      0.81      0.82     20848\n",
            "\n",
            "6.394903158475268\n",
            "\n",
            "Training Model AdaBoostClassifier()\n"
          ]
        },
        {
          "output_type": "stream",
          "name": "stderr",
          "text": [
            "/usr/local/lib/python3.7/dist-packages/sklearn/utils/validation.py:993: DataConversionWarning: A column-vector y was passed when a 1d array was expected. Please change the shape of y to (n_samples, ), for example using ravel().\n",
            "  y = column_or_1d(y, warn=True)\n",
            "/usr/local/lib/python3.7/dist-packages/sklearn/utils/validation.py:993: DataConversionWarning: A column-vector y was passed when a 1d array was expected. Please change the shape of y to (n_samples, ), for example using ravel().\n",
            "  y = column_or_1d(y, warn=True)\n",
            " 75%|███████▌  | 3/4 [00:12<00:04,  4.77s/it]"
          ]
        },
        {
          "output_type": "stream",
          "name": "stdout",
          "text": [
            "\n",
            "              precision    recall  f1-score   support\n",
            "\n",
            "           0       0.82      0.83      0.83     10035\n",
            "           1       0.84      0.83      0.84     10813\n",
            "\n",
            "    accuracy                           0.83     20848\n",
            "   macro avg       0.83      0.83      0.83     20848\n",
            "weighted avg       0.83      0.83      0.83     20848\n",
            "\n",
            "5.84322738248959\n",
            "\n",
            "Training Model LGBMClassifier()\n"
          ]
        },
        {
          "output_type": "stream",
          "name": "stderr",
          "text": [
            "/usr/local/lib/python3.7/dist-packages/sklearn/preprocessing/_label.py:98: DataConversionWarning: A column-vector y was passed when a 1d array was expected. Please change the shape of y to (n_samples, ), for example using ravel().\n",
            "  y = column_or_1d(y, warn=True)\n",
            "/usr/local/lib/python3.7/dist-packages/sklearn/preprocessing/_label.py:133: DataConversionWarning: A column-vector y was passed when a 1d array was expected. Please change the shape of y to (n_samples, ), for example using ravel().\n",
            "  y = column_or_1d(y, warn=True)\n",
            "100%|██████████| 4/4 [00:21<00:00,  5.46s/it]"
          ]
        },
        {
          "output_type": "stream",
          "name": "stdout",
          "text": [
            "\n",
            "              precision    recall  f1-score   support\n",
            "\n",
            "           0       0.98      0.98      0.98     10199\n",
            "           1       0.98      0.98      0.98     10649\n",
            "\n",
            "    accuracy                           0.98     20848\n",
            "   macro avg       0.98      0.98      0.98     20848\n",
            "weighted avg       0.98      0.98      0.98     20848\n",
            "\n",
            "0.6113273032263079\n",
            "\n"
          ]
        },
        {
          "output_type": "stream",
          "name": "stderr",
          "text": [
            "\n"
          ]
        }
      ]
    },
    {
      "cell_type": "markdown",
      "source": [
        "Tactics label"
      ],
      "metadata": {
        "id": "-0B8uVtViEK7"
      }
    },
    {
      "cell_type": "code",
      "source": [
        "for i in tqdm(list_of_models):\n",
        "    model = i\n",
        "    print(f\"Training Model {model}\")\n",
        "    model.fit(X_tfidfs[3],y_tfidfs[3])\n",
        "    y_pred = model.predict(X_tfidfs[3])\n",
        "    print()\n",
        "    print(metrics.classification_report(y_pred, y_tfidfs[3]))\n",
        "    print(log_loss(y_pred, y_tfidfs[3]))\n",
        "    print()"
      ],
      "metadata": {
        "colab": {
          "base_uri": "https://localhost:8080/"
        },
        "id": "W91IbatYYtVG",
        "outputId": "986b1582-e7c5-402c-bf65-02691dcc01c9"
      },
      "execution_count": 814,
      "outputs": [
        {
          "output_type": "stream",
          "name": "stderr",
          "text": [
            "\r  0%|          | 0/4 [00:00<?, ?it/s]"
          ]
        },
        {
          "output_type": "stream",
          "name": "stdout",
          "text": [
            "Training Model LogisticRegression()\n"
          ]
        },
        {
          "output_type": "stream",
          "name": "stderr",
          "text": [
            "/usr/local/lib/python3.7/dist-packages/sklearn/utils/validation.py:993: DataConversionWarning: A column-vector y was passed when a 1d array was expected. Please change the shape of y to (n_samples, ), for example using ravel().\n",
            "  y = column_or_1d(y, warn=True)\n",
            " 25%|██▌       | 1/4 [00:00<00:01,  2.06it/s]"
          ]
        },
        {
          "output_type": "stream",
          "name": "stdout",
          "text": [
            "\n",
            "              precision    recall  f1-score   support\n",
            "\n",
            "           0       0.83      0.81      0.82     10577\n",
            "           1       0.81      0.82      0.82     10271\n",
            "\n",
            "    accuracy                           0.82     20848\n",
            "   macro avg       0.82      0.82      0.82     20848\n",
            "weighted avg       0.82      0.82      0.82     20848\n",
            "\n",
            "6.290547369874396\n",
            "\n",
            "Training Model MultinomialNB()\n",
            "\n",
            "              precision    recall  f1-score   support\n",
            "\n",
            "           0       0.80      0.79      0.79     10502\n",
            "           1       0.79      0.80      0.79     10346\n",
            "\n",
            "    accuracy                           0.79     20848\n",
            "   macro avg       0.79      0.79      0.79     20848\n",
            "weighted avg       0.79      0.79      0.79     20848\n",
            "\n",
            "7.17688799145374\n",
            "\n",
            "Training Model AdaBoostClassifier()\n"
          ]
        },
        {
          "output_type": "stream",
          "name": "stderr",
          "text": [
            "/usr/local/lib/python3.7/dist-packages/sklearn/utils/validation.py:993: DataConversionWarning: A column-vector y was passed when a 1d array was expected. Please change the shape of y to (n_samples, ), for example using ravel().\n",
            "  y = column_or_1d(y, warn=True)\n",
            "/usr/local/lib/python3.7/dist-packages/sklearn/utils/validation.py:993: DataConversionWarning: A column-vector y was passed when a 1d array was expected. Please change the shape of y to (n_samples, ), for example using ravel().\n",
            "  y = column_or_1d(y, warn=True)\n",
            " 75%|███████▌  | 3/4 [00:13<00:04,  4.81s/it]"
          ]
        },
        {
          "output_type": "stream",
          "name": "stdout",
          "text": [
            "\n",
            "              precision    recall  f1-score   support\n",
            "\n",
            "           0       0.80      0.82      0.81     10173\n",
            "           1       0.83      0.81      0.82     10675\n",
            "\n",
            "    accuracy                           0.81     20848\n",
            "   macro avg       0.81      0.81      0.81     20848\n",
            "weighted avg       0.81      0.81      0.81     20848\n",
            "\n",
            "6.406509611570141\n",
            "\n",
            "Training Model LGBMClassifier()\n"
          ]
        },
        {
          "output_type": "stream",
          "name": "stderr",
          "text": [
            "/usr/local/lib/python3.7/dist-packages/sklearn/preprocessing/_label.py:98: DataConversionWarning: A column-vector y was passed when a 1d array was expected. Please change the shape of y to (n_samples, ), for example using ravel().\n",
            "  y = column_or_1d(y, warn=True)\n",
            "/usr/local/lib/python3.7/dist-packages/sklearn/preprocessing/_label.py:133: DataConversionWarning: A column-vector y was passed when a 1d array was expected. Please change the shape of y to (n_samples, ), for example using ravel().\n",
            "  y = column_or_1d(y, warn=True)\n",
            "100%|██████████| 4/4 [00:21<00:00,  5.41s/it]"
          ]
        },
        {
          "output_type": "stream",
          "name": "stdout",
          "text": [
            "\n",
            "              precision    recall  f1-score   support\n",
            "\n",
            "           0       0.98      0.98      0.98     10372\n",
            "           1       0.98      0.98      0.98     10476\n",
            "\n",
            "    accuracy                           0.98     20848\n",
            "   macro avg       0.98      0.98      0.98     20848\n",
            "weighted avg       0.98      0.98      0.98     20848\n",
            "\n",
            "0.8349838067342249\n",
            "\n"
          ]
        },
        {
          "output_type": "stream",
          "name": "stderr",
          "text": [
            "\n"
          ]
        }
      ]
    },
    {
      "cell_type": "markdown",
      "source": [
        "###Splitting data"
      ],
      "metadata": {
        "id": "5gz6ihgUiIPJ"
      }
    },
    {
      "cell_type": "code",
      "source": [
        "X_temp = train_data['lemma']\n",
        "y_temp = train_data.drop(columns=['lemma'],axis=1)\n",
        "\n",
        "X_train, X_valid, y_train , y_valid = train_test_split(X_temp, y_temp, test_size=0.2)\n",
        "\n",
        "print(\"train_message : \", X_train.shape)\n",
        "print(\"train_target : \", y_train.shape)\n",
        "print(\"val_message : \", X_valid.shape)\n",
        "print(\"val_target : \", y_valid.shape)"
      ],
      "metadata": {
        "colab": {
          "base_uri": "https://localhost:8080/"
        },
        "id": "2vy9kp2tX7kz",
        "outputId": "567558f0-e403-422d-edf1-1254679ba0be"
      },
      "execution_count": 815,
      "outputs": [
        {
          "output_type": "stream",
          "name": "stdout",
          "text": [
            "train_message :  (16678,)\n",
            "train_target :  (16678, 7)\n",
            "val_message :  (4170,)\n",
            "val_target :  (4170, 7)\n"
          ]
        }
      ]
    },
    {
      "cell_type": "code",
      "source": [
        "models_ = train(classes,X_tfidfs,y_tfidfs)"
      ],
      "metadata": {
        "colab": {
          "base_uri": "https://localhost:8080/"
        },
        "id": "Bgcr6g7jZYEh",
        "outputId": "39235609-2563-409b-e672-7f9816204446"
      },
      "execution_count": 816,
      "outputs": [
        {
          "output_type": "stream",
          "name": "stderr",
          "text": [
            "\r0it [00:00, ?it/s]/usr/local/lib/python3.7/dist-packages/sklearn/utils/validation.py:993: DataConversionWarning: A column-vector y was passed when a 1d array was expected. Please change the shape of y to (n_samples, ), for example using ravel().\n",
            "  y = column_or_1d(y, warn=True)\n",
            "1it [00:00,  1.78it/s]"
          ]
        },
        {
          "output_type": "stream",
          "name": "stdout",
          "text": [
            "\n",
            "              precision    recall  f1-score   support\n",
            "\n",
            "           0       0.87      0.84      0.86     11860\n",
            "           1       0.80      0.83      0.81      8988\n",
            "\n",
            "    accuracy                           0.84     20848\n",
            "   macro avg       0.83      0.84      0.83     20848\n",
            "weighted avg       0.84      0.84      0.84     20848\n",
            "\n"
          ]
        },
        {
          "output_type": "stream",
          "name": "stderr",
          "text": [
            "/usr/local/lib/python3.7/dist-packages/sklearn/utils/validation.py:993: DataConversionWarning: A column-vector y was passed when a 1d array was expected. Please change the shape of y to (n_samples, ), for example using ravel().\n",
            "  y = column_or_1d(y, warn=True)\n",
            "2it [00:01,  1.92it/s]"
          ]
        },
        {
          "output_type": "stream",
          "name": "stdout",
          "text": [
            "\n",
            "              precision    recall  f1-score   support\n",
            "\n",
            "           0       0.86      0.84      0.85     10828\n",
            "           1       0.84      0.86      0.85     10020\n",
            "\n",
            "    accuracy                           0.85     20848\n",
            "   macro avg       0.85      0.85      0.85     20848\n",
            "weighted avg       0.85      0.85      0.85     20848\n",
            "\n"
          ]
        },
        {
          "output_type": "stream",
          "name": "stderr",
          "text": [
            "/usr/local/lib/python3.7/dist-packages/sklearn/utils/validation.py:993: DataConversionWarning: A column-vector y was passed when a 1d array was expected. Please change the shape of y to (n_samples, ), for example using ravel().\n",
            "  y = column_or_1d(y, warn=True)\n",
            "3it [00:01,  2.02it/s]"
          ]
        },
        {
          "output_type": "stream",
          "name": "stdout",
          "text": [
            "\n",
            "              precision    recall  f1-score   support\n",
            "\n",
            "           0       0.85      0.84      0.85     10286\n",
            "           1       0.85      0.86      0.85     10562\n",
            "\n",
            "    accuracy                           0.85     20848\n",
            "   macro avg       0.85      0.85      0.85     20848\n",
            "weighted avg       0.85      0.85      0.85     20848\n",
            "\n"
          ]
        },
        {
          "output_type": "stream",
          "name": "stderr",
          "text": [
            "/usr/local/lib/python3.7/dist-packages/sklearn/utils/validation.py:993: DataConversionWarning: A column-vector y was passed when a 1d array was expected. Please change the shape of y to (n_samples, ), for example using ravel().\n",
            "  y = column_or_1d(y, warn=True)\n",
            "4it [00:02,  1.91it/s]"
          ]
        },
        {
          "output_type": "stream",
          "name": "stdout",
          "text": [
            "\n",
            "              precision    recall  f1-score   support\n",
            "\n",
            "           0       0.82      0.81      0.82     10533\n",
            "           1       0.81      0.82      0.82     10315\n",
            "\n",
            "    accuracy                           0.82     20848\n",
            "   macro avg       0.82      0.82      0.82     20848\n",
            "weighted avg       0.82      0.82      0.82     20848\n",
            "\n"
          ]
        },
        {
          "output_type": "stream",
          "name": "stderr",
          "text": [
            "\n"
          ]
        }
      ]
    },
    {
      "cell_type": "markdown",
      "source": [
        "###Results on validation set class-wise"
      ],
      "metadata": {
        "id": "S6KGZD9y6xqb"
      }
    },
    {
      "cell_type": "code",
      "source": [
        "def validation(X,y,vectorizer,target):\n",
        "  print(f\"Validating Model {models_[target]}\")\n",
        "  y_pred = models_[target].predict_proba(X)\n",
        "  #print(Counter(y_pred))\n",
        "  #print(Counter(y))\n",
        "  #print(metrics.classification_report(y_pred, y))\n",
        "  print(\"Neg Log Loss: \", metrics.log_loss(y, y_pred))\n",
        "  print()\n",
        "  #print(' score: %.4f' % np.mean(cross_val_score(models_[target], X, y, scoring='accuracy', cv=5)))"
      ],
      "metadata": {
        "id": "dkA7OFrtYXvi"
      },
      "execution_count": 817,
      "outputs": []
    },
    {
      "cell_type": "code",
      "source": [
        "X_valid_for_tf = X_valid.to_numpy()\n",
        "X_valid_tfidf = vect.transform(X_valid_for_tf)\n",
        "label_1 = [0,1,2,3,4,5,6,7,8,9]\n",
        "label_2 = [0,1]\n",
        "for i,class_ in enumerate(classes):\n",
        "  print(f\"Class: {class_}\")\n",
        "  if i not in [0,5]:\n",
        "    validation(X_valid_tfidf,y_valid[class_],vect,class_)\n",
        "  else:\n",
        "    validation(X_valid_tfidf,y_valid[class_],vect,class_)"
      ],
      "metadata": {
        "colab": {
          "base_uri": "https://localhost:8080/"
        },
        "id": "rtBzKaoeYa7k",
        "outputId": "820fc508-8ae8-41ea-d09c-38224856b352"
      },
      "execution_count": 818,
      "outputs": [
        {
          "output_type": "stream",
          "name": "stdout",
          "text": [
            "Class: E\n",
            "Validating Model LogisticRegression(C=5, max_iter=5000, random_state=2020)\n",
            "Neg Log Loss:  0.39103543202148316\n",
            "\n",
            "Class: N\n",
            "Validating Model LogisticRegression(C=5, max_iter=5000, random_state=2020)\n",
            "Neg Log Loss:  0.3680812740744452\n",
            "\n",
            "Class: T\n",
            "Validating Model LogisticRegression(C=5, max_iter=5000, random_state=2020)\n",
            "Neg Log Loss:  0.3625140357882903\n",
            "\n",
            "Class: J\n",
            "Validating Model LogisticRegression(C=5, max_iter=5000, random_state=2020)\n",
            "Neg Log Loss:  0.4137959645220212\n",
            "\n"
          ]
        }
      ]
    },
    {
      "cell_type": "markdown",
      "source": [
        "##Mind model"
      ],
      "metadata": {
        "id": "GEyzc_9rcksb"
      }
    },
    {
      "cell_type": "markdown",
      "source": [
        "###Vectorization"
      ],
      "metadata": {
        "id": "aPv3gpZ5W_oi"
      }
    },
    {
      "cell_type": "code",
      "source": [
        "mind_df = train_data[['lemma','E']]"
      ],
      "metadata": {
        "id": "lJvgG4ajW5VC"
      },
      "execution_count": 819,
      "outputs": []
    },
    {
      "cell_type": "code",
      "source": [
        "vect_mind = TfidfVectorizer(lowercase=True, \n",
        "                            stop_words='english', \n",
        "                            max_features=250,\n",
        "                            min_df=4,\n",
        "                            max_df=0.5\n",
        "                           )\n",
        "\n",
        "vect_mind.fit(mind_df['lemma'])\n",
        "X_count_mind = vect_mind.transform(mind_df['lemma'])"
      ],
      "metadata": {
        "id": "8Dxa9fN9XBR3"
      },
      "execution_count": 820,
      "outputs": []
    },
    {
      "cell_type": "code",
      "source": [
        "X_count_mind.shape"
      ],
      "metadata": {
        "colab": {
          "base_uri": "https://localhost:8080/"
        },
        "id": "FqtcOUwrXKNX",
        "outputId": "fd7b477b-6430-4c49-bf3f-1578eeceead8"
      },
      "execution_count": 821,
      "outputs": [
        {
          "output_type": "execute_result",
          "data": {
            "text/plain": [
              "(20848, 250)"
            ]
          },
          "metadata": {},
          "execution_count": 821
        }
      ]
    },
    {
      "cell_type": "code",
      "source": [
        "vect_mind.get_feature_names()"
      ],
      "metadata": {
        "colab": {
          "base_uri": "https://localhost:8080/"
        },
        "id": "Tlu_34xZXgY-",
        "outputId": "e29b30a4-2b46-414b-fa8d-5234df862aea"
      },
      "execution_count": 822,
      "outputs": [
        {
          "output_type": "execute_result",
          "data": {
            "text/plain": [
              "['able',\n",
              " 'absolutely',\n",
              " 'act',\n",
              " 'advice',\n",
              " 'ago',\n",
              " 'agree',\n",
              " 'answer',\n",
              " 'arent',\n",
              " 'ask',\n",
              " 'away',\n",
              " 'awesome',\n",
              " 'bad',\n",
              " 'based',\n",
              " 'believe',\n",
              " 'big',\n",
              " 'bit',\n",
              " 'book',\n",
              " 'came',\n",
              " 'care',\n",
              " 'case',\n",
              " 'cause',\n",
              " 'certain',\n",
              " 'change',\n",
              " 'character',\n",
              " 'child',\n",
              " 'class',\n",
              " 'close',\n",
              " 'college',\n",
              " 'completely',\n",
              " 'consider',\n",
              " 'conversation',\n",
              " 'cool',\n",
              " 'couple',\n",
              " 'course',\n",
              " 'crazy',\n",
              " 'dad',\n",
              " 'deal',\n",
              " 'definitely',\n",
              " 'depends',\n",
              " 'description',\n",
              " 'difference',\n",
              " 'dream',\n",
              " 'easy',\n",
              " 'emotion',\n",
              " 'emotional',\n",
              " 'end',\n",
              " 'enfj',\n",
              " 'enfp',\n",
              " 'enfps',\n",
              " 'enjoy',\n",
              " 'enneagram',\n",
              " 'entj',\n",
              " 'entp',\n",
              " 'entps',\n",
              " 'esfj',\n",
              " 'esfp',\n",
              " 'especially',\n",
              " 'estj',\n",
              " 'estp',\n",
              " 'exactly',\n",
              " 'example',\n",
              " 'experience',\n",
              " 'eye',\n",
              " 'face',\n",
              " 'fact',\n",
              " 'family',\n",
              " 'far',\n",
              " 'favorite',\n",
              " 'fe',\n",
              " 'felt',\n",
              " 'female',\n",
              " 'fi',\n",
              " 'figure',\n",
              " 'fit',\n",
              " 'forum',\n",
              " 'fun',\n",
              " 'function',\n",
              " 'funny',\n",
              " 'game',\n",
              " 'general',\n",
              " 'generally',\n",
              " 'getting',\n",
              " 'girl',\n",
              " 'god',\n",
              " 'great',\n",
              " 'group',\n",
              " 'guess',\n",
              " 'haha',\n",
              " 'hand',\n",
              " 'happy',\n",
              " 'hate',\n",
              " 'havent',\n",
              " 'having',\n",
              " 'head',\n",
              " 'hear',\n",
              " 'hell',\n",
              " 'hello',\n",
              " 'hey',\n",
              " 'hi',\n",
              " 'high',\n",
              " 'home',\n",
              " 'honestly',\n",
              " 'hope',\n",
              " 'hour',\n",
              " 'human',\n",
              " 'hurt',\n",
              " 'important',\n",
              " 'infj',\n",
              " 'infjs',\n",
              " 'infp',\n",
              " 'infps',\n",
              " 'interested',\n",
              " 'interesting',\n",
              " 'intj',\n",
              " 'intjs',\n",
              " 'intp',\n",
              " 'intps',\n",
              " 'introverted',\n",
              " 'isfj',\n",
              " 'isfp',\n",
              " 'isnt',\n",
              " 'issue',\n",
              " 'istj',\n",
              " 'istp',\n",
              " 'job',\n",
              " 'kid',\n",
              " 'kinda',\n",
              " 'laughing',\n",
              " 'le',\n",
              " 'learn',\n",
              " 'likely',\n",
              " 'live',\n",
              " 'lol',\n",
              " 'looking',\n",
              " 'making',\n",
              " 'male',\n",
              " 'man',\n",
              " 'matter',\n",
              " 'mbti',\n",
              " 'meet',\n",
              " 'met',\n",
              " 'mom',\n",
              " 'moment',\n",
              " 'month',\n",
              " 'movie',\n",
              " 'music',\n",
              " 'ne',\n",
              " 'ni',\n",
              " 'nice',\n",
              " 'night',\n",
              " 'oh',\n",
              " 'ok',\n",
              " 'okay',\n",
              " 'old',\n",
              " 'open',\n",
              " 'opinion',\n",
              " 'parent',\n",
              " 'past',\n",
              " 'personal',\n",
              " 'personality',\n",
              " 'personally',\n",
              " 'picture',\n",
              " 'place',\n",
              " 'play',\n",
              " 'possible',\n",
              " 'prefer',\n",
              " 'problem',\n",
              " 'quite',\n",
              " 'reading',\n",
              " 'real',\n",
              " 'reason',\n",
              " 'recently',\n",
              " 'relate',\n",
              " 'relationship',\n",
              " 'remember',\n",
              " 'response',\n",
              " 'result',\n",
              " 'sad',\n",
              " 'saw',\n",
              " 'saying',\n",
              " 'school',\n",
              " 'se',\n",
              " 'second',\n",
              " 'seen',\n",
              " 'self',\n",
              " 'sense',\n",
              " 'sent',\n",
              " 'seriously',\n",
              " 'sex',\n",
              " 'share',\n",
              " 'shes',\n",
              " 'shit',\n",
              " 'si',\n",
              " 'similar',\n",
              " 'situation',\n",
              " 'sleep',\n",
              " 'social',\n",
              " 'song',\n",
              " 'sorry',\n",
              " 'sort',\n",
              " 'start',\n",
              " 'started',\n",
              " 'stop',\n",
              " 'story',\n",
              " 'strong',\n",
              " 'stuff',\n",
              " 'taking',\n",
              " 'talk',\n",
              " 'talking',\n",
              " 'te',\n",
              " 'tend',\n",
              " 'test',\n",
              " 'thank',\n",
              " 'thanks',\n",
              " 'theyre',\n",
              " 'ti',\n",
              " 'today',\n",
              " 'told',\n",
              " 'tongue',\n",
              " 'took',\n",
              " 'topic',\n",
              " 'totally',\n",
              " 'true',\n",
              " 'unless',\n",
              " 'use',\n",
              " 'used',\n",
              " 'using',\n",
              " 'value',\n",
              " 'video',\n",
              " 'wanted',\n",
              " 'wasnt',\n",
              " 'watch',\n",
              " 'week',\n",
              " 'weird',\n",
              " 'welcome',\n",
              " 'went',\n",
              " 'whats',\n",
              " 'wish',\n",
              " 'woman',\n",
              " 'wont',\n",
              " 'word',\n",
              " 'working',\n",
              " 'world',\n",
              " 'wouldnt',\n",
              " 'wow',\n",
              " 'write',\n",
              " 'wrong',\n",
              " 'xd',\n",
              " 'yeah',\n",
              " 'youve']"
            ]
          },
          "metadata": {},
          "execution_count": 822
        }
      ]
    },
    {
      "cell_type": "markdown",
      "source": [
        "###Splitting data"
      ],
      "metadata": {
        "id": "HtGH_RQaXEbl"
      }
    },
    {
      "cell_type": "code",
      "source": [
        "X = X_count_mind\n",
        "y = mind_df['E']\n",
        "X_train, X_test, y_train, y_test = train_test_split(X, \n",
        "                                                    y,\n",
        "                                                    test_size =0.3,\n",
        "                                                   random_state = 2001)"
      ],
      "metadata": {
        "id": "I5GTYyk5XorC"
      },
      "execution_count": 823,
      "outputs": []
    },
    {
      "cell_type": "markdown",
      "source": [
        "###Finding best model"
      ],
      "metadata": {
        "id": "oBChyIj9YXtj"
      }
    },
    {
      "cell_type": "code",
      "source": [
        "best_mind_model = tune_LogReg_model(X_train, y_train)"
      ],
      "metadata": {
        "colab": {
          "base_uri": "https://localhost:8080/"
        },
        "id": "xpU3RECLYSdy",
        "outputId": "008524b4-6be7-4f6f-e0fe-c9b00c9d0f12"
      },
      "execution_count": 824,
      "outputs": [
        {
          "output_type": "stream",
          "name": "stderr",
          "text": [
            "/usr/local/lib/python3.7/dist-packages/sklearn/model_selection/_validation.py:372: FitFailedWarning: \n",
            "50 fits failed out of a total of 100.\n",
            "The score on these train-test partitions for these parameters will be set to nan.\n",
            "If these failures are not expected, you can try to debug them by setting error_score='raise'.\n",
            "\n",
            "Below are more details about the failures:\n",
            "--------------------------------------------------------------------------------\n",
            "50 fits failed with the following error:\n",
            "Traceback (most recent call last):\n",
            "  File \"/usr/local/lib/python3.7/dist-packages/sklearn/model_selection/_validation.py\", line 680, in _fit_and_score\n",
            "    estimator.fit(X_train, y_train, **fit_params)\n",
            "  File \"/usr/local/lib/python3.7/dist-packages/sklearn/linear_model/_logistic.py\", line 1461, in fit\n",
            "    solver = _check_solver(self.solver, self.penalty, self.dual)\n",
            "  File \"/usr/local/lib/python3.7/dist-packages/sklearn/linear_model/_logistic.py\", line 449, in _check_solver\n",
            "    % (solver, penalty)\n",
            "ValueError: Solver lbfgs supports only 'l2' or 'none' penalties, got l1 penalty.\n",
            "\n",
            "  warnings.warn(some_fits_failed_message, FitFailedWarning)\n",
            "/usr/local/lib/python3.7/dist-packages/sklearn/model_selection/_search.py:972: UserWarning: One or more of the test scores are non-finite: [         nan -15.3889619           nan  -8.91813298          nan\n",
            "  -6.13007055          nan  -5.82477391          nan  -5.68749824\n",
            "          nan  -5.67329591          nan  -5.76796797          nan\n",
            "  -5.79400278          nan  -5.79636889          nan  -5.81293863]\n",
            "  category=UserWarning,\n"
          ]
        }
      ]
    },
    {
      "cell_type": "code",
      "source": [
        "best_mind_model.best_params_"
      ],
      "metadata": {
        "colab": {
          "base_uri": "https://localhost:8080/"
        },
        "id": "F9BrfZwKYZmA",
        "outputId": "a8b32c71-e0cb-40ce-fa13-22e5891d8550"
      },
      "execution_count": 825,
      "outputs": [
        {
          "output_type": "execute_result",
          "data": {
            "text/plain": [
              "{'C': 1, 'penalty': 'l2'}"
            ]
          },
          "metadata": {},
          "execution_count": 825
        }
      ]
    },
    {
      "cell_type": "markdown",
      "source": [
        "###Training"
      ],
      "metadata": {
        "id": "0FobSJW_0bu2"
      }
    },
    {
      "cell_type": "code",
      "source": [
        "mind_model = LogisticRegression(C=best_mind_model.best_params_['C'], penalty = best_mind_model.best_params_['penalty'])\n",
        "mind_model.fit(X_train, y_train)"
      ],
      "metadata": {
        "colab": {
          "base_uri": "https://localhost:8080/"
        },
        "id": "9jYyleloYcCw",
        "outputId": "33ad40e0-5899-4819-f2c4-3b19ae78535d"
      },
      "execution_count": 826,
      "outputs": [
        {
          "output_type": "execute_result",
          "data": {
            "text/plain": [
              "LogisticRegression(C=1)"
            ]
          },
          "metadata": {},
          "execution_count": 826
        }
      ]
    },
    {
      "cell_type": "markdown",
      "source": [
        "###Results"
      ],
      "metadata": {
        "id": "GMNeBuilZYxK"
      }
    },
    {
      "cell_type": "markdown",
      "source": [
        "####Accuracy score"
      ],
      "metadata": {
        "id": "KBOx2GRzYhis"
      }
    },
    {
      "cell_type": "markdown",
      "source": [
        "On train data"
      ],
      "metadata": {
        "id": "0wcFdkmaYuaq"
      }
    },
    {
      "cell_type": "code",
      "source": [
        "y_pred_train = mind_model.predict(X_train)\n",
        "acc_train = accuracy_score(y_train, y_pred_train)\n",
        "print(acc_train)"
      ],
      "metadata": {
        "colab": {
          "base_uri": "https://localhost:8080/"
        },
        "id": "gjtuaBwPYjhL",
        "outputId": "f37812b4-a2f5-4ae6-8cba-2d7f0d0eb809"
      },
      "execution_count": 827,
      "outputs": [
        {
          "output_type": "stream",
          "name": "stdout",
          "text": [
            "0.8419105050366614\n"
          ]
        }
      ]
    },
    {
      "cell_type": "markdown",
      "source": [
        "On test data"
      ],
      "metadata": {
        "id": "nnoJvW05Yxty"
      }
    },
    {
      "cell_type": "code",
      "source": [
        "y_pred_test = mind_model.predict(X_test)\n",
        "acc_test = accuracy_score(y_test, y_pred_test)\n",
        "print(acc_test)"
      ],
      "metadata": {
        "colab": {
          "base_uri": "https://localhost:8080/"
        },
        "id": "S_1KR4GLYyyk",
        "outputId": "be405290-7db9-49cd-d9fc-11ebd45fa166"
      },
      "execution_count": 828,
      "outputs": [
        {
          "output_type": "stream",
          "name": "stdout",
          "text": [
            "0.8236610711430855\n"
          ]
        }
      ]
    },
    {
      "cell_type": "markdown",
      "source": [
        "####Classification reports"
      ],
      "metadata": {
        "id": "sReIKTOuZTnC"
      }
    },
    {
      "cell_type": "markdown",
      "source": [
        "On train data"
      ],
      "metadata": {
        "id": "vsj3JLsr0nnQ"
      }
    },
    {
      "cell_type": "code",
      "source": [
        "print(classification_report(y_train, y_pred_train))"
      ],
      "metadata": {
        "colab": {
          "base_uri": "https://localhost:8080/"
        },
        "id": "5hTY2ILhZVjm",
        "outputId": "f6989e66-fb40-4508-e4a9-7da7c5bbc53e"
      },
      "execution_count": 829,
      "outputs": [
        {
          "output_type": "stream",
          "name": "stdout",
          "text": [
            "              precision    recall  f1-score   support\n",
            "\n",
            "           0       0.85      0.87      0.86      8091\n",
            "           1       0.84      0.80      0.82      6502\n",
            "\n",
            "    accuracy                           0.84     14593\n",
            "   macro avg       0.84      0.84      0.84     14593\n",
            "weighted avg       0.84      0.84      0.84     14593\n",
            "\n"
          ]
        }
      ]
    },
    {
      "cell_type": "markdown",
      "source": [
        "On test data"
      ],
      "metadata": {
        "id": "CXpNI9hB0prW"
      }
    },
    {
      "cell_type": "code",
      "source": [
        "print(classification_report(y_test, y_pred_test))"
      ],
      "metadata": {
        "colab": {
          "base_uri": "https://localhost:8080/"
        },
        "id": "d09NYIdGZfnj",
        "outputId": "67e7267c-74a2-48d6-f9ba-7d2b10390d97"
      },
      "execution_count": 830,
      "outputs": [
        {
          "output_type": "stream",
          "name": "stdout",
          "text": [
            "              precision    recall  f1-score   support\n",
            "\n",
            "           0       0.83      0.86      0.84      3468\n",
            "           1       0.81      0.78      0.80      2787\n",
            "\n",
            "    accuracy                           0.82      6255\n",
            "   macro avg       0.82      0.82      0.82      6255\n",
            "weighted avg       0.82      0.82      0.82      6255\n",
            "\n"
          ]
        }
      ]
    },
    {
      "cell_type": "markdown",
      "source": [
        "####Log losses"
      ],
      "metadata": {
        "id": "V-RhbXjnZnvO"
      }
    },
    {
      "cell_type": "markdown",
      "source": [
        "Train data"
      ],
      "metadata": {
        "id": "CDA0foz5t8LE"
      }
    },
    {
      "cell_type": "code",
      "source": [
        "log_loss(y_train, y_pred_train)"
      ],
      "metadata": {
        "colab": {
          "base_uri": "https://localhost:8080/"
        },
        "id": "cb9Stg_iZpZ5",
        "outputId": "1f9350e0-da73-4010-d3f6-4a39c54a3507"
      },
      "execution_count": 831,
      "outputs": [
        {
          "output_type": "execute_result",
          "data": {
            "text/plain": [
              "5.460273332039375"
            ]
          },
          "metadata": {},
          "execution_count": 831
        }
      ]
    },
    {
      "cell_type": "markdown",
      "source": [
        "Test data"
      ],
      "metadata": {
        "id": "e0F4Cmpxt9XS"
      }
    },
    {
      "cell_type": "code",
      "source": [
        "log_loss(y_test, y_pred_test)"
      ],
      "metadata": {
        "colab": {
          "base_uri": "https://localhost:8080/"
        },
        "id": "wBAwusmCZrXa",
        "outputId": "318dcb58-a208-4062-a217-037f70763693"
      },
      "execution_count": 832,
      "outputs": [
        {
          "output_type": "execute_result",
          "data": {
            "text/plain": [
              "6.090594622334796"
            ]
          },
          "metadata": {},
          "execution_count": 832
        }
      ]
    },
    {
      "cell_type": "code",
      "source": [
        "mind_log_loss = cross_val_score(mind_model, X, y, scoring= make_scorer(scoring_function_log_loss, greater_is_better = False),cv=4,)\n",
        "print('Log Loss %2f' %(-1 * mind_log_loss.mean()))\n",
        "\n",
        "mind_acc = cross_val_score(mind_model, X, y, scoring='accuracy',cv=4,)\n",
        "print('Accuracy %2f' %(mind_acc.mean()))"
      ],
      "metadata": {
        "colab": {
          "base_uri": "https://localhost:8080/"
        },
        "id": "ggZMxoPDZvQO",
        "outputId": "e380ba9b-ec9a-469c-e404-69815b7511a5"
      },
      "execution_count": 833,
      "outputs": [
        {
          "output_type": "stream",
          "name": "stdout",
          "text": [
            "Log Loss 5.786896\n",
            "Accuracy 0.832454\n"
          ]
        }
      ]
    },
    {
      "cell_type": "markdown",
      "source": [
        "##Energy model"
      ],
      "metadata": {
        "id": "AUsgM3AnaCH9"
      }
    },
    {
      "cell_type": "code",
      "source": [
        "energy_df = train_data[['lemma','N']]"
      ],
      "metadata": {
        "id": "KzaNAAqfaDz9"
      },
      "execution_count": 834,
      "outputs": []
    },
    {
      "cell_type": "markdown",
      "source": [
        "###Vectorization"
      ],
      "metadata": {
        "id": "PreoaKZ90GSG"
      }
    },
    {
      "cell_type": "code",
      "source": [
        "vect_energy = TfidfVectorizer(lowercase=True, \n",
        "                            stop_words='english', \n",
        "                            max_features=195,\n",
        "                            min_df=4,\n",
        "                            max_df=0.5\n",
        "                           )\n",
        "vect_energy.fit(energy_df['lemma'])\n",
        "X_count_energy = vect_energy.transform(energy_df['lemma'])"
      ],
      "metadata": {
        "id": "6C4LtQzOaHXS"
      },
      "execution_count": 835,
      "outputs": []
    },
    {
      "cell_type": "code",
      "source": [
        "X_count_energy.shape"
      ],
      "metadata": {
        "colab": {
          "base_uri": "https://localhost:8080/"
        },
        "id": "yA-3rq4t1C6G",
        "outputId": "c2308066-85c3-430b-949a-dc28f55428bf"
      },
      "execution_count": 836,
      "outputs": [
        {
          "output_type": "execute_result",
          "data": {
            "text/plain": [
              "(20848, 195)"
            ]
          },
          "metadata": {},
          "execution_count": 836
        }
      ]
    },
    {
      "cell_type": "code",
      "source": [
        "vect_energy.get_feature_names()"
      ],
      "metadata": {
        "colab": {
          "base_uri": "https://localhost:8080/"
        },
        "id": "PzoH4Y0y1GEB",
        "outputId": "e1f7e8bc-fa32-45ad-ac9b-72dcc3314e4e"
      },
      "execution_count": 837,
      "outputs": [
        {
          "output_type": "execute_result",
          "data": {
            "text/plain": [
              "['able',\n",
              " 'advice',\n",
              " 'ago',\n",
              " 'agree',\n",
              " 'answer',\n",
              " 'arent',\n",
              " 'ask',\n",
              " 'away',\n",
              " 'awesome',\n",
              " 'bad',\n",
              " 'based',\n",
              " 'believe',\n",
              " 'big',\n",
              " 'bit',\n",
              " 'book',\n",
              " 'care',\n",
              " 'case',\n",
              " 'certain',\n",
              " 'change',\n",
              " 'character',\n",
              " 'child',\n",
              " 'class',\n",
              " 'close',\n",
              " 'completely',\n",
              " 'conversation',\n",
              " 'cool',\n",
              " 'course',\n",
              " 'crazy',\n",
              " 'definitely',\n",
              " 'depends',\n",
              " 'description',\n",
              " 'emotion',\n",
              " 'emotional',\n",
              " 'end',\n",
              " 'enfj',\n",
              " 'enfp',\n",
              " 'enjoy',\n",
              " 'entj',\n",
              " 'entp',\n",
              " 'esfj',\n",
              " 'esfp',\n",
              " 'especially',\n",
              " 'estj',\n",
              " 'estp',\n",
              " 'exactly',\n",
              " 'example',\n",
              " 'experience',\n",
              " 'eye',\n",
              " 'fact',\n",
              " 'family',\n",
              " 'far',\n",
              " 'favorite',\n",
              " 'fe',\n",
              " 'felt',\n",
              " 'female',\n",
              " 'fi',\n",
              " 'fit',\n",
              " 'forum',\n",
              " 'fun',\n",
              " 'function',\n",
              " 'funny',\n",
              " 'game',\n",
              " 'general',\n",
              " 'getting',\n",
              " 'girl',\n",
              " 'great',\n",
              " 'group',\n",
              " 'guess',\n",
              " 'haha',\n",
              " 'happy',\n",
              " 'hate',\n",
              " 'havent',\n",
              " 'having',\n",
              " 'head',\n",
              " 'hear',\n",
              " 'hello',\n",
              " 'hey',\n",
              " 'hi',\n",
              " 'high',\n",
              " 'home',\n",
              " 'hope',\n",
              " 'hour',\n",
              " 'infj',\n",
              " 'infjs',\n",
              " 'infp',\n",
              " 'interested',\n",
              " 'interesting',\n",
              " 'intj',\n",
              " 'intjs',\n",
              " 'intp',\n",
              " 'isfj',\n",
              " 'isfp',\n",
              " 'isnt',\n",
              " 'issue',\n",
              " 'istj',\n",
              " 'istp',\n",
              " 'job',\n",
              " 'kid',\n",
              " 'laughing',\n",
              " 'le',\n",
              " 'learn',\n",
              " 'likely',\n",
              " 'live',\n",
              " 'lol',\n",
              " 'looking',\n",
              " 'making',\n",
              " 'male',\n",
              " 'man',\n",
              " 'matter',\n",
              " 'mbti',\n",
              " 'met',\n",
              " 'mom',\n",
              " 'month',\n",
              " 'movie',\n",
              " 'music',\n",
              " 'ne',\n",
              " 'ni',\n",
              " 'nice',\n",
              " 'night',\n",
              " 'oh',\n",
              " 'ok',\n",
              " 'okay',\n",
              " 'old',\n",
              " 'opinion',\n",
              " 'past',\n",
              " 'personal',\n",
              " 'personality',\n",
              " 'personally',\n",
              " 'place',\n",
              " 'play',\n",
              " 'problem',\n",
              " 'quite',\n",
              " 'reading',\n",
              " 'real',\n",
              " 'reason',\n",
              " 'recently',\n",
              " 'relate',\n",
              " 'relationship',\n",
              " 'remember',\n",
              " 'saying',\n",
              " 'school',\n",
              " 'se',\n",
              " 'second',\n",
              " 'seen',\n",
              " 'sense',\n",
              " 'sent',\n",
              " 'shes',\n",
              " 'si',\n",
              " 'similar',\n",
              " 'situation',\n",
              " 'social',\n",
              " 'song',\n",
              " 'sorry',\n",
              " 'sort',\n",
              " 'start',\n",
              " 'started',\n",
              " 'stop',\n",
              " 'story',\n",
              " 'strong',\n",
              " 'stuff',\n",
              " 'talk',\n",
              " 'talking',\n",
              " 'tend',\n",
              " 'test',\n",
              " 'thank',\n",
              " 'thanks',\n",
              " 'theyre',\n",
              " 'ti',\n",
              " 'today',\n",
              " 'told',\n",
              " 'took',\n",
              " 'totally',\n",
              " 'true',\n",
              " 'use',\n",
              " 'used',\n",
              " 'using',\n",
              " 'value',\n",
              " 'video',\n",
              " 'wanted',\n",
              " 'wasnt',\n",
              " 'week',\n",
              " 'weird',\n",
              " 'welcome',\n",
              " 'went',\n",
              " 'whats',\n",
              " 'wish',\n",
              " 'woman',\n",
              " 'wont',\n",
              " 'word',\n",
              " 'working',\n",
              " 'world',\n",
              " 'wouldnt',\n",
              " 'wrong',\n",
              " 'xd',\n",
              " 'yeah']"
            ]
          },
          "metadata": {},
          "execution_count": 837
        }
      ]
    },
    {
      "cell_type": "markdown",
      "source": [
        "###Splitting data"
      ],
      "metadata": {
        "id": "9mXoG4bOaQHU"
      }
    },
    {
      "cell_type": "code",
      "source": [
        "X = X_count_energy\n",
        "y = energy_df['N']\n",
        "X_train, X_test, y_train, y_test = train_test_split(X, \n",
        "                                                    y,\n",
        "                                                    test_size =0.3,\n",
        "                                                   random_state = 2001)"
      ],
      "metadata": {
        "id": "OwahDEV6aPGY"
      },
      "execution_count": 838,
      "outputs": []
    },
    {
      "cell_type": "markdown",
      "source": [
        "###Finding best model"
      ],
      "metadata": {
        "id": "K8vhl7m_aXqG"
      }
    },
    {
      "cell_type": "code",
      "source": [
        "best_energy_model = tune_LogReg_model(X_train, y_train)"
      ],
      "metadata": {
        "colab": {
          "base_uri": "https://localhost:8080/"
        },
        "id": "igpH-k9-aVkg",
        "outputId": "329b75f7-49ec-4ceb-f4d3-5d6a8e450d45"
      },
      "execution_count": 839,
      "outputs": [
        {
          "output_type": "stream",
          "name": "stderr",
          "text": [
            "/usr/local/lib/python3.7/dist-packages/sklearn/model_selection/_validation.py:372: FitFailedWarning: \n",
            "50 fits failed out of a total of 100.\n",
            "The score on these train-test partitions for these parameters will be set to nan.\n",
            "If these failures are not expected, you can try to debug them by setting error_score='raise'.\n",
            "\n",
            "Below are more details about the failures:\n",
            "--------------------------------------------------------------------------------\n",
            "50 fits failed with the following error:\n",
            "Traceback (most recent call last):\n",
            "  File \"/usr/local/lib/python3.7/dist-packages/sklearn/model_selection/_validation.py\", line 680, in _fit_and_score\n",
            "    estimator.fit(X_train, y_train, **fit_params)\n",
            "  File \"/usr/local/lib/python3.7/dist-packages/sklearn/linear_model/_logistic.py\", line 1461, in fit\n",
            "    solver = _check_solver(self.solver, self.penalty, self.dual)\n",
            "  File \"/usr/local/lib/python3.7/dist-packages/sklearn/linear_model/_logistic.py\", line 449, in _check_solver\n",
            "    % (solver, penalty)\n",
            "ValueError: Solver lbfgs supports only 'l2' or 'none' penalties, got l1 penalty.\n",
            "\n",
            "  warnings.warn(some_fits_failed_message, FitFailedWarning)\n",
            "/usr/local/lib/python3.7/dist-packages/sklearn/model_selection/_search.py:972: UserWarning: One or more of the test scores are non-finite: [         nan -10.42819275          nan  -6.36439067          nan\n",
            "  -5.7939784           nan  -5.82236913          nan  -5.82710917\n",
            "          nan  -5.80816981          nan  -5.79634474          nan\n",
            "  -5.8223803           nan  -5.82000982          nan  -5.83184389]\n",
            "  category=UserWarning,\n"
          ]
        }
      ]
    },
    {
      "cell_type": "code",
      "source": [
        "best_energy_model.best_params_"
      ],
      "metadata": {
        "colab": {
          "base_uri": "https://localhost:8080/"
        },
        "id": "5JloTQKOadw5",
        "outputId": "c2771e4b-4262-41ae-b805-921141048b27"
      },
      "execution_count": 840,
      "outputs": [
        {
          "output_type": "execute_result",
          "data": {
            "text/plain": [
              "{'C': 0.1, 'penalty': 'l2'}"
            ]
          },
          "metadata": {},
          "execution_count": 840
        }
      ]
    },
    {
      "cell_type": "markdown",
      "source": [
        "###Training"
      ],
      "metadata": {
        "id": "-CztAuvKainN"
      }
    },
    {
      "cell_type": "code",
      "source": [
        "energy_model = LogisticRegression(C=best_energy_model.best_params_['C'], penalty = best_energy_model.best_params_['penalty'])\n",
        "energy_model.fit(X_train, y_train)"
      ],
      "metadata": {
        "colab": {
          "base_uri": "https://localhost:8080/"
        },
        "id": "V99LDUb1akNI",
        "outputId": "93d08ad7-77df-4fa8-8c59-c95e0e4d88c5"
      },
      "execution_count": 841,
      "outputs": [
        {
          "output_type": "execute_result",
          "data": {
            "text/plain": [
              "LogisticRegression(C=0.1)"
            ]
          },
          "metadata": {},
          "execution_count": 841
        }
      ]
    },
    {
      "cell_type": "markdown",
      "source": [
        "###Results"
      ],
      "metadata": {
        "id": "-bt-p_uTzpoZ"
      }
    },
    {
      "cell_type": "markdown",
      "source": [
        "####Accuracy score"
      ],
      "metadata": {
        "id": "uJHYUt3JzszS"
      }
    },
    {
      "cell_type": "markdown",
      "source": [
        "train data"
      ],
      "metadata": {
        "id": "MyzK6DBcaqun"
      }
    },
    {
      "cell_type": "code",
      "source": [
        "y_pred_train = energy_model.predict(X_train)\n",
        "\n",
        "accuracy_score(y_train, y_pred_train)"
      ],
      "metadata": {
        "colab": {
          "base_uri": "https://localhost:8080/"
        },
        "id": "Tp4s4tyuam9M",
        "outputId": "f17d8f25-bb16-4070-cf2e-b758f4256610"
      },
      "execution_count": 842,
      "outputs": [
        {
          "output_type": "execute_result",
          "data": {
            "text/plain": [
              "0.8382786267388473"
            ]
          },
          "metadata": {},
          "execution_count": 842
        }
      ]
    },
    {
      "cell_type": "markdown",
      "source": [
        "test data"
      ],
      "metadata": {
        "id": "CqVlHKvmav0O"
      }
    },
    {
      "cell_type": "code",
      "source": [
        "y_pred_test = energy_model.predict(X_test)\n",
        "\n",
        "accuracy_score(y_test, y_pred_test)"
      ],
      "metadata": {
        "colab": {
          "base_uri": "https://localhost:8080/"
        },
        "id": "MeZV-LjfayBJ",
        "outputId": "463fbd76-07ec-4168-b9d9-3cf93c3cae8c"
      },
      "execution_count": 843,
      "outputs": [
        {
          "output_type": "execute_result",
          "data": {
            "text/plain": [
              "0.8367705835331735"
            ]
          },
          "metadata": {},
          "execution_count": 843
        }
      ]
    },
    {
      "cell_type": "markdown",
      "source": [
        "####Classification report"
      ],
      "metadata": {
        "id": "qrBVPppBa_pW"
      }
    },
    {
      "cell_type": "markdown",
      "source": [
        "Train data"
      ],
      "metadata": {
        "id": "ks0MljOjbC0Y"
      }
    },
    {
      "cell_type": "code",
      "source": [
        "print(classification_report(y_train, y_pred_train))"
      ],
      "metadata": {
        "colab": {
          "base_uri": "https://localhost:8080/"
        },
        "id": "NNSkSP_ebBoV",
        "outputId": "ac152d40-cca0-4313-b7fd-b81d9ef17478"
      },
      "execution_count": 844,
      "outputs": [
        {
          "output_type": "stream",
          "name": "stdout",
          "text": [
            "              precision    recall  f1-score   support\n",
            "\n",
            "           0       0.84      0.84      0.84      7433\n",
            "           1       0.84      0.83      0.83      7160\n",
            "\n",
            "    accuracy                           0.84     14593\n",
            "   macro avg       0.84      0.84      0.84     14593\n",
            "weighted avg       0.84      0.84      0.84     14593\n",
            "\n"
          ]
        }
      ]
    },
    {
      "cell_type": "markdown",
      "source": [
        "Test data"
      ],
      "metadata": {
        "id": "rA0HLlkYbD1g"
      }
    },
    {
      "cell_type": "code",
      "source": [
        "print(classification_report(y_test, y_pred_test))"
      ],
      "metadata": {
        "colab": {
          "base_uri": "https://localhost:8080/"
        },
        "id": "Ie1R5YRybGyG",
        "outputId": "5e71be02-6f85-4c20-c2f7-98a531f1a656"
      },
      "execution_count": 845,
      "outputs": [
        {
          "output_type": "stream",
          "name": "stdout",
          "text": [
            "              precision    recall  f1-score   support\n",
            "\n",
            "           0       0.83      0.84      0.84      3139\n",
            "           1       0.84      0.83      0.84      3116\n",
            "\n",
            "    accuracy                           0.84      6255\n",
            "   macro avg       0.84      0.84      0.84      6255\n",
            "weighted avg       0.84      0.84      0.84      6255\n",
            "\n"
          ]
        }
      ]
    },
    {
      "cell_type": "markdown",
      "source": [
        "####Log losses"
      ],
      "metadata": {
        "id": "U5KyW-dXbPss"
      }
    },
    {
      "cell_type": "markdown",
      "source": [
        "Train data"
      ],
      "metadata": {
        "id": "8PrchOPez5sW"
      }
    },
    {
      "cell_type": "code",
      "source": [
        "log_loss(y_train, y_pred_train)"
      ],
      "metadata": {
        "colab": {
          "base_uri": "https://localhost:8080/"
        },
        "id": "O03c-fXCbJ1O",
        "outputId": "67b7988d-9650-4d19-b2a1-74f4a967a1ed"
      },
      "execution_count": 846,
      "outputs": [
        {
          "output_type": "execute_result",
          "data": {
            "text/plain": [
              "5.5857216903048394"
            ]
          },
          "metadata": {},
          "execution_count": 846
        }
      ]
    },
    {
      "cell_type": "markdown",
      "source": [
        "Test data"
      ],
      "metadata": {
        "id": "TscqQzN0z65N"
      }
    },
    {
      "cell_type": "code",
      "source": [
        "log_loss(y_train, y_pred_train)"
      ],
      "metadata": {
        "colab": {
          "base_uri": "https://localhost:8080/"
        },
        "id": "T-rFIMwAbLon",
        "outputId": "be22ad89-5ef8-4da5-c029-0c86f40ea84c"
      },
      "execution_count": 847,
      "outputs": [
        {
          "output_type": "execute_result",
          "data": {
            "text/plain": [
              "5.5857216903048394"
            ]
          },
          "metadata": {},
          "execution_count": 847
        }
      ]
    },
    {
      "cell_type": "code",
      "source": [
        "energy_log_loss = cross_val_score(energy_model, X, y, scoring=make_scorer(scoring_function_log_loss, greater_is_better = False),cv=4)\n",
        "print('Log Loss %2f' %(-1 * energy_log_loss.mean()))\n",
        "\n",
        "energy_acc = cross_val_score(energy_model, X, y, scoring='accuracy',cv=4,)\n",
        "print('Accuracy %2f' %(energy_acc.mean()))"
      ],
      "metadata": {
        "colab": {
          "base_uri": "https://localhost:8080/"
        },
        "id": "mL43WKLXbO5l",
        "outputId": "3d601ca2-dbbd-4ad0-9864-344c412b0ddb"
      },
      "execution_count": 848,
      "outputs": [
        {
          "output_type": "stream",
          "name": "stdout",
          "text": [
            "Log Loss 5.664304\n",
            "Accuracy 0.836003\n"
          ]
        }
      ]
    },
    {
      "cell_type": "markdown",
      "source": [
        "##Nature model"
      ],
      "metadata": {
        "id": "kXovEXMbbTYv"
      }
    },
    {
      "cell_type": "code",
      "source": [
        "nature_df = train_data[['lemma','T']]"
      ],
      "metadata": {
        "id": "LkI8ysF0wqBD"
      },
      "execution_count": 849,
      "outputs": []
    },
    {
      "cell_type": "markdown",
      "source": [
        "###Vectorizer"
      ],
      "metadata": {
        "id": "FWRkjahp2aKY"
      }
    },
    {
      "cell_type": "code",
      "source": [
        "vect_nature = TfidfVectorizer(lowercase=True, \n",
        "                            stop_words='english', \n",
        "                            max_features=3900,\n",
        "                            min_df=4,\n",
        "                            max_df=0.5\n",
        "                            #ngram_range=(3,3)\n",
        "                           )\n",
        "vect_nature.fit(nature_df['lemma'])\n",
        "X_count_nature = vect_nature.transform(nature_df['lemma'])"
      ],
      "metadata": {
        "id": "syCj6daOwstC"
      },
      "execution_count": 850,
      "outputs": []
    },
    {
      "cell_type": "code",
      "source": [
        "X_count_nature.shape"
      ],
      "metadata": {
        "colab": {
          "base_uri": "https://localhost:8080/"
        },
        "id": "QjnrsEwM2W3e",
        "outputId": "16a77e67-2b22-416d-8ada-f74146c93b14"
      },
      "execution_count": 851,
      "outputs": [
        {
          "output_type": "execute_result",
          "data": {
            "text/plain": [
              "(20848, 3900)"
            ]
          },
          "metadata": {},
          "execution_count": 851
        }
      ]
    },
    {
      "cell_type": "code",
      "source": [
        "vect_nature.get_feature_names()"
      ],
      "metadata": {
        "colab": {
          "base_uri": "https://localhost:8080/"
        },
        "id": "8e2QDxuh2YKL",
        "outputId": "fa19c85a-2a09-48d6-b268-41473589170a"
      },
      "execution_count": 852,
      "outputs": [
        {
          "output_type": "execute_result",
          "data": {
            "text/plain": [
              "['ability',\n",
              " 'able',\n",
              " 'abroad',\n",
              " 'absolute',\n",
              " 'absolutely',\n",
              " 'abstract',\n",
              " 'absurd',\n",
              " 'abt',\n",
              " 'abuse',\n",
              " 'abusive',\n",
              " 'academic',\n",
              " 'accent',\n",
              " 'accept',\n",
              " 'acceptable',\n",
              " 'acceptance',\n",
              " 'accepted',\n",
              " 'accepting',\n",
              " 'access',\n",
              " 'accident',\n",
              " 'accidentally',\n",
              " 'accomplish',\n",
              " 'accomplished',\n",
              " 'accomplishment',\n",
              " 'according',\n",
              " 'accordingly',\n",
              " 'account',\n",
              " 'accuracy',\n",
              " 'accurate',\n",
              " 'accurately',\n",
              " 'accused',\n",
              " 'ace',\n",
              " 'achieve',\n",
              " 'achievement',\n",
              " 'acknowledge',\n",
              " 'acquaintance',\n",
              " 'act',\n",
              " 'acted',\n",
              " 'acting',\n",
              " 'action',\n",
              " 'active',\n",
              " 'actively',\n",
              " 'activity',\n",
              " 'actor',\n",
              " 'actual',\n",
              " 'ad',\n",
              " 'adam',\n",
              " 'adapt',\n",
              " 'add',\n",
              " 'added',\n",
              " 'addicted',\n",
              " 'addiction',\n",
              " 'adding',\n",
              " 'addition',\n",
              " 'address',\n",
              " 'adhd',\n",
              " 'admire',\n",
              " 'admit',\n",
              " 'adorable',\n",
              " 'adore',\n",
              " 'adult',\n",
              " 'advance',\n",
              " 'advanced',\n",
              " 'advantage',\n",
              " 'adventure',\n",
              " 'adventurous',\n",
              " 'advice',\n",
              " 'advise',\n",
              " 'advocate',\n",
              " 'aesthetic',\n",
              " 'affect',\n",
              " 'affected',\n",
              " 'affection',\n",
              " 'affectionate',\n",
              " 'affirmation',\n",
              " 'afford',\n",
              " 'afraid',\n",
              " 'afternoon',\n",
              " 'age',\n",
              " 'agenda',\n",
              " 'agent',\n",
              " 'aggressive',\n",
              " 'agnostic',\n",
              " 'ago',\n",
              " 'agree',\n",
              " 'agreed',\n",
              " 'agreement',\n",
              " 'ah',\n",
              " 'ahead',\n",
              " 'ahh',\n",
              " 'ahhh',\n",
              " 'aid',\n",
              " 'aim',\n",
              " 'aint',\n",
              " 'air',\n",
              " 'aka',\n",
              " 'ala',\n",
              " 'alarm',\n",
              " 'albeit',\n",
              " 'album',\n",
              " 'alcohol',\n",
              " 'alcoholic',\n",
              " 'alice',\n",
              " 'alien',\n",
              " 'alike',\n",
              " 'alive',\n",
              " 'allow',\n",
              " 'allowed',\n",
              " 'allowing',\n",
              " 'allows',\n",
              " 'aloof',\n",
              " 'alot',\n",
              " 'alpha',\n",
              " 'alright',\n",
              " 'alternate',\n",
              " 'alternative',\n",
              " 'amazing',\n",
              " 'ambition',\n",
              " 'ambitious',\n",
              " 'america',\n",
              " 'american',\n",
              " 'amused',\n",
              " 'amusing',\n",
              " 'analogy',\n",
              " 'analysis',\n",
              " 'analytical',\n",
              " 'analyze',\n",
              " 'analyzing',\n",
              " 'ancient',\n",
              " 'andor',\n",
              " 'androgynous',\n",
              " 'angel',\n",
              " 'anger',\n",
              " 'angle',\n",
              " 'angry',\n",
              " 'animal',\n",
              " 'anime',\n",
              " 'anna',\n",
              " 'annoy',\n",
              " 'annoyed',\n",
              " 'annoying',\n",
              " 'annoys',\n",
              " 'anonymous',\n",
              " 'answer',\n",
              " 'answered',\n",
              " 'answering',\n",
              " 'antisocial',\n",
              " 'anxiety',\n",
              " 'anxious',\n",
              " 'anybody',\n",
              " 'anymore',\n",
              " 'anyones',\n",
              " 'anytime',\n",
              " 'anyways',\n",
              " 'ap',\n",
              " 'apart',\n",
              " 'apartment',\n",
              " 'apologize',\n",
              " 'apology',\n",
              " 'app',\n",
              " 'apparent',\n",
              " 'apparently',\n",
              " 'appeal',\n",
              " 'appealing',\n",
              " 'appear',\n",
              " 'appearance',\n",
              " 'appears',\n",
              " 'apple',\n",
              " 'application',\n",
              " 'applied',\n",
              " 'applies',\n",
              " 'apply',\n",
              " 'applying',\n",
              " 'appreciate',\n",
              " 'appreciated',\n",
              " 'appreciation',\n",
              " 'approach',\n",
              " 'approaching',\n",
              " 'appropriate',\n",
              " 'approval',\n",
              " 'april',\n",
              " 'area',\n",
              " 'arent',\n",
              " 'argue',\n",
              " 'arguing',\n",
              " 'argument',\n",
              " 'arm',\n",
              " 'army',\n",
              " 'arrogance',\n",
              " 'arrogant',\n",
              " 'art',\n",
              " 'article',\n",
              " 'artist',\n",
              " 'artistic',\n",
              " 'artwork',\n",
              " 'ashamed',\n",
              " 'asian',\n",
              " 'aside',\n",
              " 'ask',\n",
              " 'asked',\n",
              " 'asking',\n",
              " 'asks',\n",
              " 'asleep',\n",
              " 'aspect',\n",
              " 'aspergers',\n",
              " 'ass',\n",
              " 'assertive',\n",
              " 'assessment',\n",
              " 'asshole',\n",
              " 'assignment',\n",
              " 'assistant',\n",
              " 'associate',\n",
              " 'associated',\n",
              " 'assume',\n",
              " 'assumed',\n",
              " 'assuming',\n",
              " 'assumption',\n",
              " 'astrology',\n",
              " 'ate',\n",
              " 'atheist',\n",
              " 'atleast',\n",
              " 'atm',\n",
              " 'atmosphere',\n",
              " 'attached',\n",
              " 'attachment',\n",
              " 'attack',\n",
              " 'attempt',\n",
              " 'attempting',\n",
              " 'attend',\n",
              " 'attention',\n",
              " 'attitude',\n",
              " 'attract',\n",
              " 'attracted',\n",
              " 'attraction',\n",
              " 'attractive',\n",
              " 'attribute',\n",
              " 'audience',\n",
              " 'audio',\n",
              " 'auditory',\n",
              " 'aunt',\n",
              " 'aura',\n",
              " 'australia',\n",
              " 'author',\n",
              " 'authority',\n",
              " 'autism',\n",
              " 'automatically',\n",
              " 'aux',\n",
              " 'auxiliary',\n",
              " 'available',\n",
              " 'avatar',\n",
              " 'average',\n",
              " 'avoid',\n",
              " 'avoiding',\n",
              " 'aw',\n",
              " 'awake',\n",
              " 'aware',\n",
              " 'awareness',\n",
              " 'away',\n",
              " 'awesome',\n",
              " 'awful',\n",
              " 'awhile',\n",
              " 'awkward',\n",
              " 'awkwardness',\n",
              " 'aww',\n",
              " 'awww',\n",
              " 'baby',\n",
              " 'bachelor',\n",
              " 'background',\n",
              " 'backwards',\n",
              " 'bacon',\n",
              " 'bad',\n",
              " 'badass',\n",
              " 'badly',\n",
              " 'bag',\n",
              " 'balance',\n",
              " 'balanced',\n",
              " 'ball',\n",
              " 'banana',\n",
              " 'band',\n",
              " 'bang',\n",
              " 'bank',\n",
              " 'banned',\n",
              " 'banter',\n",
              " 'bar',\n",
              " 'barely',\n",
              " 'barrier',\n",
              " 'base',\n",
              " 'baseball',\n",
              " 'based',\n",
              " 'basic',\n",
              " 'basically',\n",
              " 'basis',\n",
              " 'basketball',\n",
              " 'bass',\n",
              " 'bastard',\n",
              " 'bat',\n",
              " 'bathroom',\n",
              " 'batman',\n",
              " 'battle',\n",
              " 'bc',\n",
              " 'beach',\n",
              " 'bear',\n",
              " 'beard',\n",
              " 'beast',\n",
              " 'beat',\n",
              " 'beating',\n",
              " 'beautiful',\n",
              " 'beauty',\n",
              " 'bed',\n",
              " 'bedroom',\n",
              " 'beer',\n",
              " 'began',\n",
              " 'begin',\n",
              " 'beginning',\n",
              " 'behave',\n",
              " 'behavior',\n",
              " 'behaviour',\n",
              " 'belief',\n",
              " 'believe',\n",
              " 'believed',\n",
              " 'believing',\n",
              " 'bell',\n",
              " 'belong',\n",
              " 'benefit',\n",
              " 'bet',\n",
              " 'bf',\n",
              " 'bias',\n",
              " 'biased',\n",
              " 'bible',\n",
              " 'big',\n",
              " 'bigger',\n",
              " 'biggest',\n",
              " 'bike',\n",
              " 'billion',\n",
              " 'biological',\n",
              " 'biology',\n",
              " 'bipolar',\n",
              " 'bird',\n",
              " 'birth',\n",
              " 'birthday',\n",
              " 'bit',\n",
              " 'bitch',\n",
              " 'bite',\n",
              " 'bitter',\n",
              " 'bizarre',\n",
              " 'black',\n",
              " 'blah',\n",
              " 'blame',\n",
              " 'blank',\n",
              " 'blanket',\n",
              " 'blast',\n",
              " 'blind',\n",
              " 'block',\n",
              " 'blog',\n",
              " 'blonde',\n",
              " 'blood',\n",
              " 'bloody',\n",
              " 'blow',\n",
              " 'blue',\n",
              " 'blunt',\n",
              " 'blush',\n",
              " 'blushed',\n",
              " 'board',\n",
              " 'boat',\n",
              " 'bob',\n",
              " 'body',\n",
              " 'boil',\n",
              " 'bold',\n",
              " 'bolded',\n",
              " 'bomb',\n",
              " 'bond',\n",
              " 'bone',\n",
              " 'boob',\n",
              " 'book',\n",
              " 'boot',\n",
              " 'borderline',\n",
              " 'bore',\n",
              " 'bored',\n",
              " 'boredom',\n",
              " 'boring',\n",
              " 'born',\n",
              " 'bos',\n",
              " 'bossy',\n",
              " 'bother',\n",
              " 'bothered',\n",
              " 'bothering',\n",
              " 'bottle',\n",
              " 'bought',\n",
              " 'bounce',\n",
              " 'bound',\n",
              " 'boundary',\n",
              " 'bout',\n",
              " 'bow',\n",
              " 'bowl',\n",
              " 'box',\n",
              " 'boy',\n",
              " 'boyfriend',\n",
              " 'brain',\n",
              " 'brand',\n",
              " 'brave',\n",
              " 'bread',\n",
              " 'break',\n",
              " 'breakdown',\n",
              " 'breakfast',\n",
              " 'breaking',\n",
              " 'breakup',\n",
              " 'breath',\n",
              " 'breathe',\n",
              " 'breathing',\n",
              " 'bridge',\n",
              " 'brief',\n",
              " 'briggs',\n",
              " 'bright',\n",
              " 'brilliant',\n",
              " 'bring',\n",
              " 'bringing',\n",
              " 'brings',\n",
              " 'british',\n",
              " 'bro',\n",
              " 'broad',\n",
              " 'broke',\n",
              " 'broken',\n",
              " 'brother',\n",
              " 'brought',\n",
              " 'brown',\n",
              " 'browsing',\n",
              " 'brush',\n",
              " 'btw',\n",
              " 'bubble',\n",
              " 'bubbly',\n",
              " 'bucket',\n",
              " 'buddhist',\n",
              " 'buddy',\n",
              " 'bug',\n",
              " 'build',\n",
              " 'building',\n",
              " 'built',\n",
              " 'bullet',\n",
              " 'bullied',\n",
              " 'bullshit',\n",
              " 'bully',\n",
              " 'bullying',\n",
              " 'bump',\n",
              " 'bunch',\n",
              " 'burden',\n",
              " 'burn',\n",
              " 'burned',\n",
              " 'burning',\n",
              " 'burst',\n",
              " 'bus',\n",
              " 'bush',\n",
              " 'business',\n",
              " 'busy',\n",
              " 'butt',\n",
              " 'butter',\n",
              " 'butterfly',\n",
              " 'button',\n",
              " 'buy',\n",
              " 'buying',\n",
              " 'cafe',\n",
              " 'cake',\n",
              " 'california',\n",
              " 'called',\n",
              " 'calling',\n",
              " 'calm',\n",
              " 'calvin',\n",
              " 'came',\n",
              " 'camera',\n",
              " 'camp',\n",
              " 'camping',\n",
              " 'campus',\n",
              " 'canada',\n",
              " 'canadian',\n",
              " 'cancer',\n",
              " 'candidate',\n",
              " 'candy',\n",
              " 'cap',\n",
              " 'capable',\n",
              " 'capacity',\n",
              " 'captain',\n",
              " 'car',\n",
              " 'card',\n",
              " 'care',\n",
              " 'cared',\n",
              " 'career',\n",
              " 'careful',\n",
              " 'carefully',\n",
              " 'caring',\n",
              " 'carry',\n",
              " 'cartoon',\n",
              " 'case',\n",
              " 'cash',\n",
              " 'cast',\n",
              " 'castle',\n",
              " 'casual',\n",
              " 'cat',\n",
              " 'catch',\n",
              " 'category',\n",
              " 'catholic',\n",
              " 'caught',\n",
              " 'cause',\n",
              " 'caused',\n",
              " 'causing',\n",
              " 'cautious',\n",
              " 'cave',\n",
              " 'celebrity',\n",
              " 'cell',\n",
              " 'cent',\n",
              " 'center',\n",
              " 'central',\n",
              " 'century',\n",
              " 'certain',\n",
              " 'certainly',\n",
              " 'chain',\n",
              " 'chair',\n",
              " 'challenge',\n",
              " 'challenging',\n",
              " 'chameleon',\n",
              " 'chance',\n",
              " 'change',\n",
              " 'changed',\n",
              " 'changing',\n",
              " 'channel',\n",
              " 'chaos',\n",
              " 'chaotic',\n",
              " 'chapter',\n",
              " 'character',\n",
              " 'characteristic',\n",
              " 'charge',\n",
              " 'charles',\n",
              " 'charlie',\n",
              " 'charm',\n",
              " 'charming',\n",
              " 'chart',\n",
              " 'chase',\n",
              " 'chat',\n",
              " 'chatting',\n",
              " 'cheap',\n",
              " 'cheat',\n",
              " 'cheated',\n",
              " 'cheating',\n",
              " 'check',\n",
              " 'checked',\n",
              " 'checking',\n",
              " 'cheer',\n",
              " 'cheese',\n",
              " 'cheesy',\n",
              " 'chemical',\n",
              " 'chemistry',\n",
              " 'chess',\n",
              " 'chest',\n",
              " 'chick',\n",
              " 'chicken',\n",
              " 'child',\n",
              " 'childhood',\n",
              " 'childish',\n",
              " 'chill',\n",
              " 'china',\n",
              " 'chinese',\n",
              " 'chip',\n",
              " 'chocolate',\n",
              " 'choice',\n",
              " 'choose',\n",
              " 'choosing',\n",
              " 'chore',\n",
              " 'chose',\n",
              " 'chosen',\n",
              " 'chris',\n",
              " 'christ',\n",
              " 'christian',\n",
              " 'christianity',\n",
              " 'christmas',\n",
              " 'chuck',\n",
              " 'chuckle',\n",
              " 'church',\n",
              " 'cigarette',\n",
              " 'circle',\n",
              " 'circumstance',\n",
              " 'city',\n",
              " 'claim',\n",
              " 'claiming',\n",
              " 'clarification',\n",
              " 'clarify',\n",
              " 'clarity',\n",
              " 'clash',\n",
              " 'class',\n",
              " 'classic',\n",
              " 'classical',\n",
              " 'classmate',\n",
              " 'classy',\n",
              " 'clean',\n",
              " 'cleaning',\n",
              " 'clear',\n",
              " 'clearly',\n",
              " 'cleo',\n",
              " 'clever',\n",
              " 'cliche',\n",
              " 'click',\n",
              " 'clicked',\n",
              " 'clingy',\n",
              " 'clinton',\n",
              " 'clip',\n",
              " 'clock',\n",
              " 'close',\n",
              " 'closed',\n",
              " 'closely',\n",
              " 'closer',\n",
              " 'closest',\n",
              " 'closet',\n",
              " 'clothes',\n",
              " 'clothing',\n",
              " 'cloud',\n",
              " 'clown',\n",
              " 'club',\n",
              " 'clubhouse',\n",
              " 'clue',\n",
              " 'clueless',\n",
              " 'clumsy',\n",
              " 'coat',\n",
              " 'cocky',\n",
              " 'code',\n",
              " 'coffee',\n",
              " 'cognition',\n",
              " 'cognitive',\n",
              " 'coincidence',\n",
              " 'cold',\n",
              " 'colleague',\n",
              " 'collect',\n",
              " 'collection',\n",
              " 'college',\n",
              " 'color',\n",
              " 'colour',\n",
              " 'combat',\n",
              " 'combination',\n",
              " 'combine',\n",
              " 'combined',\n",
              " 'combo',\n",
              " 'comedy',\n",
              " 'comfort',\n",
              " 'comfortable',\n",
              " 'comforting',\n",
              " 'comic',\n",
              " 'coming',\n",
              " 'comment',\n",
              " 'commercial',\n",
              " 'commit',\n",
              " 'commitment',\n",
              " 'committed',\n",
              " 'common',\n",
              " 'commonly',\n",
              " 'communicate',\n",
              " 'communicating',\n",
              " 'communication',\n",
              " 'community',\n",
              " 'company',\n",
              " 'compare',\n",
              " 'compared',\n",
              " 'comparing',\n",
              " 'comparison',\n",
              " 'compassion',\n",
              " 'compassionate',\n",
              " 'compatibility',\n",
              " 'compatible',\n",
              " 'compelled',\n",
              " 'competent',\n",
              " 'competition',\n",
              " 'competitive',\n",
              " 'complain',\n",
              " 'complaining',\n",
              " 'complaint',\n",
              " 'complete',\n",
              " 'completed',\n",
              " 'completely',\n",
              " 'complex',\n",
              " 'complicated',\n",
              " 'compliment',\n",
              " 'component',\n",
              " 'compromise',\n",
              " 'computer',\n",
              " 'concentrate',\n",
              " 'concentration',\n",
              " 'concept',\n",
              " 'concern',\n",
              " 'concerned',\n",
              " 'concerning',\n",
              " 'concert',\n",
              " 'conclusion',\n",
              " 'concrete',\n",
              " 'condescending',\n",
              " 'condition',\n",
              " 'confess',\n",
              " 'confession',\n",
              " 'confidence',\n",
              " 'confident',\n",
              " 'confirm',\n",
              " 'confirmed',\n",
              " 'conflict',\n",
              " 'confront',\n",
              " 'confrontation',\n",
              " 'confuse',\n",
              " 'confused',\n",
              " 'confusing',\n",
              " 'confusion',\n",
              " 'congrats',\n",
              " 'congratulation',\n",
              " 'connect',\n",
              " 'connected',\n",
              " 'connecting',\n",
              " 'connection',\n",
              " 'connotation',\n",
              " 'conscious',\n",
              " 'consciously',\n",
              " 'consciousness',\n",
              " 'consequence',\n",
              " 'conservative',\n",
              " 'consider',\n",
              " 'considerate',\n",
              " 'consideration',\n",
              " 'considered',\n",
              " 'considering',\n",
              " 'consistent',\n",
              " 'consistently',\n",
              " 'conspiracy',\n",
              " 'constant',\n",
              " 'constantly',\n",
              " 'constructive',\n",
              " 'contact',\n",
              " 'content',\n",
              " 'context',\n",
              " 'continue',\n",
              " 'continuing',\n",
              " 'contradiction',\n",
              " 'contrary',\n",
              " 'contrast',\n",
              " 'contribute',\n",
              " 'control',\n",
              " 'controlled',\n",
              " 'controlling',\n",
              " 'conversation',\n",
              " 'convey',\n",
              " 'convince',\n",
              " 'convinced',\n",
              " 'convincing',\n",
              " 'cook',\n",
              " 'cookie',\n",
              " 'cooking',\n",
              " 'cooky',\n",
              " 'cool',\n",
              " 'cop',\n",
              " 'cope',\n",
              " 'copy',\n",
              " 'core',\n",
              " 'corner',\n",
              " 'corporate',\n",
              " 'correct',\n",
              " 'correctly',\n",
              " 'correlate',\n",
              " 'correlation',\n",
              " 'cost',\n",
              " 'couch',\n",
              " 'cough',\n",
              " 'couldve',\n",
              " 'counselor',\n",
              " 'count',\n",
              " 'counter',\n",
              " 'countless',\n",
              " 'country',\n",
              " 'couple',\n",
              " 'courage',\n",
              " 'course',\n",
              " 'court',\n",
              " 'cousin',\n",
              " 'cover',\n",
              " 'covered',\n",
              " 'cow',\n",
              " 'cowboy',\n",
              " 'coworker',\n",
              " 'coworkers',\n",
              " 'crack',\n",
              " 'cracked',\n",
              " 'crap',\n",
              " 'crappy',\n",
              " 'crash',\n",
              " 'crave',\n",
              " 'crazy',\n",
              " 'cream',\n",
              " 'create',\n",
              " 'created',\n",
              " 'creates',\n",
              " 'creating',\n",
              " 'creation',\n",
              " 'creative',\n",
              " 'creativity',\n",
              " 'creator',\n",
              " 'creature',\n",
              " 'credit',\n",
              " 'creep',\n",
              " 'creepy',\n",
              " 'cried',\n",
              " 'crime',\n",
              " 'criminal',\n",
              " 'crisis',\n",
              " 'critical',\n",
              " 'criticism',\n",
              " 'criticize',\n",
              " 'cross',\n",
              " 'crossed',\n",
              " 'crowd',\n",
              " 'cruel',\n",
              " 'crush',\n",
              " 'crushing',\n",
              " 'cuddle',\n",
              " 'cue',\n",
              " 'cultural',\n",
              " 'culture',\n",
              " 'cup',\n",
              " 'cure',\n",
              " 'curiosity',\n",
              " 'curious',\n",
              " 'current',\n",
              " 'currently',\n",
              " 'curse',\n",
              " 'customer',\n",
              " 'cut',\n",
              " 'cute',\n",
              " 'cutting',\n",
              " 'cuz',\n",
              " 'cycle',\n",
              " 'cynical',\n",
              " 'da',\n",
              " 'dad',\n",
              " 'daily',\n",
              " 'damage',\n",
              " 'damn',\n",
              " 'dance',\n",
              " 'dancing',\n",
              " 'dang',\n",
              " 'danger',\n",
              " 'dangerous',\n",
              " 'dare',\n",
              " 'dark',\n",
              " 'darkness',\n",
              " 'darn',\n",
              " 'data',\n",
              " 'date',\n",
              " 'dated',\n",
              " 'dating',\n",
              " 'daughter',\n",
              " 'david',\n",
              " 'daydream',\n",
              " 'daydreaming',\n",
              " 'dd',\n",
              " 'dead',\n",
              " 'deadline',\n",
              " 'deal',\n",
              " 'dealing',\n",
              " 'dealt',\n",
              " 'dear',\n",
              " 'death',\n",
              " 'debate',\n",
              " 'debating',\n",
              " 'debt',\n",
              " 'decade',\n",
              " 'decent',\n",
              " 'decide',\n",
              " 'decided',\n",
              " 'decides',\n",
              " 'deciding',\n",
              " 'decision',\n",
              " 'dedicated',\n",
              " 'deep',\n",
              " 'deeper',\n",
              " 'deeply',\n",
              " 'def',\n",
              " 'default',\n",
              " 'defend',\n",
              " 'defense',\n",
              " 'defensive',\n",
              " 'definately',\n",
              " 'define',\n",
              " 'defined',\n",
              " 'defining',\n",
              " 'definite',\n",
              " 'definitely',\n",
              " 'definition',\n",
              " 'degree',\n",
              " 'delete',\n",
              " 'deleted',\n",
              " 'deliberately',\n",
              " 'delicious',\n",
              " 'demand',\n",
              " 'demanding',\n",
              " 'deny',\n",
              " 'department',\n",
              " 'depend',\n",
              " 'dependent',\n",
              " 'depending',\n",
              " 'depends',\n",
              " 'depressed',\n",
              " 'depressing',\n",
              " 'depression',\n",
              " 'depth',\n",
              " 'described',\n",
              " 'describes',\n",
              " 'describing',\n",
              " 'description',\n",
              " 'deserve',\n",
              " 'deserves',\n",
              " 'design',\n",
              " 'designed',\n",
              " 'desire',\n",
              " 'desk',\n",
              " 'desperate',\n",
              " 'desperately',\n",
              " 'despise',\n",
              " 'despite',\n",
              " 'destroy',\n",
              " 'detached',\n",
              " 'detailed',\n",
              " 'determine',\n",
              " 'determined',\n",
              " 'develop',\n",
              " 'developed',\n",
              " 'developing',\n",
              " 'development',\n",
              " 'device',\n",
              " 'devil',\n",
              " 'diagnosed',\n",
              " 'dialogue',\n",
              " 'diary',\n",
              " 'dichotomy',\n",
              " 'dick',\n",
              " 'die',\n",
              " 'died',\n",
              " 'diet',\n",
              " 'differ',\n",
              " 'difference',\n",
              " 'differently',\n",
              " 'difficult',\n",
              " 'difficulty',\n",
              " 'dig',\n",
              " 'digging',\n",
              " 'digital',\n",
              " 'dilemma',\n",
              " 'dinner',\n",
              " 'direct',\n",
              " 'directed',\n",
              " 'direction',\n",
              " 'directly',\n",
              " 'director',\n",
              " 'dirty',\n",
              " 'disagree',\n",
              " 'disappear',\n",
              " 'disappointed',\n",
              " 'disaster',\n",
              " 'discipline',\n",
              " 'disclaimer',\n",
              " 'discover',\n",
              " 'discovered',\n",
              " 'discovering',\n",
              " 'discovery',\n",
              " 'discus',\n",
              " 'discussed',\n",
              " 'discussing',\n",
              " 'discussion',\n",
              " 'disease',\n",
              " 'dish',\n",
              " 'dislike',\n",
              " 'dismiss',\n",
              " 'disney',\n",
              " 'disorder',\n",
              " 'display',\n",
              " 'disregard',\n",
              " 'distance',\n",
              " 'distant',\n",
              " 'distinction',\n",
              " 'distracted',\n",
              " 'distraction',\n",
              " 'disturbing',\n",
              " 'ditto',\n",
              " 'dive',\n",
              " 'divide',\n",
              " 'divorce',\n",
              " 'doctor',\n",
              " 'documentary',\n",
              " 'dog',\n",
              " 'doll',\n",
              " 'dollar',\n",
              " 'dom',\n",
              " 'dominance',\n",
              " 'dominant',\n",
              " 'dominate',\n",
              " 'dominated',\n",
              " 'doms',\n",
              " 'don',\n",
              " 'donald',\n",
              " 'door',\n",
              " 'double',\n",
              " 'doubt',\n",
              " 'douche',\n",
              " 'dr',\n",
              " ...]"
            ]
          },
          "metadata": {},
          "execution_count": 852
        }
      ]
    },
    {
      "cell_type": "markdown",
      "source": [
        "###Splitting the data"
      ],
      "metadata": {
        "id": "JXmCoiClwvsl"
      }
    },
    {
      "cell_type": "code",
      "source": [
        "X = X_count_nature\n",
        "y = nature_df['T']\n",
        "X_train, X_test, y_train, y_test = train_test_split(X, \n",
        "                                                    y,\n",
        "                                                    test_size =0.3,\n",
        "                                                   random_state = 2001)"
      ],
      "metadata": {
        "id": "8AA9T2nGwxqj"
      },
      "execution_count": 853,
      "outputs": []
    },
    {
      "cell_type": "markdown",
      "source": [
        "###Finding best model"
      ],
      "metadata": {
        "id": "gjJ64JVIw8M9"
      }
    },
    {
      "cell_type": "code",
      "source": [
        "best_nature_model = tune_LogReg_model(X_train, y_train)"
      ],
      "metadata": {
        "colab": {
          "base_uri": "https://localhost:8080/"
        },
        "id": "ZmVVip7Ww4jo",
        "outputId": "37249c31-6cdd-4051-a9fa-07a3c8883b3d"
      },
      "execution_count": 854,
      "outputs": [
        {
          "output_type": "stream",
          "name": "stderr",
          "text": [
            "/usr/local/lib/python3.7/dist-packages/sklearn/model_selection/_validation.py:372: FitFailedWarning: \n",
            "50 fits failed out of a total of 100.\n",
            "The score on these train-test partitions for these parameters will be set to nan.\n",
            "If these failures are not expected, you can try to debug them by setting error_score='raise'.\n",
            "\n",
            "Below are more details about the failures:\n",
            "--------------------------------------------------------------------------------\n",
            "50 fits failed with the following error:\n",
            "Traceback (most recent call last):\n",
            "  File \"/usr/local/lib/python3.7/dist-packages/sklearn/model_selection/_validation.py\", line 680, in _fit_and_score\n",
            "    estimator.fit(X_train, y_train, **fit_params)\n",
            "  File \"/usr/local/lib/python3.7/dist-packages/sklearn/linear_model/_logistic.py\", line 1461, in fit\n",
            "    solver = _check_solver(self.solver, self.penalty, self.dual)\n",
            "  File \"/usr/local/lib/python3.7/dist-packages/sklearn/linear_model/_logistic.py\", line 449, in _check_solver\n",
            "    % (solver, penalty)\n",
            "ValueError: Solver lbfgs supports only 'l2' or 'none' penalties, got l1 penalty.\n",
            "\n",
            "  warnings.warn(some_fits_failed_message, FitFailedWarning)\n",
            "/usr/local/lib/python3.7/dist-packages/sklearn/model_selection/_search.py:972: UserWarning: One or more of the test scores are non-finite: [         nan -15.71120886          nan  -6.09698535          nan\n",
            "  -4.05437033          nan  -3.09580244          nan  -2.86385887\n",
            "          nan  -2.71947994          nan  -2.10411917          nan\n",
            "  -1.90294395          nan  -1.77986189          nan  -1.73726681]\n",
            "  category=UserWarning,\n"
          ]
        }
      ]
    },
    {
      "cell_type": "code",
      "source": [
        "best_nature_model.best_params_"
      ],
      "metadata": {
        "colab": {
          "base_uri": "https://localhost:8080/"
        },
        "id": "P86u5EvZxI_P",
        "outputId": "fa53cde7-6611-4734-9f5a-0f14e9e82aa2"
      },
      "execution_count": 855,
      "outputs": [
        {
          "output_type": "execute_result",
          "data": {
            "text/plain": [
              "{'C': 100, 'penalty': 'l2'}"
            ]
          },
          "metadata": {},
          "execution_count": 855
        }
      ]
    },
    {
      "cell_type": "markdown",
      "source": [
        "###Training"
      ],
      "metadata": {
        "id": "hlZccvWuxJkD"
      }
    },
    {
      "cell_type": "code",
      "source": [
        "nature_model = LogisticRegression(C=5)\n",
        "nature_model.fit(X_train, y_train)"
      ],
      "metadata": {
        "colab": {
          "base_uri": "https://localhost:8080/"
        },
        "id": "cObWk59PxLCr",
        "outputId": "8a36fba0-6f22-4054-a03d-8710e97fd3a5"
      },
      "execution_count": 856,
      "outputs": [
        {
          "output_type": "execute_result",
          "data": {
            "text/plain": [
              "LogisticRegression(C=5)"
            ]
          },
          "metadata": {},
          "execution_count": 856
        }
      ]
    },
    {
      "cell_type": "markdown",
      "source": [
        "###Results"
      ],
      "metadata": {
        "id": "D908o2FzyF22"
      }
    },
    {
      "cell_type": "markdown",
      "source": [
        "####Accuracy score"
      ],
      "metadata": {
        "id": "uhWYXIdiyIBc"
      }
    },
    {
      "cell_type": "markdown",
      "source": [
        "Train data"
      ],
      "metadata": {
        "id": "AV4uNZkGyM7o"
      }
    },
    {
      "cell_type": "code",
      "source": [
        "y_pred_train = nature_model.predict(X_train)\n",
        "\n",
        "accuracy_score(y_train, y_pred_train)"
      ],
      "metadata": {
        "colab": {
          "base_uri": "https://localhost:8080/"
        },
        "id": "_UfUjyHAxNC1",
        "outputId": "e2828ea9-c8f1-40bf-d247-145a5dbb506d"
      },
      "execution_count": 857,
      "outputs": [
        {
          "output_type": "execute_result",
          "data": {
            "text/plain": [
              "0.9773864181456863"
            ]
          },
          "metadata": {},
          "execution_count": 857
        }
      ]
    },
    {
      "cell_type": "markdown",
      "source": [
        "Test data"
      ],
      "metadata": {
        "id": "TidXFuNcyOM6"
      }
    },
    {
      "cell_type": "code",
      "source": [
        "y_pred_test = nature_model.predict(X_test)\n",
        "\n",
        "accuracy_score(y_test, y_pred_test)"
      ],
      "metadata": {
        "colab": {
          "base_uri": "https://localhost:8080/"
        },
        "id": "nbAavVm8xRDf",
        "outputId": "523b209d-7e78-40cd-d80e-3021d86da6fc"
      },
      "execution_count": 858,
      "outputs": [
        {
          "output_type": "execute_result",
          "data": {
            "text/plain": [
              "0.943884892086331"
            ]
          },
          "metadata": {},
          "execution_count": 858
        }
      ]
    },
    {
      "cell_type": "markdown",
      "source": [
        "####Classificaation reports"
      ],
      "metadata": {
        "id": "J1FLK1wIx1g4"
      }
    },
    {
      "cell_type": "markdown",
      "source": [
        "Train data"
      ],
      "metadata": {
        "id": "yqvXbzulx4Iq"
      }
    },
    {
      "cell_type": "code",
      "source": [
        "print(classification_report(y_train, y_pred_train))"
      ],
      "metadata": {
        "colab": {
          "base_uri": "https://localhost:8080/"
        },
        "id": "gwkkuCClxeNd",
        "outputId": "98a778a6-e195-4833-bca7-c800f855ffd8"
      },
      "execution_count": 859,
      "outputs": [
        {
          "output_type": "stream",
          "name": "stdout",
          "text": [
            "              precision    recall  f1-score   support\n",
            "\n",
            "           0       0.98      0.98      0.98      7161\n",
            "           1       0.98      0.98      0.98      7432\n",
            "\n",
            "    accuracy                           0.98     14593\n",
            "   macro avg       0.98      0.98      0.98     14593\n",
            "weighted avg       0.98      0.98      0.98     14593\n",
            "\n"
          ]
        }
      ]
    },
    {
      "cell_type": "markdown",
      "source": [
        "Test data"
      ],
      "metadata": {
        "id": "dO_yMuxFx5Q0"
      }
    },
    {
      "cell_type": "code",
      "source": [
        "print(classification_report(y_test, y_pred_test))"
      ],
      "metadata": {
        "colab": {
          "base_uri": "https://localhost:8080/"
        },
        "id": "ntlW4hFNxg6I",
        "outputId": "8ccfedc0-6d51-4428-9703-c368f4ab546b"
      },
      "execution_count": 860,
      "outputs": [
        {
          "output_type": "stream",
          "name": "stdout",
          "text": [
            "              precision    recall  f1-score   support\n",
            "\n",
            "           0       0.94      0.94      0.94      3049\n",
            "           1       0.95      0.94      0.95      3206\n",
            "\n",
            "    accuracy                           0.94      6255\n",
            "   macro avg       0.94      0.94      0.94      6255\n",
            "weighted avg       0.94      0.94      0.94      6255\n",
            "\n"
          ]
        }
      ]
    },
    {
      "cell_type": "markdown",
      "source": [
        "####Log losses"
      ],
      "metadata": {
        "id": "50z_fKiExtgy"
      }
    },
    {
      "cell_type": "markdown",
      "source": [
        "Train data"
      ],
      "metadata": {
        "id": "-sN16SyXxwcD"
      }
    },
    {
      "cell_type": "code",
      "source": [
        "log_loss(y_train, y_pred_train)"
      ],
      "metadata": {
        "colab": {
          "base_uri": "https://localhost:8080/"
        },
        "id": "7k9FLQCPxjcL",
        "outputId": "f1a92a8a-272d-41fe-abe0-33926071eb10"
      },
      "execution_count": 861,
      "outputs": [
        {
          "output_type": "execute_result",
          "data": {
            "text/plain": [
              "0.7810545428283389"
            ]
          },
          "metadata": {},
          "execution_count": 861
        }
      ]
    },
    {
      "cell_type": "markdown",
      "source": [
        "Test data"
      ],
      "metadata": {
        "id": "fseiTY-axyD9"
      }
    },
    {
      "cell_type": "code",
      "source": [
        "log_loss(y_test, y_pred_test)"
      ],
      "metadata": {
        "colab": {
          "base_uri": "https://localhost:8080/"
        },
        "id": "FvbfLM5OxmDc",
        "outputId": "2a1ddfa3-b593-4eb9-e9ce-50ded76c4276"
      },
      "execution_count": 862,
      "outputs": [
        {
          "output_type": "execute_result",
          "data": {
            "text/plain": [
              "1.9381692797712353"
            ]
          },
          "metadata": {},
          "execution_count": 862
        }
      ]
    },
    {
      "cell_type": "markdown",
      "source": [
        "##Tactics model"
      ],
      "metadata": {
        "id": "AYpSpKi9yYv7"
      }
    },
    {
      "cell_type": "code",
      "source": [
        "tactics_df = train_data[['lemma','J']]"
      ],
      "metadata": {
        "id": "kKdJAm0DychC"
      },
      "execution_count": 863,
      "outputs": []
    },
    {
      "cell_type": "markdown",
      "source": [
        "###Vectorizer"
      ],
      "metadata": {
        "id": "xC6GFcbQ2dNv"
      }
    },
    {
      "cell_type": "code",
      "source": [
        "vect_tactics = TfidfVectorizer(lowercase=True, \n",
        "                            stop_words='english', \n",
        "                            max_features=260,\n",
        "                            min_df=4,\n",
        "                            max_df=0.5\n",
        "                           )\n",
        "vect_tactics.fit(tactics_df['lemma'])\n",
        "X_count_tactics = vect_tactics.transform(tactics_df['lemma'])"
      ],
      "metadata": {
        "id": "DUp3IV3uye0C"
      },
      "execution_count": 864,
      "outputs": []
    },
    {
      "cell_type": "code",
      "source": [
        "X_count_tactics.shape"
      ],
      "metadata": {
        "colab": {
          "base_uri": "https://localhost:8080/"
        },
        "id": "VQCB0tDI2f9F",
        "outputId": "bd0a3b69-e3c1-4f18-bf58-7d767ffda8f7"
      },
      "execution_count": 865,
      "outputs": [
        {
          "output_type": "execute_result",
          "data": {
            "text/plain": [
              "(20848, 260)"
            ]
          },
          "metadata": {},
          "execution_count": 865
        }
      ]
    },
    {
      "cell_type": "code",
      "source": [
        "vect_tactics.get_feature_names()"
      ],
      "metadata": {
        "colab": {
          "base_uri": "https://localhost:8080/"
        },
        "id": "g2_5M6Si2i_e",
        "outputId": "c3613c28-43fb-4797-a864-de946598c0e6"
      },
      "execution_count": 866,
      "outputs": [
        {
          "output_type": "execute_result",
          "data": {
            "text/plain": [
              "['able',\n",
              " 'absolutely',\n",
              " 'act',\n",
              " 'advice',\n",
              " 'age',\n",
              " 'ago',\n",
              " 'agree',\n",
              " 'answer',\n",
              " 'arent',\n",
              " 'ask',\n",
              " 'asking',\n",
              " 'away',\n",
              " 'awesome',\n",
              " 'bad',\n",
              " 'based',\n",
              " 'believe',\n",
              " 'big',\n",
              " 'bit',\n",
              " 'book',\n",
              " 'came',\n",
              " 'care',\n",
              " 'case',\n",
              " 'cause',\n",
              " 'certain',\n",
              " 'change',\n",
              " 'character',\n",
              " 'child',\n",
              " 'class',\n",
              " 'close',\n",
              " 'college',\n",
              " 'completely',\n",
              " 'consider',\n",
              " 'conversation',\n",
              " 'cool',\n",
              " 'couple',\n",
              " 'course',\n",
              " 'crazy',\n",
              " 'dad',\n",
              " 'deal',\n",
              " 'definitely',\n",
              " 'depends',\n",
              " 'description',\n",
              " 'difference',\n",
              " 'dream',\n",
              " 'easy',\n",
              " 'emotion',\n",
              " 'emotional',\n",
              " 'end',\n",
              " 'enfj',\n",
              " 'enfp',\n",
              " 'enfps',\n",
              " 'enjoy',\n",
              " 'enneagram',\n",
              " 'entj',\n",
              " 'entp',\n",
              " 'entps',\n",
              " 'esfj',\n",
              " 'esfp',\n",
              " 'especially',\n",
              " 'estj',\n",
              " 'estp',\n",
              " 'exactly',\n",
              " 'example',\n",
              " 'experience',\n",
              " 'eye',\n",
              " 'face',\n",
              " 'fact',\n",
              " 'family',\n",
              " 'far',\n",
              " 'favorite',\n",
              " 'fe',\n",
              " 'felt',\n",
              " 'female',\n",
              " 'fi',\n",
              " 'figure',\n",
              " 'fit',\n",
              " 'forum',\n",
              " 'fun',\n",
              " 'function',\n",
              " 'funny',\n",
              " 'game',\n",
              " 'general',\n",
              " 'generally',\n",
              " 'getting',\n",
              " 'girl',\n",
              " 'god',\n",
              " 'great',\n",
              " 'group',\n",
              " 'guess',\n",
              " 'haha',\n",
              " 'hand',\n",
              " 'happy',\n",
              " 'hate',\n",
              " 'havent',\n",
              " 'having',\n",
              " 'head',\n",
              " 'hear',\n",
              " 'hell',\n",
              " 'hello',\n",
              " 'hey',\n",
              " 'hi',\n",
              " 'high',\n",
              " 'home',\n",
              " 'honestly',\n",
              " 'hope',\n",
              " 'hour',\n",
              " 'human',\n",
              " 'hurt',\n",
              " 'important',\n",
              " 'infj',\n",
              " 'infjs',\n",
              " 'infp',\n",
              " 'infps',\n",
              " 'instead',\n",
              " 'interested',\n",
              " 'interesting',\n",
              " 'intj',\n",
              " 'intjs',\n",
              " 'intp',\n",
              " 'intps',\n",
              " 'introvert',\n",
              " 'introverted',\n",
              " 'isfj',\n",
              " 'isfp',\n",
              " 'isnt',\n",
              " 'issue',\n",
              " 'istj',\n",
              " 'istp',\n",
              " 'job',\n",
              " 'kid',\n",
              " 'kinda',\n",
              " 'laughing',\n",
              " 'le',\n",
              " 'learn',\n",
              " 'likely',\n",
              " 'live',\n",
              " 'lol',\n",
              " 'looking',\n",
              " 'making',\n",
              " 'male',\n",
              " 'man',\n",
              " 'matter',\n",
              " 'mbti',\n",
              " 'meet',\n",
              " 'met',\n",
              " 'mom',\n",
              " 'moment',\n",
              " 'money',\n",
              " 'month',\n",
              " 'movie',\n",
              " 'music',\n",
              " 'ne',\n",
              " 'ni',\n",
              " 'nice',\n",
              " 'night',\n",
              " 'oh',\n",
              " 'ok',\n",
              " 'okay',\n",
              " 'old',\n",
              " 'open',\n",
              " 'opinion',\n",
              " 'parent',\n",
              " 'past',\n",
              " 'personal',\n",
              " 'personality',\n",
              " 'personally',\n",
              " 'picture',\n",
              " 'place',\n",
              " 'plan',\n",
              " 'play',\n",
              " 'possible',\n",
              " 'prefer',\n",
              " 'problem',\n",
              " 'quite',\n",
              " 'reading',\n",
              " 'real',\n",
              " 'reason',\n",
              " 'recently',\n",
              " 'relate',\n",
              " 'relationship',\n",
              " 'remember',\n",
              " 'response',\n",
              " 'result',\n",
              " 'sad',\n",
              " 'saw',\n",
              " 'saying',\n",
              " 'school',\n",
              " 'se',\n",
              " 'second',\n",
              " 'seen',\n",
              " 'self',\n",
              " 'sense',\n",
              " 'sent',\n",
              " 'seriously',\n",
              " 'sex',\n",
              " 'share',\n",
              " 'shes',\n",
              " 'shit',\n",
              " 'si',\n",
              " 'similar',\n",
              " 'sister',\n",
              " 'situation',\n",
              " 'sleep',\n",
              " 'social',\n",
              " 'song',\n",
              " 'sorry',\n",
              " 'sort',\n",
              " 'start',\n",
              " 'started',\n",
              " 'stay',\n",
              " 'stop',\n",
              " 'story',\n",
              " 'strong',\n",
              " 'stuff',\n",
              " 'taking',\n",
              " 'talk',\n",
              " 'talking',\n",
              " 'te',\n",
              " 'tend',\n",
              " 'test',\n",
              " 'thank',\n",
              " 'thanks',\n",
              " 'theyre',\n",
              " 'ti',\n",
              " 'today',\n",
              " 'told',\n",
              " 'tongue',\n",
              " 'took',\n",
              " 'topic',\n",
              " 'totally',\n",
              " 'tried',\n",
              " 'true',\n",
              " 'unless',\n",
              " 'use',\n",
              " 'used',\n",
              " 'using',\n",
              " 'value',\n",
              " 'video',\n",
              " 'view',\n",
              " 'wanted',\n",
              " 'wasnt',\n",
              " 'watch',\n",
              " 'week',\n",
              " 'weird',\n",
              " 'welcome',\n",
              " 'went',\n",
              " 'whats',\n",
              " 'wish',\n",
              " 'woman',\n",
              " 'wont',\n",
              " 'word',\n",
              " 'working',\n",
              " 'world',\n",
              " 'wouldnt',\n",
              " 'wow',\n",
              " 'write',\n",
              " 'wrong',\n",
              " 'xd',\n",
              " 'yeah',\n",
              " 'youve']"
            ]
          },
          "metadata": {},
          "execution_count": 866
        }
      ]
    },
    {
      "cell_type": "markdown",
      "source": [
        "###Splitting the data"
      ],
      "metadata": {
        "id": "j1_QYdWYyb8Y"
      }
    },
    {
      "cell_type": "code",
      "source": [
        "X = X_count_tactics\n",
        "y = tactics_df['J']\n",
        "X_train, X_test, y_train, y_test = train_test_split(X, \n",
        "                                                    y,\n",
        "                                                    test_size =0.3,\n",
        "                                                   random_state = 2001)"
      ],
      "metadata": {
        "id": "E6lsydzVymrH"
      },
      "execution_count": 867,
      "outputs": []
    },
    {
      "cell_type": "markdown",
      "source": [
        "###Finding best model"
      ],
      "metadata": {
        "id": "yKvD9KxSyn4g"
      }
    },
    {
      "cell_type": "code",
      "source": [
        "best_tactics_model = tune_LogReg_model(X_train, y_train)"
      ],
      "metadata": {
        "colab": {
          "base_uri": "https://localhost:8080/"
        },
        "id": "WWnk4OXzyrro",
        "outputId": "60123df9-682a-4806-eb99-dadb250aeb39"
      },
      "execution_count": 868,
      "outputs": [
        {
          "output_type": "stream",
          "name": "stderr",
          "text": [
            "/usr/local/lib/python3.7/dist-packages/sklearn/model_selection/_validation.py:372: FitFailedWarning: \n",
            "50 fits failed out of a total of 100.\n",
            "The score on these train-test partitions for these parameters will be set to nan.\n",
            "If these failures are not expected, you can try to debug them by setting error_score='raise'.\n",
            "\n",
            "Below are more details about the failures:\n",
            "--------------------------------------------------------------------------------\n",
            "50 fits failed with the following error:\n",
            "Traceback (most recent call last):\n",
            "  File \"/usr/local/lib/python3.7/dist-packages/sklearn/model_selection/_validation.py\", line 680, in _fit_and_score\n",
            "    estimator.fit(X_train, y_train, **fit_params)\n",
            "  File \"/usr/local/lib/python3.7/dist-packages/sklearn/linear_model/_logistic.py\", line 1461, in fit\n",
            "    solver = _check_solver(self.solver, self.penalty, self.dual)\n",
            "  File \"/usr/local/lib/python3.7/dist-packages/sklearn/linear_model/_logistic.py\", line 449, in _check_solver\n",
            "    % (solver, penalty)\n",
            "ValueError: Solver lbfgs supports only 'l2' or 'none' penalties, got l1 penalty.\n",
            "\n",
            "  warnings.warn(some_fits_failed_message, FitFailedWarning)\n",
            "/usr/local/lib/python3.7/dist-packages/sklearn/model_selection/_search.py:972: UserWarning: One or more of the test scores are non-finite: [        nan -8.02597164         nan -7.10761233         nan -6.55614553\n",
            "         nan -6.26976438         nan -6.27213021         nan -6.26266862\n",
            "         nan -6.28395939         nan -6.291061           nan -6.26739782\n",
            "         nan -6.25793092]\n",
            "  category=UserWarning,\n"
          ]
        }
      ]
    },
    {
      "cell_type": "code",
      "source": [
        "best_tactics_model.best_params_"
      ],
      "metadata": {
        "colab": {
          "base_uri": "https://localhost:8080/"
        },
        "id": "PBSEdDeTysg3",
        "outputId": "6164e177-d8dc-4608-a006-d49d7c433c08"
      },
      "execution_count": 869,
      "outputs": [
        {
          "output_type": "execute_result",
          "data": {
            "text/plain": [
              "{'C': 100, 'penalty': 'l2'}"
            ]
          },
          "metadata": {},
          "execution_count": 869
        }
      ]
    },
    {
      "cell_type": "markdown",
      "source": [
        "###Training"
      ],
      "metadata": {
        "id": "VIDSrk9gyxt5"
      }
    },
    {
      "cell_type": "code",
      "source": [
        "tactics_model = LogisticRegression(C=best_tactics_model.best_params_['C'], penalty = best_tactics_model.best_params_['penalty'])\n",
        "tactics_model.fit(X_train, y_train)"
      ],
      "metadata": {
        "colab": {
          "base_uri": "https://localhost:8080/"
        },
        "id": "ZKfisTp7yv3o",
        "outputId": "9dd60fc2-4e87-48db-b075-7cb1bdfdedab"
      },
      "execution_count": 870,
      "outputs": [
        {
          "output_type": "execute_result",
          "data": {
            "text/plain": [
              "LogisticRegression(C=100)"
            ]
          },
          "metadata": {},
          "execution_count": 870
        }
      ]
    },
    {
      "cell_type": "markdown",
      "source": [
        "###Results"
      ],
      "metadata": {
        "id": "BashAvEPy1wm"
      }
    },
    {
      "cell_type": "markdown",
      "source": [
        "####Accuracy score"
      ],
      "metadata": {
        "id": "ZU4-96q7y32O"
      }
    },
    {
      "cell_type": "markdown",
      "source": [
        "Train data"
      ],
      "metadata": {
        "id": "9Pspytvyy7F2"
      }
    },
    {
      "cell_type": "code",
      "source": [
        "y_pred_train = tactics_model.predict(X_train)\n",
        "\n",
        "accuracy_score(y_train, y_pred_train)"
      ],
      "metadata": {
        "colab": {
          "base_uri": "https://localhost:8080/"
        },
        "id": "DnmsuoOwy5jc",
        "outputId": "04c6f083-d194-48ad-a642-bd2e04498ac2"
      },
      "execution_count": 871,
      "outputs": [
        {
          "output_type": "execute_result",
          "data": {
            "text/plain": [
              "0.8271774138285479"
            ]
          },
          "metadata": {},
          "execution_count": 871
        }
      ]
    },
    {
      "cell_type": "markdown",
      "source": [
        "Test data"
      ],
      "metadata": {
        "id": "b2kjv-iEy_PC"
      }
    },
    {
      "cell_type": "code",
      "source": [
        "y_pred_test = tactics_model.predict(X_test)\n",
        "\n",
        "accuracy_score(y_test, y_pred_test)"
      ],
      "metadata": {
        "colab": {
          "base_uri": "https://localhost:8080/"
        },
        "id": "q5QtpNMCy6dO",
        "outputId": "9d8162c2-9e84-46c5-d061-b0dd9209f715"
      },
      "execution_count": 872,
      "outputs": [
        {
          "output_type": "execute_result",
          "data": {
            "text/plain": [
              "0.8113509192645884"
            ]
          },
          "metadata": {},
          "execution_count": 872
        }
      ]
    },
    {
      "cell_type": "markdown",
      "source": [
        "####Classification reports"
      ],
      "metadata": {
        "id": "96uyPJhFzMrz"
      }
    },
    {
      "cell_type": "markdown",
      "source": [
        "Train data"
      ],
      "metadata": {
        "id": "CuvO5gI8zRwe"
      }
    },
    {
      "cell_type": "code",
      "source": [
        "print(classification_report(y_train, y_pred_train))"
      ],
      "metadata": {
        "colab": {
          "base_uri": "https://localhost:8080/"
        },
        "id": "3P-x5lYIzP8O",
        "outputId": "22aa4937-c5c7-4f67-93b5-c5ee1e87f0c3"
      },
      "execution_count": 873,
      "outputs": [
        {
          "output_type": "stream",
          "name": "stdout",
          "text": [
            "              precision    recall  f1-score   support\n",
            "\n",
            "           0       0.82      0.83      0.83      7258\n",
            "           1       0.83      0.82      0.83      7335\n",
            "\n",
            "    accuracy                           0.83     14593\n",
            "   macro avg       0.83      0.83      0.83     14593\n",
            "weighted avg       0.83      0.83      0.83     14593\n",
            "\n"
          ]
        }
      ]
    },
    {
      "cell_type": "markdown",
      "source": [
        "Test data"
      ],
      "metadata": {
        "id": "ZoC09RGpzSuM"
      }
    },
    {
      "cell_type": "code",
      "source": [
        "print(classification_report(y_test, y_pred_test))"
      ],
      "metadata": {
        "colab": {
          "base_uri": "https://localhost:8080/"
        },
        "id": "Oc3UNd9yzVUp",
        "outputId": "f32e1eef-3893-4380-965c-1f7e61031914"
      },
      "execution_count": 874,
      "outputs": [
        {
          "output_type": "stream",
          "name": "stdout",
          "text": [
            "              precision    recall  f1-score   support\n",
            "\n",
            "           0       0.81      0.82      0.81      3120\n",
            "           1       0.81      0.81      0.81      3135\n",
            "\n",
            "    accuracy                           0.81      6255\n",
            "   macro avg       0.81      0.81      0.81      6255\n",
            "weighted avg       0.81      0.81      0.81      6255\n",
            "\n"
          ]
        }
      ]
    },
    {
      "cell_type": "markdown",
      "source": [
        "####Log loss"
      ],
      "metadata": {
        "id": "rB95NA7fzV7d"
      }
    },
    {
      "cell_type": "markdown",
      "source": [
        "Train data"
      ],
      "metadata": {
        "id": "VeXrhgIGzabt"
      }
    },
    {
      "cell_type": "code",
      "source": [
        "log_loss(y_train, y_pred_train)"
      ],
      "metadata": {
        "colab": {
          "base_uri": "https://localhost:8080/"
        },
        "id": "1WcorsBpzbek",
        "outputId": "ae4801f2-e2e6-42c7-d4e6-46359fe146c6"
      },
      "execution_count": 875,
      "outputs": [
        {
          "output_type": "execute_result",
          "data": {
            "text/plain": [
              "5.9691482198037535"
            ]
          },
          "metadata": {},
          "execution_count": 875
        }
      ]
    },
    {
      "cell_type": "markdown",
      "source": [
        "Test data"
      ],
      "metadata": {
        "id": "IRNyTsfTzb7c"
      }
    },
    {
      "cell_type": "code",
      "source": [
        "log_loss(y_test, y_pred_test)"
      ],
      "metadata": {
        "colab": {
          "base_uri": "https://localhost:8080/"
        },
        "id": "CC1F_sZjzdBw",
        "outputId": "bc4a8d6f-c327-48ad-8b07-8eee31c5c7cf"
      },
      "execution_count": 876,
      "outputs": [
        {
          "output_type": "execute_result",
          "data": {
            "text/plain": [
              "6.515782176452731"
            ]
          },
          "metadata": {},
          "execution_count": 876
        }
      ]
    },
    {
      "cell_type": "code",
      "source": [
        "tactics_log_loss = cross_val_score(tactics_model, X, y, scoring=make_scorer(scoring_function_log_loss, greater_is_better = False), cv=4,)\n",
        "print('Log Loss %2f' %(-1 * tactics_log_loss.mean()))\n",
        "\n",
        "tactics_acc = cross_val_score(tactics_model, X, y, scoring='accuracy',cv=4,)\n",
        "print('Accuracy %2f' %(tactics_acc.mean()))"
      ],
      "metadata": {
        "colab": {
          "base_uri": "https://localhost:8080/"
        },
        "id": "p6nKWmc2zfxH",
        "outputId": "4839c966-eb8f-44f5-e488-7f57029c83a5"
      },
      "execution_count": 877,
      "outputs": [
        {
          "output_type": "stream",
          "name": "stdout",
          "text": [
            "Log Loss 6.428049\n",
            "Accuracy 0.813891\n"
          ]
        }
      ]
    },
    {
      "cell_type": "markdown",
      "source": [
        "##Prediction on Test Data"
      ],
      "metadata": {
        "id": "hybrhNXSH87Q"
      }
    },
    {
      "cell_type": "markdown",
      "source": [
        "###Predicting Mind"
      ],
      "metadata": {
        "id": "0a60FTo4IDoi"
      }
    },
    {
      "cell_type": "code",
      "source": [
        "pred_count1 = vect_mind.transform(test_data['lemma'])\n",
        "pred_count1.shape"
      ],
      "metadata": {
        "colab": {
          "base_uri": "https://localhost:8080/"
        },
        "id": "sq4Gm5hKIKj4",
        "outputId": "14f42804-5169-4877-9d1f-01ef250a727e"
      },
      "execution_count": 878,
      "outputs": [
        {
          "output_type": "execute_result",
          "data": {
            "text/plain": [
              "(8936, 250)"
            ]
          },
          "metadata": {},
          "execution_count": 878
        }
      ]
    },
    {
      "cell_type": "code",
      "source": [
        "test_data['E'] = test_data['type'].apply(lambda x: x[0] == 'E').astype('int')\n",
        "mind_df_test = test_data[['lemma','E']]"
      ],
      "metadata": {
        "id": "A-miiz1hT3LV"
      },
      "execution_count": 879,
      "outputs": []
    },
    {
      "cell_type": "code",
      "source": [
        "X1 = X_count_mind\n",
        "y1 = mind_df['E']\n",
        "\n",
        "final_mind_model = mind_model\n",
        "final_mind_model.fit(X1, y1)\n",
        "\n",
        "final_mind_predictions = final_mind_model.predict(pred_count1)\n",
        "\n",
        "test_data['E_pred'] = final_mind_predictions"
      ],
      "metadata": {
        "id": "GozUlGKCIUo5"
      },
      "execution_count": 880,
      "outputs": []
    },
    {
      "cell_type": "markdown",
      "source": [
        "Accuracy"
      ],
      "metadata": {
        "id": "oc7urlIEWVy1"
      }
    },
    {
      "cell_type": "code",
      "source": [
        "y1_pred = mind_df_test['E']\n",
        "print(accuracy_score(y1_pred, final_mind_predictions))"
      ],
      "metadata": {
        "colab": {
          "base_uri": "https://localhost:8080/"
        },
        "id": "eQUb_OzrUstk",
        "outputId": "07f404e9-ef7d-4e00-d18f-51aa700c3256"
      },
      "execution_count": 881,
      "outputs": [
        {
          "output_type": "stream",
          "name": "stdout",
          "text": [
            "0.8341539838854073\n"
          ]
        }
      ]
    },
    {
      "cell_type": "code",
      "source": [
        "print(classification_report(y1_pred, final_mind_predictions))"
      ],
      "metadata": {
        "colab": {
          "base_uri": "https://localhost:8080/"
        },
        "id": "gnELjjNJbq_G",
        "outputId": "8eb1d3c9-32ca-4a1a-f65d-5b2e23d0ef0c"
      },
      "execution_count": 882,
      "outputs": [
        {
          "output_type": "stream",
          "name": "stdout",
          "text": [
            "              precision    recall  f1-score   support\n",
            "\n",
            "           0       0.84      0.87      0.85      4942\n",
            "           1       0.83      0.79      0.81      3994\n",
            "\n",
            "    accuracy                           0.83      8936\n",
            "   macro avg       0.83      0.83      0.83      8936\n",
            "weighted avg       0.83      0.83      0.83      8936\n",
            "\n"
          ]
        }
      ]
    },
    {
      "cell_type": "code",
      "source": [
        "print(log_loss(y1_pred, final_mind_predictions))"
      ],
      "metadata": {
        "colab": {
          "base_uri": "https://localhost:8080/"
        },
        "id": "tZTRM_B_b2xB",
        "outputId": "b931664c-9839-4141-a256-d4a33b8c76b4"
      },
      "execution_count": 883,
      "outputs": [
        {
          "output_type": "stream",
          "name": "stdout",
          "text": [
            "5.728176807831481\n"
          ]
        }
      ]
    },
    {
      "cell_type": "code",
      "source": [
        "test_data['E_pred'].value_counts().plot(kind = 'bar',color = ['darkblue','dodgerblue'])\n",
        "plt.show()"
      ],
      "metadata": {
        "colab": {
          "base_uri": "https://localhost:8080/",
          "height": 262
        },
        "id": "CUZ0BnqvIv7j",
        "outputId": "6336587a-d84e-4a97-95fc-23129df51b2d"
      },
      "execution_count": 884,
      "outputs": [
        {
          "output_type": "display_data",
          "data": {
            "text/plain": [
              "<Figure size 432x288 with 1 Axes>"
            ],
            "image/png": "[encoded data removed]"
          },
          "metadata": {
            "needs_background": "light"
          }
        }
      ]
    },
    {
      "cell_type": "markdown",
      "source": [
        "###Predicting Energy"
      ],
      "metadata": {
        "id": "izKiQOrJS5TY"
      }
    },
    {
      "cell_type": "code",
      "source": [
        "pred_count2 = vect_energy.transform(test_data['lemma'])\n",
        "pred_count2.shape"
      ],
      "metadata": {
        "colab": {
          "base_uri": "https://localhost:8080/"
        },
        "id": "idteqls6X8Dc",
        "outputId": "e324ebe9-ddfb-4220-911d-11d934876005"
      },
      "execution_count": 885,
      "outputs": [
        {
          "output_type": "execute_result",
          "data": {
            "text/plain": [
              "(8936, 195)"
            ]
          },
          "metadata": {},
          "execution_count": 885
        }
      ]
    },
    {
      "cell_type": "code",
      "source": [
        "test_data['N'] = test_data['type'].apply(lambda x: x[1] == 'N').astype('int')\n",
        "energy_df_test = test_data[['lemma','N']]"
      ],
      "metadata": {
        "id": "1ZWEWq7NWnHM"
      },
      "execution_count": 886,
      "outputs": []
    },
    {
      "cell_type": "code",
      "source": [
        "X2 = X_count_energy\n",
        "y2 = energy_df['N']\n",
        "\n",
        "final_energy_model = energy_model\n",
        "final_energy_model.fit(X2, y2)\n",
        "\n",
        "final_energy_predictions = final_energy_model.predict(pred_count2)\n",
        "\n",
        "test_data['N_pred'] = final_energy_predictions"
      ],
      "metadata": {
        "id": "W09k4AivS7yl"
      },
      "execution_count": 887,
      "outputs": []
    },
    {
      "cell_type": "markdown",
      "source": [
        "Accuracy"
      ],
      "metadata": {
        "id": "gbE_H2rdW3BU"
      }
    },
    {
      "cell_type": "code",
      "source": [
        "y2_pred = energy_df_test['N']\n",
        "print(accuracy_score(y2_pred, final_energy_predictions))"
      ],
      "metadata": {
        "colab": {
          "base_uri": "https://localhost:8080/"
        },
        "id": "kFwD-54BW6QJ",
        "outputId": "ffa9031e-e1b1-4b57-e56d-f9e9d325faad"
      },
      "execution_count": 888,
      "outputs": [
        {
          "output_type": "stream",
          "name": "stdout",
          "text": [
            "0.8362802148612355\n"
          ]
        }
      ]
    },
    {
      "cell_type": "code",
      "source": [
        "print(classification_report(y2_pred, final_energy_predictions))"
      ],
      "metadata": {
        "colab": {
          "base_uri": "https://localhost:8080/"
        },
        "id": "2WnaPw_JcZTL",
        "outputId": "c4bc7556-a878-4b10-dc1a-7bf738c68a5c"
      },
      "execution_count": 889,
      "outputs": [
        {
          "output_type": "stream",
          "name": "stdout",
          "text": [
            "              precision    recall  f1-score   support\n",
            "\n",
            "           0       0.83      0.84      0.84      4464\n",
            "           1       0.84      0.83      0.84      4472\n",
            "\n",
            "    accuracy                           0.84      8936\n",
            "   macro avg       0.84      0.84      0.84      8936\n",
            "weighted avg       0.84      0.84      0.84      8936\n",
            "\n"
          ]
        }
      ]
    },
    {
      "cell_type": "code",
      "source": [
        "print(log_loss(y2_pred, final_energy_predictions))"
      ],
      "metadata": {
        "colab": {
          "base_uri": "https://localhost:8080/"
        },
        "id": "qb0Ovw9Uc_hc",
        "outputId": "1914ab71-dabc-42db-ae74-54add3b886d4"
      },
      "execution_count": 890,
      "outputs": [
        {
          "output_type": "stream",
          "name": "stdout",
          "text": [
            "5.654743060292464\n"
          ]
        }
      ]
    },
    {
      "cell_type": "code",
      "source": [
        "test_data['N_pred'].value_counts().plot(kind = 'bar', color = ['purple','violet'])\n",
        "plt.show()"
      ],
      "metadata": {
        "colab": {
          "base_uri": "https://localhost:8080/",
          "height": 262
        },
        "id": "D-0XPgapTYAs",
        "outputId": "42777403-0681-4af9-a2c5-b0a357818252"
      },
      "execution_count": 891,
      "outputs": [
        {
          "output_type": "display_data",
          "data": {
            "text/plain": [
              "<Figure size 432x288 with 1 Axes>"
            ],
            "image/png": "[encoded data removed]"
          },
          "metadata": {
            "needs_background": "light"
          }
        }
      ]
    },
    {
      "cell_type": "markdown",
      "source": [
        "###Predicting Nature"
      ],
      "metadata": {
        "id": "OIS7ejWFS5M-"
      }
    },
    {
      "cell_type": "code",
      "source": [
        "pred_count3 = vect_nature.transform(test_data['lemma'])\n",
        "pred_count3.shape"
      ],
      "metadata": {
        "colab": {
          "base_uri": "https://localhost:8080/"
        },
        "id": "XBYBi8vfYQtP",
        "outputId": "119b1a74-d604-436c-967e-c7a283fd9012"
      },
      "execution_count": 892,
      "outputs": [
        {
          "output_type": "execute_result",
          "data": {
            "text/plain": [
              "(8936, 3900)"
            ]
          },
          "metadata": {},
          "execution_count": 892
        }
      ]
    },
    {
      "cell_type": "code",
      "source": [
        "test_data['T'] = test_data['type'].apply(lambda x: x[2] == 'T').astype('int')\n",
        "nature_df_test = test_data[['lemma','T']]"
      ],
      "metadata": {
        "id": "sT4W2F52Y5Vd"
      },
      "execution_count": 893,
      "outputs": []
    },
    {
      "cell_type": "code",
      "source": [
        "X3 = X_count_nature\n",
        "y3 = nature_df['T']\n",
        "\n",
        "final_nature_model = nature_model\n",
        "final_nature_model.fit(X3, y3)\n",
        "\n",
        "final_nature_predictions = final_nature_model.predict(pred_count3)\n",
        "\n",
        "test_data['T_pred'] = final_nature_predictions"
      ],
      "metadata": {
        "colab": {
          "base_uri": "https://localhost:8080/"
        },
        "id": "smCOwvsiTkxx",
        "outputId": "3de59029-f55e-4bba-b5c6-6660b6add24a"
      },
      "execution_count": 894,
      "outputs": [
        {
          "output_type": "stream",
          "name": "stderr",
          "text": [
            "/usr/local/lib/python3.7/dist-packages/sklearn/linear_model/_logistic.py:818: ConvergenceWarning: lbfgs failed to converge (status=1):\n",
            "STOP: TOTAL NO. of ITERATIONS REACHED LIMIT.\n",
            "\n",
            "Increase the number of iterations (max_iter) or scale the data as shown in:\n",
            "    https://scikit-learn.org/stable/modules/preprocessing.html\n",
            "Please also refer to the documentation for alternative solver options:\n",
            "    https://scikit-learn.org/stable/modules/linear_model.html#logistic-regression\n",
            "  extra_warning_msg=_LOGISTIC_SOLVER_CONVERGENCE_MSG,\n"
          ]
        }
      ]
    },
    {
      "cell_type": "markdown",
      "source": [
        "Accuracy"
      ],
      "metadata": {
        "id": "vAbk8tFPYgDX"
      }
    },
    {
      "cell_type": "code",
      "source": [
        "y3_pred = nature_df_test['T']\n",
        "print(accuracy_score(y3_pred, final_nature_predictions))"
      ],
      "metadata": {
        "colab": {
          "base_uri": "https://localhost:8080/"
        },
        "id": "7gZOBsTPYXz2",
        "outputId": "1c49a350-cef6-44f5-a701-872e6c6f57d6"
      },
      "execution_count": 895,
      "outputs": [
        {
          "output_type": "stream",
          "name": "stdout",
          "text": [
            "0.9485228290062668\n"
          ]
        }
      ]
    },
    {
      "cell_type": "code",
      "source": [
        "print(classification_report(y3_pred, final_nature_predictions))"
      ],
      "metadata": {
        "colab": {
          "base_uri": "https://localhost:8080/"
        },
        "id": "1vzcS-zcdXPv",
        "outputId": "bb01313e-bf8d-4abd-e183-e135c91d4c7c"
      },
      "execution_count": 896,
      "outputs": [
        {
          "output_type": "stream",
          "name": "stdout",
          "text": [
            "              precision    recall  f1-score   support\n",
            "\n",
            "           0       0.95      0.95      0.95      4300\n",
            "           1       0.95      0.95      0.95      4636\n",
            "\n",
            "    accuracy                           0.95      8936\n",
            "   macro avg       0.95      0.95      0.95      8936\n",
            "weighted avg       0.95      0.95      0.95      8936\n",
            "\n"
          ]
        }
      ]
    },
    {
      "cell_type": "code",
      "source": [
        "print(log_loss(y3_pred, final_nature_predictions))"
      ],
      "metadata": {
        "colab": {
          "base_uri": "https://localhost:8080/"
        },
        "id": "phDc7iZzdbvB",
        "outputId": "0eca1ae5-c6cc-4032-ac88-561d9723090b"
      },
      "execution_count": 897,
      "outputs": [
        {
          "output_type": "stream",
          "name": "stdout",
          "text": [
            "1.7779794368238122\n"
          ]
        }
      ]
    },
    {
      "cell_type": "code",
      "source": [
        "test_data['T_pred'].value_counts().plot(kind = 'bar', color = ['darkgreen','yellowgreen'])\n",
        "plt.show()"
      ],
      "metadata": {
        "colab": {
          "base_uri": "https://localhost:8080/",
          "height": 0
        },
        "id": "ZWRyUKwWTt8X",
        "outputId": "229128dd-699d-41c5-bacc-579619c22364"
      },
      "execution_count": 898,
      "outputs": [
        {
          "output_type": "display_data",
          "data": {
            "text/plain": [
              "<Figure size 432x288 with 1 Axes>"
            ],
            "image/png": "[encoded data removed]"
          },
          "metadata": {
            "needs_background": "light"
          }
        }
      ]
    },
    {
      "cell_type": "markdown",
      "source": [
        "###Predicting Tactics"
      ],
      "metadata": {
        "id": "rmyMwogLVXe3"
      }
    },
    {
      "cell_type": "code",
      "source": [
        "pred_count4 = vect_tactics.transform(test_data['lemma'])\n",
        "pred_count4.shape"
      ],
      "metadata": {
        "colab": {
          "base_uri": "https://localhost:8080/"
        },
        "id": "8mTfWVgvZRK8",
        "outputId": "32d918b9-dfac-492d-c2b8-6372babdddc3"
      },
      "execution_count": 899,
      "outputs": [
        {
          "output_type": "execute_result",
          "data": {
            "text/plain": [
              "(8936, 260)"
            ]
          },
          "metadata": {},
          "execution_count": 899
        }
      ]
    },
    {
      "cell_type": "code",
      "source": [
        "test_data['J'] = test_data['type'].apply(lambda x: x[3] == 'J').astype('int')\n",
        "nature_df_test = test_data[['lemma','J']]"
      ],
      "metadata": {
        "id": "BKFpoM5IZS5v"
      },
      "execution_count": 900,
      "outputs": []
    },
    {
      "cell_type": "code",
      "source": [
        "X4 = X_count_tactics\n",
        "y4 = tactics_df['J']\n",
        "\n",
        "final_tactics_model = tactics_model\n",
        "final_tactics_model.fit(X4, y4)\n",
        "\n",
        "final_tactics_predictions = final_tactics_model.predict(pred_count4)\n",
        "\n",
        "test_data['J_pred'] = final_tactics_predictions"
      ],
      "metadata": {
        "id": "A7Wtd4tFVcd7"
      },
      "execution_count": 901,
      "outputs": []
    },
    {
      "cell_type": "markdown",
      "source": [
        "Accuracy"
      ],
      "metadata": {
        "id": "mA9lW0AcZhbN"
      }
    },
    {
      "cell_type": "code",
      "source": [
        "y4_pred = nature_df_test['J']\n",
        "print(accuracy_score(y4_pred, final_tactics_predictions))"
      ],
      "metadata": {
        "colab": {
          "base_uri": "https://localhost:8080/"
        },
        "id": "oiqpb_nrZhBT",
        "outputId": "dcb4d400-eab4-40d2-9f7d-531382d89da7"
      },
      "execution_count": 902,
      "outputs": [
        {
          "output_type": "stream",
          "name": "stdout",
          "text": [
            "0.8138988361683079\n"
          ]
        }
      ]
    },
    {
      "cell_type": "markdown",
      "source": [
        "Classification report"
      ],
      "metadata": {
        "id": "Q1UC1gMtPKTg"
      }
    },
    {
      "cell_type": "code",
      "source": [
        "print(classification_report(y4_pred, final_tactics_predictions))"
      ],
      "metadata": {
        "colab": {
          "base_uri": "https://localhost:8080/"
        },
        "id": "1MwnLGnQPM6f",
        "outputId": "18ea3914-0fcc-4ab8-921e-a1cc15cc9348"
      },
      "execution_count": 903,
      "outputs": [
        {
          "output_type": "stream",
          "name": "stdout",
          "text": [
            "              precision    recall  f1-score   support\n",
            "\n",
            "           0       0.82      0.81      0.82      4514\n",
            "           1       0.81      0.81      0.81      4422\n",
            "\n",
            "    accuracy                           0.81      8936\n",
            "   macro avg       0.81      0.81      0.81      8936\n",
            "weighted avg       0.81      0.81      0.81      8936\n",
            "\n"
          ]
        }
      ]
    },
    {
      "cell_type": "code",
      "source": [
        "print(log_loss(y4_pred, final_tactics_predictions))"
      ],
      "metadata": {
        "colab": {
          "base_uri": "https://localhost:8080/"
        },
        "id": "emkCF9sWdtwl",
        "outputId": "616f305a-0551-41ba-c896-4baa7dc4316d"
      },
      "execution_count": 904,
      "outputs": [
        {
          "output_type": "stream",
          "name": "stdout",
          "text": [
            "6.427781469044648\n"
          ]
        }
      ]
    },
    {
      "cell_type": "code",
      "source": [
        "test_data['J_pred'].value_counts().plot(kind = 'bar', color = ['black','grey'])\n",
        "plt.show()"
      ],
      "metadata": {
        "colab": {
          "base_uri": "https://localhost:8080/",
          "height": 262
        },
        "id": "_hESCrMRVpjw",
        "outputId": "98867059-524c-4cd6-b227-4f30fa75376d"
      },
      "execution_count": 905,
      "outputs": [
        {
          "output_type": "display_data",
          "data": {
            "text/plain": [
              "<Figure size 432x288 with 1 Axes>"
            ],
            "image/png": "[encoded data removed]"
          },
          "metadata": {
            "needs_background": "light"
          }
        }
      ]
    },
    {
      "cell_type": "code",
      "source": [
        "test_data"
      ],
      "metadata": {
        "colab": {
          "base_uri": "https://localhost:8080/",
          "height": 423
        },
        "id": "MqU83KBnabCG",
        "outputId": "b75ff594-13db-46d4-da60-b39f86b9ab54"
      },
      "execution_count": 906,
      "outputs": [
        {
          "output_type": "execute_result",
          "data": {
            "text/plain": [
              "      type                                              posts  \\\n",
              "8446  ESFJ   adelaide labilleguiard is my favorite painter...   \n",
              "7566  ISFP  they live in stonypoint i cant remember haha l...   \n",
              "8234  ENTP  doctors tend to be scummy but not my issue i s...   \n",
              "4441  INFP  numerically i lean towards being a late s kid ...   \n",
              "3122  ESFP  good job william i am yes to both selfinterest...   \n",
              "...    ...                                                ...   \n",
              "993   INTJ  likewise we need to write our own book then in...   \n",
              "6382  ENFP  i have two infp friends one of whom has a crus...   \n",
              "4107  ISTP  hes actually way too cute and rich which makes...   \n",
              "5908  INFJ  i also have long natural hair and have never d...   \n",
              "1450  ESTJ  people have their priorities it sounds like yo...   \n",
              "\n",
              "                                                  lemma  stopwords  E  E_pred  \\\n",
              "8446   adelaide labilleguiard is my favorite painter...        791  1       0   \n",
              "7566  they live in stonypoint i cant remember haha l...        376  0       0   \n",
              "8234  doctor tend to be scummy but not my issue i se...        224  1       0   \n",
              "4441  numerically i lean towards being a late s kid ...        516  0       0   \n",
              "3122  good job william i am yes to both selfinterest...        647  1       1   \n",
              "...                                                 ...        ... ..     ...   \n",
              "993   likewise we need to write our own book then in...        792  0       1   \n",
              "6382  i have two infp friend one of whom ha a crush ...        618  1       1   \n",
              "4107  he actually way too cute and rich which make m...        551  0       0   \n",
              "5908  i also have long natural hair and have never d...        627  0       0   \n",
              "1450  people have their priority it sound like you k...        723  1       0   \n",
              "\n",
              "      N  N_pred  T  T_pred  J  J_pred  \n",
              "8446  0       0  0       0  1       1  \n",
              "7566  0       0  0       0  0       0  \n",
              "8234  1       0  1       1  0       1  \n",
              "4441  1       0  0       0  0       0  \n",
              "3122  0       1  0       0  0       0  \n",
              "...  ..     ... ..     ... ..     ...  \n",
              "993   1       1  1       1  1       0  \n",
              "6382  1       1  0       0  0       0  \n",
              "4107  0       1  1       1  0       0  \n",
              "5908  1       0  0       0  1       0  \n",
              "1450  0       0  1       1  1       1  \n",
              "\n",
              "[8936 rows x 12 columns]"
            ],
            "text/html": [
              "\n",
              "  <div id=\"df-0900bded-0cde-4253-8277-8aac70625088\">\n",
              "    <div class=\"colab-df-container\">\n",
              "      <div>\n",
              "<style scoped>\n",
              "    .dataframe tbody tr th:only-of-type {\n",
              "        vertical-align: middle;\n",
              "    }\n",
              "\n",
              "    .dataframe tbody tr th {\n",
              "        vertical-align: top;\n",
              "    }\n",
              "\n",
              "    .dataframe thead th {\n",
              "        text-align: right;\n",
              "    }\n",
              "</style>\n",
              "<table border=\"1\" class=\"dataframe\">\n",
              "  <thead>\n",
              "    <tr style=\"text-align: right;\">\n",
              "      <th></th>\n",
              "      <th>type</th>\n",
              "      <th>posts</th>\n",
              "      <th>lemma</th>\n",
              "      <th>stopwords</th>\n",
              "      <th>E</th>\n",
              "      <th>E_pred</th>\n",
              "      <th>N</th>\n",
              "      <th>N_pred</th>\n",
              "      <th>T</th>\n",
              "      <th>T_pred</th>\n",
              "      <th>J</th>\n",
              "      <th>J_pred</th>\n",
              "    </tr>\n",
              "  </thead>\n",
              "  <tbody>\n",
              "    <tr>\n",
              "      <th>8446</th>\n",
              "      <td>ESFJ</td>\n",
              "      <td>adelaide labilleguiard is my favorite painter...</td>\n",
              "      <td>adelaide labilleguiard is my favorite painter...</td>\n",
              "      <td>791</td>\n",
              "      <td>1</td>\n",
              "      <td>0</td>\n",
              "      <td>0</td>\n",
              "      <td>0</td>\n",
              "      <td>0</td>\n",
              "      <td>0</td>\n",
              "      <td>1</td>\n",
              "      <td>1</td>\n",
              "    </tr>\n",
              "    <tr>\n",
              "      <th>7566</th>\n",
              "      <td>ISFP</td>\n",
              "      <td>they live in stonypoint i cant remember haha l...</td>\n",
              "      <td>they live in stonypoint i cant remember haha l...</td>\n",
              "      <td>376</td>\n",
              "      <td>0</td>\n",
              "      <td>0</td>\n",
              "      <td>0</td>\n",
              "      <td>0</td>\n",
              "      <td>0</td>\n",
              "      <td>0</td>\n",
              "      <td>0</td>\n",
              "      <td>0</td>\n",
              "    </tr>\n",
              "    <tr>\n",
              "      <th>8234</th>\n",
              "      <td>ENTP</td>\n",
              "      <td>doctors tend to be scummy but not my issue i s...</td>\n",
              "      <td>doctor tend to be scummy but not my issue i se...</td>\n",
              "      <td>224</td>\n",
              "      <td>1</td>\n",
              "      <td>0</td>\n",
              "      <td>1</td>\n",
              "      <td>0</td>\n",
              "      <td>1</td>\n",
              "      <td>1</td>\n",
              "      <td>0</td>\n",
              "      <td>1</td>\n",
              "    </tr>\n",
              "    <tr>\n",
              "      <th>4441</th>\n",
              "      <td>INFP</td>\n",
              "      <td>numerically i lean towards being a late s kid ...</td>\n",
              "      <td>numerically i lean towards being a late s kid ...</td>\n",
              "      <td>516</td>\n",
              "      <td>0</td>\n",
              "      <td>0</td>\n",
              "      <td>1</td>\n",
              "      <td>0</td>\n",
              "      <td>0</td>\n",
              "      <td>0</td>\n",
              "      <td>0</td>\n",
              "      <td>0</td>\n",
              "    </tr>\n",
              "    <tr>\n",
              "      <th>3122</th>\n",
              "      <td>ESFP</td>\n",
              "      <td>good job william i am yes to both selfinterest...</td>\n",
              "      <td>good job william i am yes to both selfinterest...</td>\n",
              "      <td>647</td>\n",
              "      <td>1</td>\n",
              "      <td>1</td>\n",
              "      <td>0</td>\n",
              "      <td>1</td>\n",
              "      <td>0</td>\n",
              "      <td>0</td>\n",
              "      <td>0</td>\n",
              "      <td>0</td>\n",
              "    </tr>\n",
              "    <tr>\n",
              "      <th>...</th>\n",
              "      <td>...</td>\n",
              "      <td>...</td>\n",
              "      <td>...</td>\n",
              "      <td>...</td>\n",
              "      <td>...</td>\n",
              "      <td>...</td>\n",
              "      <td>...</td>\n",
              "      <td>...</td>\n",
              "      <td>...</td>\n",
              "      <td>...</td>\n",
              "      <td>...</td>\n",
              "      <td>...</td>\n",
              "    </tr>\n",
              "    <tr>\n",
              "      <th>993</th>\n",
              "      <td>INTJ</td>\n",
              "      <td>likewise we need to write our own book then in...</td>\n",
              "      <td>likewise we need to write our own book then in...</td>\n",
              "      <td>792</td>\n",
              "      <td>0</td>\n",
              "      <td>1</td>\n",
              "      <td>1</td>\n",
              "      <td>1</td>\n",
              "      <td>1</td>\n",
              "      <td>1</td>\n",
              "      <td>1</td>\n",
              "      <td>0</td>\n",
              "    </tr>\n",
              "    <tr>\n",
              "      <th>6382</th>\n",
              "      <td>ENFP</td>\n",
              "      <td>i have two infp friends one of whom has a crus...</td>\n",
              "      <td>i have two infp friend one of whom ha a crush ...</td>\n",
              "      <td>618</td>\n",
              "      <td>1</td>\n",
              "      <td>1</td>\n",
              "      <td>1</td>\n",
              "      <td>1</td>\n",
              "      <td>0</td>\n",
              "      <td>0</td>\n",
              "      <td>0</td>\n",
              "      <td>0</td>\n",
              "    </tr>\n",
              "    <tr>\n",
              "      <th>4107</th>\n",
              "      <td>ISTP</td>\n",
              "      <td>hes actually way too cute and rich which makes...</td>\n",
              "      <td>he actually way too cute and rich which make m...</td>\n",
              "      <td>551</td>\n",
              "      <td>0</td>\n",
              "      <td>0</td>\n",
              "      <td>0</td>\n",
              "      <td>1</td>\n",
              "      <td>1</td>\n",
              "      <td>1</td>\n",
              "      <td>0</td>\n",
              "      <td>0</td>\n",
              "    </tr>\n",
              "    <tr>\n",
              "      <th>5908</th>\n",
              "      <td>INFJ</td>\n",
              "      <td>i also have long natural hair and have never d...</td>\n",
              "      <td>i also have long natural hair and have never d...</td>\n",
              "      <td>627</td>\n",
              "      <td>0</td>\n",
              "      <td>0</td>\n",
              "      <td>1</td>\n",
              "      <td>0</td>\n",
              "      <td>0</td>\n",
              "      <td>0</td>\n",
              "      <td>1</td>\n",
              "      <td>0</td>\n",
              "    </tr>\n",
              "    <tr>\n",
              "      <th>1450</th>\n",
              "      <td>ESTJ</td>\n",
              "      <td>people have their priorities it sounds like yo...</td>\n",
              "      <td>people have their priority it sound like you k...</td>\n",
              "      <td>723</td>\n",
              "      <td>1</td>\n",
              "      <td>0</td>\n",
              "      <td>0</td>\n",
              "      <td>0</td>\n",
              "      <td>1</td>\n",
              "      <td>1</td>\n",
              "      <td>1</td>\n",
              "      <td>1</td>\n",
              "    </tr>\n",
              "  </tbody>\n",
              "</table>\n",
              "<p>8936 rows × 12 columns</p>\n",
              "</div>\n",
              "      <button class=\"colab-df-convert\" onclick=\"convertToInteractive('df-0900bded-0cde-4253-8277-8aac70625088')\"\n",
              "              title=\"Convert this dataframe to an interactive table.\"\n",
              "              style=\"display:none;\">\n",
              "        \n",
              "  <svg xmlns=\"http://www.w3.org/2000/svg\" height=\"24px\"viewBox=\"0 0 24 24\"\n",
              "       width=\"24px\">\n",
              "    <path d=\"M0 0h24v24H0V0z\" fill=\"none\"/>\n",
              "    <path d=\"M18.56 5.44l.94 2.06.94-2.06 2.06-.94-2.06-.94-.94-2.06-.94 2.06-2.06.94zm-11 1L8.5 8.5l.94-2.06 2.06-.94-2.06-.94L8.5 2.5l-.94 2.06-2.06.94zm10 10l.94 2.06.94-2.06 2.06-.94-2.06-.94-.94-2.06-.94 2.06-2.06.94z\"/><path d=\"M17.41 7.96l-1.37-1.37c-.4-.4-.92-.59-1.43-.59-.52 0-1.04.2-1.43.59L10.3 9.45l-7.72 7.72c-.78.78-.78 2.05 0 2.83L4 21.41c.39.39.9.59 1.41.59.51 0 1.02-.2 1.41-.59l7.78-7.78 2.81-2.81c.8-.78.8-2.07 0-2.86zM5.41 20L4 18.59l7.72-7.72 1.47 1.35L5.41 20z\"/>\n",
              "  </svg>\n",
              "      </button>\n",
              "      \n",
              "  <style>\n",
              "    .colab-df-container {\n",
              "      display:flex;\n",
              "      flex-wrap:wrap;\n",
              "      gap: 12px;\n",
              "    }\n",
              "\n",
              "    .colab-df-convert {\n",
              "      background-color: #E8F0FE;\n",
              "      border: none;\n",
              "      border-radius: 50%;\n",
              "      cursor: pointer;\n",
              "      display: none;\n",
              "      fill: #1967D2;\n",
              "      height: 32px;\n",
              "      padding: 0 0 0 0;\n",
              "      width: 32px;\n",
              "    }\n",
              "\n",
              "    .colab-df-convert:hover {\n",
              "      background-color: #E2EBFA;\n",
              "      box-shadow: 0px 1px 2px rgba(60, 64, 67, 0.3), 0px 1px 3px 1px rgba(60, 64, 67, 0.15);\n",
              "      fill: #174EA6;\n",
              "    }\n",
              "\n",
              "    [theme=dark] .colab-df-convert {\n",
              "      background-color: #3B4455;\n",
              "      fill: #D2E3FC;\n",
              "    }\n",
              "\n",
              "    [theme=dark] .colab-df-convert:hover {\n",
              "      background-color: #434B5C;\n",
              "      box-shadow: 0px 1px 3px 1px rgba(0, 0, 0, 0.15);\n",
              "      filter: drop-shadow(0px 1px 2px rgba(0, 0, 0, 0.3));\n",
              "      fill: #FFFFFF;\n",
              "    }\n",
              "  </style>\n",
              "\n",
              "      <script>\n",
              "        const buttonEl =\n",
              "          document.querySelector('#df-0900bded-0cde-4253-8277-8aac70625088 button.colab-df-convert');\n",
              "        buttonEl.style.display =\n",
              "          google.colab.kernel.accessAllowed ? 'block' : 'none';\n",
              "\n",
              "        async function convertToInteractive(key) {\n",
              "          const element = document.querySelector('#df-0900bded-0cde-4253-8277-8aac70625088');\n",
              "          const dataTable =\n",
              "            await google.colab.kernel.invokeFunction('convertToInteractive',\n",
              "                                                     [key], {});\n",
              "          if (!dataTable) return;\n",
              "\n",
              "          const docLinkHtml = 'Like what you see? Visit the ' +\n",
              "            '<a target=\"_blank\" href=https://colab.research.google.com/notebooks/data_table.ipynb>data table notebook</a>'\n",
              "            + ' to learn more about interactive tables.';\n",
              "          element.innerHTML = '';\n",
              "          dataTable['output_type'] = 'display_data';\n",
              "          await google.colab.output.renderOutput(dataTable, element);\n",
              "          const docLink = document.createElement('div');\n",
              "          docLink.innerHTML = docLinkHtml;\n",
              "          element.appendChild(docLink);\n",
              "        }\n",
              "      </script>\n",
              "    </div>\n",
              "  </div>\n",
              "  "
            ]
          },
          "metadata": {},
          "execution_count": 906
        }
      ]
    },
    {
      "cell_type": "markdown",
      "source": [
        "###Prediction for each of the 4 characteristics"
      ],
      "metadata": {
        "id": "6Z8KEqzPVD-Y"
      }
    },
    {
      "cell_type": "code",
      "source": [
        "pred_lemma = test_data['lemma']\n",
        "pred_mind_df = test_data['E_pred']\n",
        "pred_energy_df = test_data['N_pred']\n",
        "pred_nature_df = test_data['T_pred']\n",
        "pred_tactics_df = test_data['J_pred']"
      ],
      "metadata": {
        "id": "JaaaPx4Wbd-s"
      },
      "execution_count": 907,
      "outputs": []
    },
    {
      "cell_type": "code",
      "source": [
        "final_pred = pd.concat([pred_lemma, pred_mind_df, pred_energy_df, pred_nature_df, pred_tactics_df], axis=1) \n",
        "final_pred.head(10)"
      ],
      "metadata": {
        "colab": {
          "base_uri": "https://localhost:8080/",
          "height": 363
        },
        "id": "B5Agi8toVOa5",
        "outputId": "abb9f500-393b-474b-acb1-8d8f1823dcc6"
      },
      "execution_count": 908,
      "outputs": [
        {
          "output_type": "execute_result",
          "data": {
            "text/plain": [
              "                                                  lemma  E_pred  N_pred  \\\n",
              "8446   adelaide labilleguiard is my favorite painter...       0       0   \n",
              "7566  they live in stonypoint i cant remember haha l...       0       0   \n",
              "8234  doctor tend to be scummy but not my issue i se...       0       0   \n",
              "4441  numerically i lean towards being a late s kid ...       0       0   \n",
              "3122  good job william i am yes to both selfinterest...       1       1   \n",
              "7315  yeah im not a fan of kiersey at all granted i ...       1       0   \n",
              "6246  kindofblue honestly i dont need anyone to take...       1       1   \n",
              "1120  i dont have much useful advice  but you trigge...       0       1   \n",
              "3126  highclasssavage crushkilldestroy urien poloniu...       1       0   \n",
              "2589  maker then survivor the air is so quiet john j...       0       0   \n",
              "\n",
              "      T_pred  J_pred  \n",
              "8446       0       1  \n",
              "7566       0       0  \n",
              "8234       1       1  \n",
              "4441       0       0  \n",
              "3122       0       0  \n",
              "7315       0       0  \n",
              "6246       0       0  \n",
              "1120       1       0  \n",
              "3126       0       0  \n",
              "2589       0       1  "
            ],
            "text/html": [
              "\n",
              "  <div id=\"df-c9f4ad11-5d5a-4ca3-abdc-2e8c99f52e51\">\n",
              "    <div class=\"colab-df-container\">\n",
              "      <div>\n",
              "<style scoped>\n",
              "    .dataframe tbody tr th:only-of-type {\n",
              "        vertical-align: middle;\n",
              "    }\n",
              "\n",
              "    .dataframe tbody tr th {\n",
              "        vertical-align: top;\n",
              "    }\n",
              "\n",
              "    .dataframe thead th {\n",
              "        text-align: right;\n",
              "    }\n",
              "</style>\n",
              "<table border=\"1\" class=\"dataframe\">\n",
              "  <thead>\n",
              "    <tr style=\"text-align: right;\">\n",
              "      <th></th>\n",
              "      <th>lemma</th>\n",
              "      <th>E_pred</th>\n",
              "      <th>N_pred</th>\n",
              "      <th>T_pred</th>\n",
              "      <th>J_pred</th>\n",
              "    </tr>\n",
              "  </thead>\n",
              "  <tbody>\n",
              "    <tr>\n",
              "      <th>8446</th>\n",
              "      <td>adelaide labilleguiard is my favorite painter...</td>\n",
              "      <td>0</td>\n",
              "      <td>0</td>\n",
              "      <td>0</td>\n",
              "      <td>1</td>\n",
              "    </tr>\n",
              "    <tr>\n",
              "      <th>7566</th>\n",
              "      <td>they live in stonypoint i cant remember haha l...</td>\n",
              "      <td>0</td>\n",
              "      <td>0</td>\n",
              "      <td>0</td>\n",
              "      <td>0</td>\n",
              "    </tr>\n",
              "    <tr>\n",
              "      <th>8234</th>\n",
              "      <td>doctor tend to be scummy but not my issue i se...</td>\n",
              "      <td>0</td>\n",
              "      <td>0</td>\n",
              "      <td>1</td>\n",
              "      <td>1</td>\n",
              "    </tr>\n",
              "    <tr>\n",
              "      <th>4441</th>\n",
              "      <td>numerically i lean towards being a late s kid ...</td>\n",
              "      <td>0</td>\n",
              "      <td>0</td>\n",
              "      <td>0</td>\n",
              "      <td>0</td>\n",
              "    </tr>\n",
              "    <tr>\n",
              "      <th>3122</th>\n",
              "      <td>good job william i am yes to both selfinterest...</td>\n",
              "      <td>1</td>\n",
              "      <td>1</td>\n",
              "      <td>0</td>\n",
              "      <td>0</td>\n",
              "    </tr>\n",
              "    <tr>\n",
              "      <th>7315</th>\n",
              "      <td>yeah im not a fan of kiersey at all granted i ...</td>\n",
              "      <td>1</td>\n",
              "      <td>0</td>\n",
              "      <td>0</td>\n",
              "      <td>0</td>\n",
              "    </tr>\n",
              "    <tr>\n",
              "      <th>6246</th>\n",
              "      <td>kindofblue honestly i dont need anyone to take...</td>\n",
              "      <td>1</td>\n",
              "      <td>1</td>\n",
              "      <td>0</td>\n",
              "      <td>0</td>\n",
              "    </tr>\n",
              "    <tr>\n",
              "      <th>1120</th>\n",
              "      <td>i dont have much useful advice  but you trigge...</td>\n",
              "      <td>0</td>\n",
              "      <td>1</td>\n",
              "      <td>1</td>\n",
              "      <td>0</td>\n",
              "    </tr>\n",
              "    <tr>\n",
              "      <th>3126</th>\n",
              "      <td>highclasssavage crushkilldestroy urien poloniu...</td>\n",
              "      <td>1</td>\n",
              "      <td>0</td>\n",
              "      <td>0</td>\n",
              "      <td>0</td>\n",
              "    </tr>\n",
              "    <tr>\n",
              "      <th>2589</th>\n",
              "      <td>maker then survivor the air is so quiet john j...</td>\n",
              "      <td>0</td>\n",
              "      <td>0</td>\n",
              "      <td>0</td>\n",
              "      <td>1</td>\n",
              "    </tr>\n",
              "  </tbody>\n",
              "</table>\n",
              "</div>\n",
              "      <button class=\"colab-df-convert\" onclick=\"convertToInteractive('df-c9f4ad11-5d5a-4ca3-abdc-2e8c99f52e51')\"\n",
              "              title=\"Convert this dataframe to an interactive table.\"\n",
              "              style=\"display:none;\">\n",
              "        \n",
              "  <svg xmlns=\"http://www.w3.org/2000/svg\" height=\"24px\"viewBox=\"0 0 24 24\"\n",
              "       width=\"24px\">\n",
              "    <path d=\"M0 0h24v24H0V0z\" fill=\"none\"/>\n",
              "    <path d=\"M18.56 5.44l.94 2.06.94-2.06 2.06-.94-2.06-.94-.94-2.06-.94 2.06-2.06.94zm-11 1L8.5 8.5l.94-2.06 2.06-.94-2.06-.94L8.5 2.5l-.94 2.06-2.06.94zm10 10l.94 2.06.94-2.06 2.06-.94-2.06-.94-.94-2.06-.94 2.06-2.06.94z\"/><path d=\"M17.41 7.96l-1.37-1.37c-.4-.4-.92-.59-1.43-.59-.52 0-1.04.2-1.43.59L10.3 9.45l-7.72 7.72c-.78.78-.78 2.05 0 2.83L4 21.41c.39.39.9.59 1.41.59.51 0 1.02-.2 1.41-.59l7.78-7.78 2.81-2.81c.8-.78.8-2.07 0-2.86zM5.41 20L4 18.59l7.72-7.72 1.47 1.35L5.41 20z\"/>\n",
              "  </svg>\n",
              "      </button>\n",
              "      \n",
              "  <style>\n",
              "    .colab-df-container {\n",
              "      display:flex;\n",
              "      flex-wrap:wrap;\n",
              "      gap: 12px;\n",
              "    }\n",
              "\n",
              "    .colab-df-convert {\n",
              "      background-color: #E8F0FE;\n",
              "      border: none;\n",
              "      border-radius: 50%;\n",
              "      cursor: pointer;\n",
              "      display: none;\n",
              "      fill: #1967D2;\n",
              "      height: 32px;\n",
              "      padding: 0 0 0 0;\n",
              "      width: 32px;\n",
              "    }\n",
              "\n",
              "    .colab-df-convert:hover {\n",
              "      background-color: #E2EBFA;\n",
              "      box-shadow: 0px 1px 2px rgba(60, 64, 67, 0.3), 0px 1px 3px 1px rgba(60, 64, 67, 0.15);\n",
              "      fill: #174EA6;\n",
              "    }\n",
              "\n",
              "    [theme=dark] .colab-df-convert {\n",
              "      background-color: #3B4455;\n",
              "      fill: #D2E3FC;\n",
              "    }\n",
              "\n",
              "    [theme=dark] .colab-df-convert:hover {\n",
              "      background-color: #434B5C;\n",
              "      box-shadow: 0px 1px 3px 1px rgba(0, 0, 0, 0.15);\n",
              "      filter: drop-shadow(0px 1px 2px rgba(0, 0, 0, 0.3));\n",
              "      fill: #FFFFFF;\n",
              "    }\n",
              "  </style>\n",
              "\n",
              "      <script>\n",
              "        const buttonEl =\n",
              "          document.querySelector('#df-c9f4ad11-5d5a-4ca3-abdc-2e8c99f52e51 button.colab-df-convert');\n",
              "        buttonEl.style.display =\n",
              "          google.colab.kernel.accessAllowed ? 'block' : 'none';\n",
              "\n",
              "        async function convertToInteractive(key) {\n",
              "          const element = document.querySelector('#df-c9f4ad11-5d5a-4ca3-abdc-2e8c99f52e51');\n",
              "          const dataTable =\n",
              "            await google.colab.kernel.invokeFunction('convertToInteractive',\n",
              "                                                     [key], {});\n",
              "          if (!dataTable) return;\n",
              "\n",
              "          const docLinkHtml = 'Like what you see? Visit the ' +\n",
              "            '<a target=\"_blank\" href=https://colab.research.google.com/notebooks/data_table.ipynb>data table notebook</a>'\n",
              "            + ' to learn more about interactive tables.';\n",
              "          element.innerHTML = '';\n",
              "          dataTable['output_type'] = 'display_data';\n",
              "          await google.colab.output.renderOutput(dataTable, element);\n",
              "          const docLink = document.createElement('div');\n",
              "          docLink.innerHTML = docLinkHtml;\n",
              "          element.appendChild(docLink);\n",
              "        }\n",
              "      </script>\n",
              "    </div>\n",
              "  </div>\n",
              "  "
            ]
          },
          "metadata": {},
          "execution_count": 908
        }
      ]
    },
    {
      "cell_type": "code",
      "source": [
        "final_pred.rename(columns={'E_pred':'mind',\n",
        "                            'N_pred': 'energy',\n",
        "                            'T_pred': 'nature',\n",
        "                            'J_pred': 'tactics'\n",
        "                             }, \n",
        "                 inplace=True)\n",
        "\n",
        "final_pred.head()"
      ],
      "metadata": {
        "colab": {
          "base_uri": "https://localhost:8080/",
          "height": 206
        },
        "id": "TN5nhy0BVtqV",
        "outputId": "46ec51d0-e270-4749-a357-8beddfd9d0dc"
      },
      "execution_count": 909,
      "outputs": [
        {
          "output_type": "execute_result",
          "data": {
            "text/plain": [
              "                                                  lemma  mind  energy  nature  \\\n",
              "8446   adelaide labilleguiard is my favorite painter...     0       0       0   \n",
              "7566  they live in stonypoint i cant remember haha l...     0       0       0   \n",
              "8234  doctor tend to be scummy but not my issue i se...     0       0       1   \n",
              "4441  numerically i lean towards being a late s kid ...     0       0       0   \n",
              "3122  good job william i am yes to both selfinterest...     1       1       0   \n",
              "\n",
              "      tactics  \n",
              "8446        1  \n",
              "7566        0  \n",
              "8234        1  \n",
              "4441        0  \n",
              "3122        0  "
            ],
            "text/html": [
              "\n",
              "  <div id=\"df-68268ef5-e1d9-4a55-9abb-c51482f50ae9\">\n",
              "    <div class=\"colab-df-container\">\n",
              "      <div>\n",
              "<style scoped>\n",
              "    .dataframe tbody tr th:only-of-type {\n",
              "        vertical-align: middle;\n",
              "    }\n",
              "\n",
              "    .dataframe tbody tr th {\n",
              "        vertical-align: top;\n",
              "    }\n",
              "\n",
              "    .dataframe thead th {\n",
              "        text-align: right;\n",
              "    }\n",
              "</style>\n",
              "<table border=\"1\" class=\"dataframe\">\n",
              "  <thead>\n",
              "    <tr style=\"text-align: right;\">\n",
              "      <th></th>\n",
              "      <th>lemma</th>\n",
              "      <th>mind</th>\n",
              "      <th>energy</th>\n",
              "      <th>nature</th>\n",
              "      <th>tactics</th>\n",
              "    </tr>\n",
              "  </thead>\n",
              "  <tbody>\n",
              "    <tr>\n",
              "      <th>8446</th>\n",
              "      <td>adelaide labilleguiard is my favorite painter...</td>\n",
              "      <td>0</td>\n",
              "      <td>0</td>\n",
              "      <td>0</td>\n",
              "      <td>1</td>\n",
              "    </tr>\n",
              "    <tr>\n",
              "      <th>7566</th>\n",
              "      <td>they live in stonypoint i cant remember haha l...</td>\n",
              "      <td>0</td>\n",
              "      <td>0</td>\n",
              "      <td>0</td>\n",
              "      <td>0</td>\n",
              "    </tr>\n",
              "    <tr>\n",
              "      <th>8234</th>\n",
              "      <td>doctor tend to be scummy but not my issue i se...</td>\n",
              "      <td>0</td>\n",
              "      <td>0</td>\n",
              "      <td>1</td>\n",
              "      <td>1</td>\n",
              "    </tr>\n",
              "    <tr>\n",
              "      <th>4441</th>\n",
              "      <td>numerically i lean towards being a late s kid ...</td>\n",
              "      <td>0</td>\n",
              "      <td>0</td>\n",
              "      <td>0</td>\n",
              "      <td>0</td>\n",
              "    </tr>\n",
              "    <tr>\n",
              "      <th>3122</th>\n",
              "      <td>good job william i am yes to both selfinterest...</td>\n",
              "      <td>1</td>\n",
              "      <td>1</td>\n",
              "      <td>0</td>\n",
              "      <td>0</td>\n",
              "    </tr>\n",
              "  </tbody>\n",
              "</table>\n",
              "</div>\n",
              "      <button class=\"colab-df-convert\" onclick=\"convertToInteractive('df-68268ef5-e1d9-4a55-9abb-c51482f50ae9')\"\n",
              "              title=\"Convert this dataframe to an interactive table.\"\n",
              "              style=\"display:none;\">\n",
              "        \n",
              "  <svg xmlns=\"http://www.w3.org/2000/svg\" height=\"24px\"viewBox=\"0 0 24 24\"\n",
              "       width=\"24px\">\n",
              "    <path d=\"M0 0h24v24H0V0z\" fill=\"none\"/>\n",
              "    <path d=\"M18.56 5.44l.94 2.06.94-2.06 2.06-.94-2.06-.94-.94-2.06-.94 2.06-2.06.94zm-11 1L8.5 8.5l.94-2.06 2.06-.94-2.06-.94L8.5 2.5l-.94 2.06-2.06.94zm10 10l.94 2.06.94-2.06 2.06-.94-2.06-.94-.94-2.06-.94 2.06-2.06.94z\"/><path d=\"M17.41 7.96l-1.37-1.37c-.4-.4-.92-.59-1.43-.59-.52 0-1.04.2-1.43.59L10.3 9.45l-7.72 7.72c-.78.78-.78 2.05 0 2.83L4 21.41c.39.39.9.59 1.41.59.51 0 1.02-.2 1.41-.59l7.78-7.78 2.81-2.81c.8-.78.8-2.07 0-2.86zM5.41 20L4 18.59l7.72-7.72 1.47 1.35L5.41 20z\"/>\n",
              "  </svg>\n",
              "      </button>\n",
              "      \n",
              "  <style>\n",
              "    .colab-df-container {\n",
              "      display:flex;\n",
              "      flex-wrap:wrap;\n",
              "      gap: 12px;\n",
              "    }\n",
              "\n",
              "    .colab-df-convert {\n",
              "      background-color: #E8F0FE;\n",
              "      border: none;\n",
              "      border-radius: 50%;\n",
              "      cursor: pointer;\n",
              "      display: none;\n",
              "      fill: #1967D2;\n",
              "      height: 32px;\n",
              "      padding: 0 0 0 0;\n",
              "      width: 32px;\n",
              "    }\n",
              "\n",
              "    .colab-df-convert:hover {\n",
              "      background-color: #E2EBFA;\n",
              "      box-shadow: 0px 1px 2px rgba(60, 64, 67, 0.3), 0px 1px 3px 1px rgba(60, 64, 67, 0.15);\n",
              "      fill: #174EA6;\n",
              "    }\n",
              "\n",
              "    [theme=dark] .colab-df-convert {\n",
              "      background-color: #3B4455;\n",
              "      fill: #D2E3FC;\n",
              "    }\n",
              "\n",
              "    [theme=dark] .colab-df-convert:hover {\n",
              "      background-color: #434B5C;\n",
              "      box-shadow: 0px 1px 3px 1px rgba(0, 0, 0, 0.15);\n",
              "      filter: drop-shadow(0px 1px 2px rgba(0, 0, 0, 0.3));\n",
              "      fill: #FFFFFF;\n",
              "    }\n",
              "  </style>\n",
              "\n",
              "      <script>\n",
              "        const buttonEl =\n",
              "          document.querySelector('#df-68268ef5-e1d9-4a55-9abb-c51482f50ae9 button.colab-df-convert');\n",
              "        buttonEl.style.display =\n",
              "          google.colab.kernel.accessAllowed ? 'block' : 'none';\n",
              "\n",
              "        async function convertToInteractive(key) {\n",
              "          const element = document.querySelector('#df-68268ef5-e1d9-4a55-9abb-c51482f50ae9');\n",
              "          const dataTable =\n",
              "            await google.colab.kernel.invokeFunction('convertToInteractive',\n",
              "                                                     [key], {});\n",
              "          if (!dataTable) return;\n",
              "\n",
              "          const docLinkHtml = 'Like what you see? Visit the ' +\n",
              "            '<a target=\"_blank\" href=https://colab.research.google.com/notebooks/data_table.ipynb>data table notebook</a>'\n",
              "            + ' to learn more about interactive tables.';\n",
              "          element.innerHTML = '';\n",
              "          dataTable['output_type'] = 'display_data';\n",
              "          await google.colab.output.renderOutput(dataTable, element);\n",
              "          const docLink = document.createElement('div');\n",
              "          docLink.innerHTML = docLinkHtml;\n",
              "          element.appendChild(docLink);\n",
              "        }\n",
              "      </script>\n",
              "    </div>\n",
              "  </div>\n",
              "  "
            ]
          },
          "metadata": {},
          "execution_count": 909
        }
      ]
    },
    {
      "cell_type": "markdown",
      "source": [
        "####Create column for the predictions of each of the 4 chracteristics"
      ],
      "metadata": {
        "id": "YSbSG3biV4i9"
      }
    },
    {
      "cell_type": "code",
      "source": [
        "final_pred['Mind Pred'] = final_pred['mind'].map(lambda x: 'E' if x == 1 else 'I')\n",
        "final_pred['Energy Pred'] = final_pred['energy'].map(lambda x: 'N' if x == 1 else 'S')\n",
        "final_pred['Nature Pred'] = final_pred['nature'].map(lambda x: 'T' if x == 1 else 'F')\n",
        "final_pred['Tactics Pred'] = final_pred['tactics'].map(lambda x: 'J' if x == 1 else 'P')\n",
        "final_pred.head()"
      ],
      "metadata": {
        "colab": {
          "base_uri": "https://localhost:8080/",
          "height": 206
        },
        "id": "Pmz34eqmV2qY",
        "outputId": "8db29e72-aceb-42a4-fd1c-7d2e0b876e3c"
      },
      "execution_count": 910,
      "outputs": [
        {
          "output_type": "execute_result",
          "data": {
            "text/plain": [
              "                                                  lemma  mind  energy  nature  \\\n",
              "8446   adelaide labilleguiard is my favorite painter...     0       0       0   \n",
              "7566  they live in stonypoint i cant remember haha l...     0       0       0   \n",
              "8234  doctor tend to be scummy but not my issue i se...     0       0       1   \n",
              "4441  numerically i lean towards being a late s kid ...     0       0       0   \n",
              "3122  good job william i am yes to both selfinterest...     1       1       0   \n",
              "\n",
              "      tactics Mind Pred Energy Pred Nature Pred Tactics Pred  \n",
              "8446        1         I           S           F            J  \n",
              "7566        0         I           S           F            P  \n",
              "8234        1         I           S           T            J  \n",
              "4441        0         I           S           F            P  \n",
              "3122        0         E           N           F            P  "
            ],
            "text/html": [
              "\n",
              "  <div id=\"df-c5d221af-d2e9-452c-8898-11fdc06b43ef\">\n",
              "    <div class=\"colab-df-container\">\n",
              "      <div>\n",
              "<style scoped>\n",
              "    .dataframe tbody tr th:only-of-type {\n",
              "        vertical-align: middle;\n",
              "    }\n",
              "\n",
              "    .dataframe tbody tr th {\n",
              "        vertical-align: top;\n",
              "    }\n",
              "\n",
              "    .dataframe thead th {\n",
              "        text-align: right;\n",
              "    }\n",
              "</style>\n",
              "<table border=\"1\" class=\"dataframe\">\n",
              "  <thead>\n",
              "    <tr style=\"text-align: right;\">\n",
              "      <th></th>\n",
              "      <th>lemma</th>\n",
              "      <th>mind</th>\n",
              "      <th>energy</th>\n",
              "      <th>nature</th>\n",
              "      <th>tactics</th>\n",
              "      <th>Mind Pred</th>\n",
              "      <th>Energy Pred</th>\n",
              "      <th>Nature Pred</th>\n",
              "      <th>Tactics Pred</th>\n",
              "    </tr>\n",
              "  </thead>\n",
              "  <tbody>\n",
              "    <tr>\n",
              "      <th>8446</th>\n",
              "      <td>adelaide labilleguiard is my favorite painter...</td>\n",
              "      <td>0</td>\n",
              "      <td>0</td>\n",
              "      <td>0</td>\n",
              "      <td>1</td>\n",
              "      <td>I</td>\n",
              "      <td>S</td>\n",
              "      <td>F</td>\n",
              "      <td>J</td>\n",
              "    </tr>\n",
              "    <tr>\n",
              "      <th>7566</th>\n",
              "      <td>they live in stonypoint i cant remember haha l...</td>\n",
              "      <td>0</td>\n",
              "      <td>0</td>\n",
              "      <td>0</td>\n",
              "      <td>0</td>\n",
              "      <td>I</td>\n",
              "      <td>S</td>\n",
              "      <td>F</td>\n",
              "      <td>P</td>\n",
              "    </tr>\n",
              "    <tr>\n",
              "      <th>8234</th>\n",
              "      <td>doctor tend to be scummy but not my issue i se...</td>\n",
              "      <td>0</td>\n",
              "      <td>0</td>\n",
              "      <td>1</td>\n",
              "      <td>1</td>\n",
              "      <td>I</td>\n",
              "      <td>S</td>\n",
              "      <td>T</td>\n",
              "      <td>J</td>\n",
              "    </tr>\n",
              "    <tr>\n",
              "      <th>4441</th>\n",
              "      <td>numerically i lean towards being a late s kid ...</td>\n",
              "      <td>0</td>\n",
              "      <td>0</td>\n",
              "      <td>0</td>\n",
              "      <td>0</td>\n",
              "      <td>I</td>\n",
              "      <td>S</td>\n",
              "      <td>F</td>\n",
              "      <td>P</td>\n",
              "    </tr>\n",
              "    <tr>\n",
              "      <th>3122</th>\n",
              "      <td>good job william i am yes to both selfinterest...</td>\n",
              "      <td>1</td>\n",
              "      <td>1</td>\n",
              "      <td>0</td>\n",
              "      <td>0</td>\n",
              "      <td>E</td>\n",
              "      <td>N</td>\n",
              "      <td>F</td>\n",
              "      <td>P</td>\n",
              "    </tr>\n",
              "  </tbody>\n",
              "</table>\n",
              "</div>\n",
              "      <button class=\"colab-df-convert\" onclick=\"convertToInteractive('df-c5d221af-d2e9-452c-8898-11fdc06b43ef')\"\n",
              "              title=\"Convert this dataframe to an interactive table.\"\n",
              "              style=\"display:none;\">\n",
              "        \n",
              "  <svg xmlns=\"http://www.w3.org/2000/svg\" height=\"24px\"viewBox=\"0 0 24 24\"\n",
              "       width=\"24px\">\n",
              "    <path d=\"M0 0h24v24H0V0z\" fill=\"none\"/>\n",
              "    <path d=\"M18.56 5.44l.94 2.06.94-2.06 2.06-.94-2.06-.94-.94-2.06-.94 2.06-2.06.94zm-11 1L8.5 8.5l.94-2.06 2.06-.94-2.06-.94L8.5 2.5l-.94 2.06-2.06.94zm10 10l.94 2.06.94-2.06 2.06-.94-2.06-.94-.94-2.06-.94 2.06-2.06.94z\"/><path d=\"M17.41 7.96l-1.37-1.37c-.4-.4-.92-.59-1.43-.59-.52 0-1.04.2-1.43.59L10.3 9.45l-7.72 7.72c-.78.78-.78 2.05 0 2.83L4 21.41c.39.39.9.59 1.41.59.51 0 1.02-.2 1.41-.59l7.78-7.78 2.81-2.81c.8-.78.8-2.07 0-2.86zM5.41 20L4 18.59l7.72-7.72 1.47 1.35L5.41 20z\"/>\n",
              "  </svg>\n",
              "      </button>\n",
              "      \n",
              "  <style>\n",
              "    .colab-df-container {\n",
              "      display:flex;\n",
              "      flex-wrap:wrap;\n",
              "      gap: 12px;\n",
              "    }\n",
              "\n",
              "    .colab-df-convert {\n",
              "      background-color: #E8F0FE;\n",
              "      border: none;\n",
              "      border-radius: 50%;\n",
              "      cursor: pointer;\n",
              "      display: none;\n",
              "      fill: #1967D2;\n",
              "      height: 32px;\n",
              "      padding: 0 0 0 0;\n",
              "      width: 32px;\n",
              "    }\n",
              "\n",
              "    .colab-df-convert:hover {\n",
              "      background-color: #E2EBFA;\n",
              "      box-shadow: 0px 1px 2px rgba(60, 64, 67, 0.3), 0px 1px 3px 1px rgba(60, 64, 67, 0.15);\n",
              "      fill: #174EA6;\n",
              "    }\n",
              "\n",
              "    [theme=dark] .colab-df-convert {\n",
              "      background-color: #3B4455;\n",
              "      fill: #D2E3FC;\n",
              "    }\n",
              "\n",
              "    [theme=dark] .colab-df-convert:hover {\n",
              "      background-color: #434B5C;\n",
              "      box-shadow: 0px 1px 3px 1px rgba(0, 0, 0, 0.15);\n",
              "      filter: drop-shadow(0px 1px 2px rgba(0, 0, 0, 0.3));\n",
              "      fill: #FFFFFF;\n",
              "    }\n",
              "  </style>\n",
              "\n",
              "      <script>\n",
              "        const buttonEl =\n",
              "          document.querySelector('#df-c5d221af-d2e9-452c-8898-11fdc06b43ef button.colab-df-convert');\n",
              "        buttonEl.style.display =\n",
              "          google.colab.kernel.accessAllowed ? 'block' : 'none';\n",
              "\n",
              "        async function convertToInteractive(key) {\n",
              "          const element = document.querySelector('#df-c5d221af-d2e9-452c-8898-11fdc06b43ef');\n",
              "          const dataTable =\n",
              "            await google.colab.kernel.invokeFunction('convertToInteractive',\n",
              "                                                     [key], {});\n",
              "          if (!dataTable) return;\n",
              "\n",
              "          const docLinkHtml = 'Like what you see? Visit the ' +\n",
              "            '<a target=\"_blank\" href=https://colab.research.google.com/notebooks/data_table.ipynb>data table notebook</a>'\n",
              "            + ' to learn more about interactive tables.';\n",
              "          element.innerHTML = '';\n",
              "          dataTable['output_type'] = 'display_data';\n",
              "          await google.colab.output.renderOutput(dataTable, element);\n",
              "          const docLink = document.createElement('div');\n",
              "          docLink.innerHTML = docLinkHtml;\n",
              "          element.appendChild(docLink);\n",
              "        }\n",
              "      </script>\n",
              "    </div>\n",
              "  </div>\n",
              "  "
            ]
          },
          "metadata": {},
          "execution_count": 910
        }
      ]
    },
    {
      "cell_type": "code",
      "source": [
        "final_pred['Personality Pred'] = final_pred['Mind Pred'] + final_pred['Energy Pred'] + final_pred['Nature Pred']+ final_pred['Tactics Pred']"
      ],
      "metadata": {
        "id": "YZ4H3uC0WCVx"
      },
      "execution_count": 911,
      "outputs": []
    },
    {
      "cell_type": "code",
      "source": [
        "final_pred.head()"
      ],
      "metadata": {
        "colab": {
          "base_uri": "https://localhost:8080/",
          "height": 206
        },
        "id": "EOvoWyhbWC8V",
        "outputId": "e7242cc4-2f9e-4d98-b936-6ce7b5c605f6"
      },
      "execution_count": 912,
      "outputs": [
        {
          "output_type": "execute_result",
          "data": {
            "text/plain": [
              "                                                  lemma  mind  energy  nature  \\\n",
              "8446   adelaide labilleguiard is my favorite painter...     0       0       0   \n",
              "7566  they live in stonypoint i cant remember haha l...     0       0       0   \n",
              "8234  doctor tend to be scummy but not my issue i se...     0       0       1   \n",
              "4441  numerically i lean towards being a late s kid ...     0       0       0   \n",
              "3122  good job william i am yes to both selfinterest...     1       1       0   \n",
              "\n",
              "      tactics Mind Pred Energy Pred Nature Pred Tactics Pred Personality Pred  \n",
              "8446        1         I           S           F            J             ISFJ  \n",
              "7566        0         I           S           F            P             ISFP  \n",
              "8234        1         I           S           T            J             ISTJ  \n",
              "4441        0         I           S           F            P             ISFP  \n",
              "3122        0         E           N           F            P             ENFP  "
            ],
            "text/html": [
              "\n",
              "  <div id=\"df-791c5adc-612a-47d3-a775-60fa05b47604\">\n",
              "    <div class=\"colab-df-container\">\n",
              "      <div>\n",
              "<style scoped>\n",
              "    .dataframe tbody tr th:only-of-type {\n",
              "        vertical-align: middle;\n",
              "    }\n",
              "\n",
              "    .dataframe tbody tr th {\n",
              "        vertical-align: top;\n",
              "    }\n",
              "\n",
              "    .dataframe thead th {\n",
              "        text-align: right;\n",
              "    }\n",
              "</style>\n",
              "<table border=\"1\" class=\"dataframe\">\n",
              "  <thead>\n",
              "    <tr style=\"text-align: right;\">\n",
              "      <th></th>\n",
              "      <th>lemma</th>\n",
              "      <th>mind</th>\n",
              "      <th>energy</th>\n",
              "      <th>nature</th>\n",
              "      <th>tactics</th>\n",
              "      <th>Mind Pred</th>\n",
              "      <th>Energy Pred</th>\n",
              "      <th>Nature Pred</th>\n",
              "      <th>Tactics Pred</th>\n",
              "      <th>Personality Pred</th>\n",
              "    </tr>\n",
              "  </thead>\n",
              "  <tbody>\n",
              "    <tr>\n",
              "      <th>8446</th>\n",
              "      <td>adelaide labilleguiard is my favorite painter...</td>\n",
              "      <td>0</td>\n",
              "      <td>0</td>\n",
              "      <td>0</td>\n",
              "      <td>1</td>\n",
              "      <td>I</td>\n",
              "      <td>S</td>\n",
              "      <td>F</td>\n",
              "      <td>J</td>\n",
              "      <td>ISFJ</td>\n",
              "    </tr>\n",
              "    <tr>\n",
              "      <th>7566</th>\n",
              "      <td>they live in stonypoint i cant remember haha l...</td>\n",
              "      <td>0</td>\n",
              "      <td>0</td>\n",
              "      <td>0</td>\n",
              "      <td>0</td>\n",
              "      <td>I</td>\n",
              "      <td>S</td>\n",
              "      <td>F</td>\n",
              "      <td>P</td>\n",
              "      <td>ISFP</td>\n",
              "    </tr>\n",
              "    <tr>\n",
              "      <th>8234</th>\n",
              "      <td>doctor tend to be scummy but not my issue i se...</td>\n",
              "      <td>0</td>\n",
              "      <td>0</td>\n",
              "      <td>1</td>\n",
              "      <td>1</td>\n",
              "      <td>I</td>\n",
              "      <td>S</td>\n",
              "      <td>T</td>\n",
              "      <td>J</td>\n",
              "      <td>ISTJ</td>\n",
              "    </tr>\n",
              "    <tr>\n",
              "      <th>4441</th>\n",
              "      <td>numerically i lean towards being a late s kid ...</td>\n",
              "      <td>0</td>\n",
              "      <td>0</td>\n",
              "      <td>0</td>\n",
              "      <td>0</td>\n",
              "      <td>I</td>\n",
              "      <td>S</td>\n",
              "      <td>F</td>\n",
              "      <td>P</td>\n",
              "      <td>ISFP</td>\n",
              "    </tr>\n",
              "    <tr>\n",
              "      <th>3122</th>\n",
              "      <td>good job william i am yes to both selfinterest...</td>\n",
              "      <td>1</td>\n",
              "      <td>1</td>\n",
              "      <td>0</td>\n",
              "      <td>0</td>\n",
              "      <td>E</td>\n",
              "      <td>N</td>\n",
              "      <td>F</td>\n",
              "      <td>P</td>\n",
              "      <td>ENFP</td>\n",
              "    </tr>\n",
              "  </tbody>\n",
              "</table>\n",
              "</div>\n",
              "      <button class=\"colab-df-convert\" onclick=\"convertToInteractive('df-791c5adc-612a-47d3-a775-60fa05b47604')\"\n",
              "              title=\"Convert this dataframe to an interactive table.\"\n",
              "              style=\"display:none;\">\n",
              "        \n",
              "  <svg xmlns=\"http://www.w3.org/2000/svg\" height=\"24px\"viewBox=\"0 0 24 24\"\n",
              "       width=\"24px\">\n",
              "    <path d=\"M0 0h24v24H0V0z\" fill=\"none\"/>\n",
              "    <path d=\"M18.56 5.44l.94 2.06.94-2.06 2.06-.94-2.06-.94-.94-2.06-.94 2.06-2.06.94zm-11 1L8.5 8.5l.94-2.06 2.06-.94-2.06-.94L8.5 2.5l-.94 2.06-2.06.94zm10 10l.94 2.06.94-2.06 2.06-.94-2.06-.94-.94-2.06-.94 2.06-2.06.94z\"/><path d=\"M17.41 7.96l-1.37-1.37c-.4-.4-.92-.59-1.43-.59-.52 0-1.04.2-1.43.59L10.3 9.45l-7.72 7.72c-.78.78-.78 2.05 0 2.83L4 21.41c.39.39.9.59 1.41.59.51 0 1.02-.2 1.41-.59l7.78-7.78 2.81-2.81c.8-.78.8-2.07 0-2.86zM5.41 20L4 18.59l7.72-7.72 1.47 1.35L5.41 20z\"/>\n",
              "  </svg>\n",
              "      </button>\n",
              "      \n",
              "  <style>\n",
              "    .colab-df-container {\n",
              "      display:flex;\n",
              "      flex-wrap:wrap;\n",
              "      gap: 12px;\n",
              "    }\n",
              "\n",
              "    .colab-df-convert {\n",
              "      background-color: #E8F0FE;\n",
              "      border: none;\n",
              "      border-radius: 50%;\n",
              "      cursor: pointer;\n",
              "      display: none;\n",
              "      fill: #1967D2;\n",
              "      height: 32px;\n",
              "      padding: 0 0 0 0;\n",
              "      width: 32px;\n",
              "    }\n",
              "\n",
              "    .colab-df-convert:hover {\n",
              "      background-color: #E2EBFA;\n",
              "      box-shadow: 0px 1px 2px rgba(60, 64, 67, 0.3), 0px 1px 3px 1px rgba(60, 64, 67, 0.15);\n",
              "      fill: #174EA6;\n",
              "    }\n",
              "\n",
              "    [theme=dark] .colab-df-convert {\n",
              "      background-color: #3B4455;\n",
              "      fill: #D2E3FC;\n",
              "    }\n",
              "\n",
              "    [theme=dark] .colab-df-convert:hover {\n",
              "      background-color: #434B5C;\n",
              "      box-shadow: 0px 1px 3px 1px rgba(0, 0, 0, 0.15);\n",
              "      filter: drop-shadow(0px 1px 2px rgba(0, 0, 0, 0.3));\n",
              "      fill: #FFFFFF;\n",
              "    }\n",
              "  </style>\n",
              "\n",
              "      <script>\n",
              "        const buttonEl =\n",
              "          document.querySelector('#df-791c5adc-612a-47d3-a775-60fa05b47604 button.colab-df-convert');\n",
              "        buttonEl.style.display =\n",
              "          google.colab.kernel.accessAllowed ? 'block' : 'none';\n",
              "\n",
              "        async function convertToInteractive(key) {\n",
              "          const element = document.querySelector('#df-791c5adc-612a-47d3-a775-60fa05b47604');\n",
              "          const dataTable =\n",
              "            await google.colab.kernel.invokeFunction('convertToInteractive',\n",
              "                                                     [key], {});\n",
              "          if (!dataTable) return;\n",
              "\n",
              "          const docLinkHtml = 'Like what you see? Visit the ' +\n",
              "            '<a target=\"_blank\" href=https://colab.research.google.com/notebooks/data_table.ipynb>data table notebook</a>'\n",
              "            + ' to learn more about interactive tables.';\n",
              "          element.innerHTML = '';\n",
              "          dataTable['output_type'] = 'display_data';\n",
              "          await google.colab.output.renderOutput(dataTable, element);\n",
              "          const docLink = document.createElement('div');\n",
              "          docLink.innerHTML = docLinkHtml;\n",
              "          element.appendChild(docLink);\n",
              "        }\n",
              "      </script>\n",
              "    </div>\n",
              "  </div>\n",
              "  "
            ]
          },
          "metadata": {},
          "execution_count": 912
        }
      ]
    },
    {
      "cell_type": "markdown",
      "source": [
        "###Plots for final predicted data"
      ],
      "metadata": {
        "id": "wjs4E5X2W85G"
      }
    },
    {
      "cell_type": "code",
      "source": [
        "dims1 = (15.0, 4.0)\n",
        "fig, ax = plt.subplots(figsize=dims1)\n",
        "cmrmap = sns.color_palette('CMRmap', 16)\n",
        "sns.set_palette(cmrmap)\n",
        "sns.countplot(x='Personality Pred', data=final_pred,\\\n",
        "              order=['ENFJ','ENFP','ENTJ','ENTP','ESFJ','ESFP','ESTJ','ESTP',\\\n",
        "                    'INFJ','INFP','INTJ','INTP','ISFJ','ISFP','ISTJ','ISTP'])\n",
        "plt.title('Distribution Personality Types in the test Dataset', fontsize=16)\n",
        "plt.xlabel('Personality Type')\n",
        "plt.ylabel('Count of Posts')\n",
        "plt.xticks(fontsize=12)\n",
        "plt.yticks(fontsize=12)\n",
        "plt.show()"
      ],
      "metadata": {
        "colab": {
          "base_uri": "https://localhost:8080/",
          "height": 300
        },
        "id": "7qFJdghrW-jF",
        "outputId": "9d242b63-c33d-44c0-e6dd-f144e85f504b"
      },
      "execution_count": 915,
      "outputs": [
        {
          "output_type": "display_data",
          "data": {
            "text/plain": [
              "<Figure size 1080x288 with 1 Axes>"
            ],
            "image/png": "[encoded data removed]"
          },
          "metadata": {
            "needs_background": "light"
          }
        }
      ]
    }
  ]
}